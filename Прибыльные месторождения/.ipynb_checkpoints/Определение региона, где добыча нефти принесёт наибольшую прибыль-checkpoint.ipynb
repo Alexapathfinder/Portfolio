{
 "cells": [
  {
   "cell_type": "markdown",
   "metadata": {},
   "source": [
    "# 1. Предобработка данных"
   ]
  },
  {
   "cell_type": "code",
   "execution_count": 1,
   "metadata": {},
   "outputs": [],
   "source": [
    "import pandas as pd\n",
    "import numpy as np\n",
    "import seaborn as sns\n",
    "import matplotlib.pyplot as plt"
   ]
  },
  {
   "cell_type": "code",
   "execution_count": 2,
   "metadata": {},
   "outputs": [],
   "source": [
    "from sklearn.model_selection import train_test_split\n",
    "from sklearn.linear_model import LinearRegression\n",
    "from sklearn.metrics import mean_squared_error\n",
    "from scipy import stats as st"
   ]
  },
  {
   "cell_type": "code",
   "execution_count": 3,
   "metadata": {},
   "outputs": [
    {
     "data": {
      "text/html": [
       "<div>\n",
       "<style scoped>\n",
       "    .dataframe tbody tr th:only-of-type {\n",
       "        vertical-align: middle;\n",
       "    }\n",
       "\n",
       "    .dataframe tbody tr th {\n",
       "        vertical-align: top;\n",
       "    }\n",
       "\n",
       "    .dataframe thead th {\n",
       "        text-align: right;\n",
       "    }\n",
       "</style>\n",
       "<table border=\"1\" class=\"dataframe\">\n",
       "  <thead>\n",
       "    <tr style=\"text-align: right;\">\n",
       "      <th></th>\n",
       "      <th>id</th>\n",
       "      <th>f0</th>\n",
       "      <th>f1</th>\n",
       "      <th>f2</th>\n",
       "      <th>product</th>\n",
       "    </tr>\n",
       "  </thead>\n",
       "  <tbody>\n",
       "    <tr>\n",
       "      <td>0</td>\n",
       "      <td>txEyH</td>\n",
       "      <td>0.705745</td>\n",
       "      <td>-0.497823</td>\n",
       "      <td>1.221170</td>\n",
       "      <td>105.280062</td>\n",
       "    </tr>\n",
       "    <tr>\n",
       "      <td>1</td>\n",
       "      <td>2acmU</td>\n",
       "      <td>1.334711</td>\n",
       "      <td>-0.340164</td>\n",
       "      <td>4.365080</td>\n",
       "      <td>73.037750</td>\n",
       "    </tr>\n",
       "    <tr>\n",
       "      <td>2</td>\n",
       "      <td>409Wp</td>\n",
       "      <td>1.022732</td>\n",
       "      <td>0.151990</td>\n",
       "      <td>1.419926</td>\n",
       "      <td>85.265647</td>\n",
       "    </tr>\n",
       "    <tr>\n",
       "      <td>3</td>\n",
       "      <td>iJLyR</td>\n",
       "      <td>-0.032172</td>\n",
       "      <td>0.139033</td>\n",
       "      <td>2.978566</td>\n",
       "      <td>168.620776</td>\n",
       "    </tr>\n",
       "    <tr>\n",
       "      <td>4</td>\n",
       "      <td>Xdl7t</td>\n",
       "      <td>1.988431</td>\n",
       "      <td>0.155413</td>\n",
       "      <td>4.751769</td>\n",
       "      <td>154.036647</td>\n",
       "    </tr>\n",
       "    <tr>\n",
       "      <td>...</td>\n",
       "      <td>...</td>\n",
       "      <td>...</td>\n",
       "      <td>...</td>\n",
       "      <td>...</td>\n",
       "      <td>...</td>\n",
       "    </tr>\n",
       "    <tr>\n",
       "      <td>99995</td>\n",
       "      <td>DLsed</td>\n",
       "      <td>0.971957</td>\n",
       "      <td>0.370953</td>\n",
       "      <td>6.075346</td>\n",
       "      <td>110.744026</td>\n",
       "    </tr>\n",
       "    <tr>\n",
       "      <td>99996</td>\n",
       "      <td>QKivN</td>\n",
       "      <td>1.392429</td>\n",
       "      <td>-0.382606</td>\n",
       "      <td>1.273912</td>\n",
       "      <td>122.346843</td>\n",
       "    </tr>\n",
       "    <tr>\n",
       "      <td>99997</td>\n",
       "      <td>3rnvd</td>\n",
       "      <td>1.029585</td>\n",
       "      <td>0.018787</td>\n",
       "      <td>-1.348308</td>\n",
       "      <td>64.375443</td>\n",
       "    </tr>\n",
       "    <tr>\n",
       "      <td>99998</td>\n",
       "      <td>7kl59</td>\n",
       "      <td>0.998163</td>\n",
       "      <td>-0.528582</td>\n",
       "      <td>1.583869</td>\n",
       "      <td>74.040764</td>\n",
       "    </tr>\n",
       "    <tr>\n",
       "      <td>99999</td>\n",
       "      <td>1CWhH</td>\n",
       "      <td>1.764754</td>\n",
       "      <td>-0.266417</td>\n",
       "      <td>5.722849</td>\n",
       "      <td>149.633246</td>\n",
       "    </tr>\n",
       "  </tbody>\n",
       "</table>\n",
       "<p>100000 rows × 5 columns</p>\n",
       "</div>"
      ],
      "text/plain": [
       "          id        f0        f1        f2     product\n",
       "0      txEyH  0.705745 -0.497823  1.221170  105.280062\n",
       "1      2acmU  1.334711 -0.340164  4.365080   73.037750\n",
       "2      409Wp  1.022732  0.151990  1.419926   85.265647\n",
       "3      iJLyR -0.032172  0.139033  2.978566  168.620776\n",
       "4      Xdl7t  1.988431  0.155413  4.751769  154.036647\n",
       "...      ...       ...       ...       ...         ...\n",
       "99995  DLsed  0.971957  0.370953  6.075346  110.744026\n",
       "99996  QKivN  1.392429 -0.382606  1.273912  122.346843\n",
       "99997  3rnvd  1.029585  0.018787 -1.348308   64.375443\n",
       "99998  7kl59  0.998163 -0.528582  1.583869   74.040764\n",
       "99999  1CWhH  1.764754 -0.266417  5.722849  149.633246\n",
       "\n",
       "[100000 rows x 5 columns]"
      ]
     },
     "execution_count": 3,
     "metadata": {},
     "output_type": "execute_result"
    }
   ],
   "source": [
    "geo_0 = pd.read_csv('/datasets/geo_data_0.csv')\n",
    "geo_0"
   ]
  },
  {
   "cell_type": "code",
   "execution_count": 4,
   "metadata": {},
   "outputs": [
    {
     "data": {
      "text/html": [
       "<div>\n",
       "<style scoped>\n",
       "    .dataframe tbody tr th:only-of-type {\n",
       "        vertical-align: middle;\n",
       "    }\n",
       "\n",
       "    .dataframe tbody tr th {\n",
       "        vertical-align: top;\n",
       "    }\n",
       "\n",
       "    .dataframe thead th {\n",
       "        text-align: right;\n",
       "    }\n",
       "</style>\n",
       "<table border=\"1\" class=\"dataframe\">\n",
       "  <thead>\n",
       "    <tr style=\"text-align: right;\">\n",
       "      <th></th>\n",
       "      <th>id</th>\n",
       "      <th>f0</th>\n",
       "      <th>f1</th>\n",
       "      <th>f2</th>\n",
       "      <th>product</th>\n",
       "    </tr>\n",
       "  </thead>\n",
       "  <tbody>\n",
       "    <tr>\n",
       "      <td>0</td>\n",
       "      <td>kBEdx</td>\n",
       "      <td>-15.001348</td>\n",
       "      <td>-8.276000</td>\n",
       "      <td>-0.005876</td>\n",
       "      <td>3.179103</td>\n",
       "    </tr>\n",
       "    <tr>\n",
       "      <td>1</td>\n",
       "      <td>62mP7</td>\n",
       "      <td>14.272088</td>\n",
       "      <td>-3.475083</td>\n",
       "      <td>0.999183</td>\n",
       "      <td>26.953261</td>\n",
       "    </tr>\n",
       "    <tr>\n",
       "      <td>2</td>\n",
       "      <td>vyE1P</td>\n",
       "      <td>6.263187</td>\n",
       "      <td>-5.948386</td>\n",
       "      <td>5.001160</td>\n",
       "      <td>134.766305</td>\n",
       "    </tr>\n",
       "    <tr>\n",
       "      <td>3</td>\n",
       "      <td>KcrkZ</td>\n",
       "      <td>-13.081196</td>\n",
       "      <td>-11.506057</td>\n",
       "      <td>4.999415</td>\n",
       "      <td>137.945408</td>\n",
       "    </tr>\n",
       "    <tr>\n",
       "      <td>4</td>\n",
       "      <td>AHL4O</td>\n",
       "      <td>12.702195</td>\n",
       "      <td>-8.147433</td>\n",
       "      <td>5.004363</td>\n",
       "      <td>134.766305</td>\n",
       "    </tr>\n",
       "    <tr>\n",
       "      <td>...</td>\n",
       "      <td>...</td>\n",
       "      <td>...</td>\n",
       "      <td>...</td>\n",
       "      <td>...</td>\n",
       "      <td>...</td>\n",
       "    </tr>\n",
       "    <tr>\n",
       "      <td>99995</td>\n",
       "      <td>QywKC</td>\n",
       "      <td>9.535637</td>\n",
       "      <td>-6.878139</td>\n",
       "      <td>1.998296</td>\n",
       "      <td>53.906522</td>\n",
       "    </tr>\n",
       "    <tr>\n",
       "      <td>99996</td>\n",
       "      <td>ptvty</td>\n",
       "      <td>-10.160631</td>\n",
       "      <td>-12.558096</td>\n",
       "      <td>5.005581</td>\n",
       "      <td>137.945408</td>\n",
       "    </tr>\n",
       "    <tr>\n",
       "      <td>99997</td>\n",
       "      <td>09gWa</td>\n",
       "      <td>-7.378891</td>\n",
       "      <td>-3.084104</td>\n",
       "      <td>4.998651</td>\n",
       "      <td>137.945408</td>\n",
       "    </tr>\n",
       "    <tr>\n",
       "      <td>99998</td>\n",
       "      <td>rqwUm</td>\n",
       "      <td>0.665714</td>\n",
       "      <td>-6.152593</td>\n",
       "      <td>1.000146</td>\n",
       "      <td>30.132364</td>\n",
       "    </tr>\n",
       "    <tr>\n",
       "      <td>99999</td>\n",
       "      <td>relB0</td>\n",
       "      <td>-3.426139</td>\n",
       "      <td>-7.794274</td>\n",
       "      <td>-0.003299</td>\n",
       "      <td>3.179103</td>\n",
       "    </tr>\n",
       "  </tbody>\n",
       "</table>\n",
       "<p>100000 rows × 5 columns</p>\n",
       "</div>"
      ],
      "text/plain": [
       "          id         f0         f1        f2     product\n",
       "0      kBEdx -15.001348  -8.276000 -0.005876    3.179103\n",
       "1      62mP7  14.272088  -3.475083  0.999183   26.953261\n",
       "2      vyE1P   6.263187  -5.948386  5.001160  134.766305\n",
       "3      KcrkZ -13.081196 -11.506057  4.999415  137.945408\n",
       "4      AHL4O  12.702195  -8.147433  5.004363  134.766305\n",
       "...      ...        ...        ...       ...         ...\n",
       "99995  QywKC   9.535637  -6.878139  1.998296   53.906522\n",
       "99996  ptvty -10.160631 -12.558096  5.005581  137.945408\n",
       "99997  09gWa  -7.378891  -3.084104  4.998651  137.945408\n",
       "99998  rqwUm   0.665714  -6.152593  1.000146   30.132364\n",
       "99999  relB0  -3.426139  -7.794274 -0.003299    3.179103\n",
       "\n",
       "[100000 rows x 5 columns]"
      ]
     },
     "execution_count": 4,
     "metadata": {},
     "output_type": "execute_result"
    }
   ],
   "source": [
    "geo_1 = pd.read_csv('/datasets/geo_data_1.csv')\n",
    "geo_1"
   ]
  },
  {
   "cell_type": "code",
   "execution_count": 5,
   "metadata": {},
   "outputs": [
    {
     "data": {
      "text/html": [
       "<div>\n",
       "<style scoped>\n",
       "    .dataframe tbody tr th:only-of-type {\n",
       "        vertical-align: middle;\n",
       "    }\n",
       "\n",
       "    .dataframe tbody tr th {\n",
       "        vertical-align: top;\n",
       "    }\n",
       "\n",
       "    .dataframe thead th {\n",
       "        text-align: right;\n",
       "    }\n",
       "</style>\n",
       "<table border=\"1\" class=\"dataframe\">\n",
       "  <thead>\n",
       "    <tr style=\"text-align: right;\">\n",
       "      <th></th>\n",
       "      <th>id</th>\n",
       "      <th>f0</th>\n",
       "      <th>f1</th>\n",
       "      <th>f2</th>\n",
       "      <th>product</th>\n",
       "    </tr>\n",
       "  </thead>\n",
       "  <tbody>\n",
       "    <tr>\n",
       "      <td>0</td>\n",
       "      <td>fwXo0</td>\n",
       "      <td>-1.146987</td>\n",
       "      <td>0.963328</td>\n",
       "      <td>-0.828965</td>\n",
       "      <td>27.758673</td>\n",
       "    </tr>\n",
       "    <tr>\n",
       "      <td>1</td>\n",
       "      <td>WJtFt</td>\n",
       "      <td>0.262778</td>\n",
       "      <td>0.269839</td>\n",
       "      <td>-2.530187</td>\n",
       "      <td>56.069697</td>\n",
       "    </tr>\n",
       "    <tr>\n",
       "      <td>2</td>\n",
       "      <td>ovLUW</td>\n",
       "      <td>0.194587</td>\n",
       "      <td>0.289035</td>\n",
       "      <td>-5.586433</td>\n",
       "      <td>62.871910</td>\n",
       "    </tr>\n",
       "    <tr>\n",
       "      <td>3</td>\n",
       "      <td>q6cA6</td>\n",
       "      <td>2.236060</td>\n",
       "      <td>-0.553760</td>\n",
       "      <td>0.930038</td>\n",
       "      <td>114.572842</td>\n",
       "    </tr>\n",
       "    <tr>\n",
       "      <td>4</td>\n",
       "      <td>WPMUX</td>\n",
       "      <td>-0.515993</td>\n",
       "      <td>1.716266</td>\n",
       "      <td>5.899011</td>\n",
       "      <td>149.600746</td>\n",
       "    </tr>\n",
       "    <tr>\n",
       "      <td>...</td>\n",
       "      <td>...</td>\n",
       "      <td>...</td>\n",
       "      <td>...</td>\n",
       "      <td>...</td>\n",
       "      <td>...</td>\n",
       "    </tr>\n",
       "    <tr>\n",
       "      <td>99995</td>\n",
       "      <td>4GxBu</td>\n",
       "      <td>-1.777037</td>\n",
       "      <td>1.125220</td>\n",
       "      <td>6.263374</td>\n",
       "      <td>172.327046</td>\n",
       "    </tr>\n",
       "    <tr>\n",
       "      <td>99996</td>\n",
       "      <td>YKFjq</td>\n",
       "      <td>-1.261523</td>\n",
       "      <td>-0.894828</td>\n",
       "      <td>2.524545</td>\n",
       "      <td>138.748846</td>\n",
       "    </tr>\n",
       "    <tr>\n",
       "      <td>99997</td>\n",
       "      <td>tKPY3</td>\n",
       "      <td>-1.199934</td>\n",
       "      <td>-2.957637</td>\n",
       "      <td>5.219411</td>\n",
       "      <td>157.080080</td>\n",
       "    </tr>\n",
       "    <tr>\n",
       "      <td>99998</td>\n",
       "      <td>nmxp2</td>\n",
       "      <td>-2.419896</td>\n",
       "      <td>2.417221</td>\n",
       "      <td>-5.548444</td>\n",
       "      <td>51.795253</td>\n",
       "    </tr>\n",
       "    <tr>\n",
       "      <td>99999</td>\n",
       "      <td>V9kWn</td>\n",
       "      <td>-2.551421</td>\n",
       "      <td>-2.025625</td>\n",
       "      <td>6.090891</td>\n",
       "      <td>102.775767</td>\n",
       "    </tr>\n",
       "  </tbody>\n",
       "</table>\n",
       "<p>100000 rows × 5 columns</p>\n",
       "</div>"
      ],
      "text/plain": [
       "          id        f0        f1        f2     product\n",
       "0      fwXo0 -1.146987  0.963328 -0.828965   27.758673\n",
       "1      WJtFt  0.262778  0.269839 -2.530187   56.069697\n",
       "2      ovLUW  0.194587  0.289035 -5.586433   62.871910\n",
       "3      q6cA6  2.236060 -0.553760  0.930038  114.572842\n",
       "4      WPMUX -0.515993  1.716266  5.899011  149.600746\n",
       "...      ...       ...       ...       ...         ...\n",
       "99995  4GxBu -1.777037  1.125220  6.263374  172.327046\n",
       "99996  YKFjq -1.261523 -0.894828  2.524545  138.748846\n",
       "99997  tKPY3 -1.199934 -2.957637  5.219411  157.080080\n",
       "99998  nmxp2 -2.419896  2.417221 -5.548444   51.795253\n",
       "99999  V9kWn -2.551421 -2.025625  6.090891  102.775767\n",
       "\n",
       "[100000 rows x 5 columns]"
      ]
     },
     "execution_count": 5,
     "metadata": {},
     "output_type": "execute_result"
    }
   ],
   "source": [
    "geo_2 = pd.read_csv('/datasets/geo_data_2.csv')\n",
    "geo_2"
   ]
  },
  {
   "cell_type": "code",
   "execution_count": 6,
   "metadata": {},
   "outputs": [
    {
     "name": "stdout",
     "output_type": "stream",
     "text": [
      "<class 'pandas.core.frame.DataFrame'>\n",
      "RangeIndex: 100000 entries, 0 to 99999\n",
      "Data columns (total 5 columns):\n",
      "id         100000 non-null object\n",
      "f0         100000 non-null float64\n",
      "f1         100000 non-null float64\n",
      "f2         100000 non-null float64\n",
      "product    100000 non-null float64\n",
      "dtypes: float64(4), object(1)\n",
      "memory usage: 3.8+ MB\n"
     ]
    }
   ],
   "source": [
    "geo_0.info()"
   ]
  },
  {
   "cell_type": "code",
   "execution_count": 7,
   "metadata": {},
   "outputs": [
    {
     "name": "stdout",
     "output_type": "stream",
     "text": [
      "<class 'pandas.core.frame.DataFrame'>\n",
      "RangeIndex: 100000 entries, 0 to 99999\n",
      "Data columns (total 5 columns):\n",
      "id         100000 non-null object\n",
      "f0         100000 non-null float64\n",
      "f1         100000 non-null float64\n",
      "f2         100000 non-null float64\n",
      "product    100000 non-null float64\n",
      "dtypes: float64(4), object(1)\n",
      "memory usage: 3.8+ MB\n"
     ]
    }
   ],
   "source": [
    "geo_1.info()"
   ]
  },
  {
   "cell_type": "code",
   "execution_count": 8,
   "metadata": {},
   "outputs": [
    {
     "name": "stdout",
     "output_type": "stream",
     "text": [
      "<class 'pandas.core.frame.DataFrame'>\n",
      "RangeIndex: 100000 entries, 0 to 99999\n",
      "Data columns (total 5 columns):\n",
      "id         100000 non-null object\n",
      "f0         100000 non-null float64\n",
      "f1         100000 non-null float64\n",
      "f2         100000 non-null float64\n",
      "product    100000 non-null float64\n",
      "dtypes: float64(4), object(1)\n",
      "memory usage: 3.8+ MB\n"
     ]
    }
   ],
   "source": [
    "geo_2.info()"
   ]
  },
  {
   "cell_type": "markdown",
   "metadata": {},
   "source": [
    "Согласно общей информации пропусков нет."
   ]
  },
  {
   "cell_type": "code",
   "execution_count": 9,
   "metadata": {},
   "outputs": [
    {
     "name": "stdout",
     "output_type": "stream",
     "text": [
      "99990\n",
      "99996\n",
      "99996\n"
     ]
    }
   ],
   "source": [
    "print(len(geo_0.id.unique()))\n",
    "print(len(geo_1.id.unique()))\n",
    "print(len(geo_2.id.unique()))"
   ]
  },
  {
   "cell_type": "markdown",
   "metadata": {},
   "source": [
    "Посмотрим, являются ли неуникальные значения дубликатами:"
   ]
  },
  {
   "cell_type": "code",
   "execution_count": 10,
   "metadata": {},
   "outputs": [
    {
     "name": "stdout",
     "output_type": "stream",
     "text": [
      "0\n",
      "0\n",
      "0\n"
     ]
    }
   ],
   "source": [
    "print(geo_0.duplicated().sum())\n",
    "print(geo_1.duplicated().sum())\n",
    "print(geo_2.duplicated().sum())"
   ]
  },
  {
   "cell_type": "markdown",
   "metadata": {},
   "source": [
    "Итак, дубликатов в таблицах нет. Проверим, какие id являются неуникальными и какие значения принимают признаки:"
   ]
  },
  {
   "cell_type": "code",
   "execution_count": 11,
   "metadata": {},
   "outputs": [
    {
     "name": "stdout",
     "output_type": "stream",
     "text": [
      "          id        f0        f1         f2     product\n",
      "7530   HZww2  1.061194 -0.373969  10.430210  158.828695\n",
      "41724  bxg6G -0.823752  0.546319   3.630479   93.007798\n",
      "51970  A5aEY -0.180335  0.935548  -2.094773   33.020205\n",
      "63593  QcMuo  0.635635 -0.473422   0.862670   64.578675\n",
      "66136  74z30  1.084962 -0.312358   6.990771  127.643327\n",
      "69163  AGS9W -0.933795  0.116194  -3.655896   19.230453\n",
      "75715  Tdehs  0.112079  0.430296   3.218993   60.964018\n",
      "90815  fiKDv  0.049883  0.841313   6.394613  137.346586\n",
      "92341  TtcGQ  0.110711  1.022689   0.911381  101.318008\n",
      "97785  bsk9y  0.378429  0.005837   0.160827  160.637302\n",
      "\n",
      "          id         f0        f1        f2     product\n",
      "41906  LHZR0  -8.989672 -4.286607  2.009139   57.085625\n",
      "82178  bfPNe  -6.202799 -4.820045  2.995107   84.038886\n",
      "82873  wt4Uk  10.259972 -9.376355  4.994297  134.766305\n",
      "84461  5ltQ6  18.213839  2.191999  3.993869  107.813044\n",
      "\n",
      "          id        f0        f1        f2     product\n",
      "43233  xCHr8 -0.847066  2.101796  5.597130  184.388641\n",
      "49564  VF7Jo -0.883115  0.560537  0.723601  136.233420\n",
      "55967  KUPhW  1.211150  3.176408  5.543540  132.831802\n",
      "95090  Vcm5J  2.587702  1.986875  2.482245   92.327572\n"
     ]
    }
   ],
   "source": [
    "print(geo_0.query('id.duplicated() == True'))\n",
    "print()\n",
    "print(geo_1.query('id.duplicated() == True'))\n",
    "print()\n",
    "print(geo_2.query('id.duplicated() == True'))"
   ]
  },
  {
   "cell_type": "markdown",
   "metadata": {},
   "source": [
    "Оставим как есть, т.к. мы определили, что эти повторения не дубликаты: у них разные цифры в признаках и целевом признаке. Скорее всего, в каждом из повторяющихся месторождений есть несколько прорабатываемых скважин."
   ]
  },
  {
   "cell_type": "markdown",
   "metadata": {},
   "source": [
    "На первый взгляд данные уже отмасштабированы. Посмотрим на минимальные и максимальные значения, которые принимают наши признаки:"
   ]
  },
  {
   "cell_type": "code",
   "execution_count": 12,
   "metadata": {},
   "outputs": [],
   "source": [
    "def min_max(region):\n",
    "    min_value_f0  = region.f0.min()\n",
    "    max_value_f0 = region.f0.max()\n",
    "    \n",
    "    min_value_f1  = region.f1.min()\n",
    "    max_value_f1 = region.f1.max()\n",
    "    \n",
    "    min_value_f2  = region.f2.min()\n",
    "    max_value_f2 = region.f2.max()\n",
    "    \n",
    "    \n",
    "    print('f0:', min_value_f0, max_value_f0)\n",
    "    print('f1:', min_value_f1, max_value_f1)\n",
    "    print('f2:', min_value_f2, max_value_f2)"
   ]
  },
  {
   "cell_type": "code",
   "execution_count": 13,
   "metadata": {},
   "outputs": [
    {
     "name": "stdout",
     "output_type": "stream",
     "text": [
      "f0: -1.4086053060269959 2.3623308108542243\n",
      "f1: -0.8482184970082173 1.343769333804496\n",
      "f2: -12.088328118063359 16.003790007695365\n"
     ]
    }
   ],
   "source": [
    "min_max(geo_0)"
   ]
  },
  {
   "cell_type": "code",
   "execution_count": 14,
   "metadata": {},
   "outputs": [
    {
     "name": "stdout",
     "output_type": "stream",
     "text": [
      "f0: -31.60957601916769 29.42175461390372\n",
      "f1: -26.358598008345872 18.734062633730762\n",
      "f2: -0.01814408671342021 5.019720555223062\n"
     ]
    }
   ],
   "source": [
    "min_max(geo_1)"
   ]
  },
  {
   "cell_type": "code",
   "execution_count": 15,
   "metadata": {},
   "outputs": [
    {
     "name": "stdout",
     "output_type": "stream",
     "text": [
      "f0: -8.760003624213763 7.23826247979405\n",
      "f1: -7.084019760867246 7.844801270084258\n",
      "f2: -11.97033454147699 16.73940205869952\n"
     ]
    }
   ],
   "source": [
    "min_max(geo_2)"
   ]
  },
  {
   "cell_type": "markdown",
   "metadata": {},
   "source": [
    "Разброс данных в таблицах различен, однако можно увидеть, что данные в каждой таблице уже отмасштабированы."
   ]
  },
  {
   "cell_type": "markdown",
   "metadata": {},
   "source": [
    "# 2. Обучаем модели"
   ]
  },
  {
   "cell_type": "markdown",
   "metadata": {},
   "source": [
    "Перед обучением модели идет подготовка признаков. Поскольку в данном проекте нам необходимо использовать  исключительно линейную регрессию (остальные — недостаточно предсказуемые), то можно сказать, что признаки у нас готовы: все 3 столбца \"f0\", \"f1\" и \"f2\" являются количественными. Целевой признак также количественный, что подтверждает необходимость использования регрессионных моделей. Таким образом, мы можем переходить к разбиению выборки."
   ]
  },
  {
   "cell_type": "markdown",
   "metadata": {},
   "source": [
    "Наметим задачи:\n",
    "- разделим данные на обучающую и валидационную выборки;\n",
    "- обучим модели и сделаем предсказания."
   ]
  },
  {
   "cell_type": "markdown",
   "metadata": {},
   "source": [
    "Напишем функцию, которая позволит нам не делать вышеуказанные задачи трижды:"
   ]
  },
  {
   "cell_type": "code",
   "execution_count": 16,
   "metadata": {},
   "outputs": [],
   "source": [
    "def linear_regress_model(region):\n",
    "    features = region.drop(['id', 'product'], axis=1)\n",
    "    target = region['product']\n",
    "    features_train, features_valid, target_train, target_valid = \\\n",
    "                                train_test_split(features, target, test_size=0.25, random_state=12345)\n",
    "    model = LinearRegression()\n",
    "    model.fit(features_train, target_train)\n",
    "    predicted_valid = model.predict(features_valid)\n",
    "    return features_train, features_valid, target_train, target_valid, predicted_valid"
   ]
  },
  {
   "cell_type": "code",
   "execution_count": 17,
   "metadata": {},
   "outputs": [
    {
     "name": "stdout",
     "output_type": "stream",
     "text": [
      "(75000, 3)\n",
      "(25000, 3)\n",
      "(75000,)\n",
      "(25000,)\n",
      "[ 95.89495185  77.57258261  77.89263965 ...  61.50983303 118.18039721\n",
      " 118.16939229]\n"
     ]
    }
   ],
   "source": [
    "features_train_0, features_valid_0, target_train_0, target_valid_0, predicted_valid_0 = linear_regress_model(geo_0)\n",
    "print(features_train_0.shape)\n",
    "print(features_valid_0.shape)\n",
    "print(target_train_0.shape)\n",
    "print(target_valid_0.shape)\n",
    "print(predicted_valid_0)"
   ]
  },
  {
   "cell_type": "code",
   "execution_count": 18,
   "metadata": {},
   "outputs": [
    {
     "name": "stdout",
     "output_type": "stream",
     "text": [
      "(75000, 3)\n",
      "(25000, 3)\n",
      "(75000,)\n",
      "(25000,)\n",
      "[ 82.66331365  54.43178616  29.74875995 ... 137.87934053  83.76196568\n",
      "  53.95846638]\n"
     ]
    }
   ],
   "source": [
    "features_train_1, features_valid_1, target_train_1, target_valid_1, predicted_valid_1 = linear_regress_model(geo_1)\n",
    "print(features_train_1.shape)\n",
    "print(features_valid_1.shape)\n",
    "print(target_train_1.shape)\n",
    "print(target_valid_1.shape)\n",
    "print(predicted_valid_1)"
   ]
  },
  {
   "cell_type": "code",
   "execution_count": 19,
   "metadata": {},
   "outputs": [
    {
     "name": "stdout",
     "output_type": "stream",
     "text": [
      "(75000, 3)\n",
      "(25000, 3)\n",
      "(75000,)\n",
      "(25000,)\n",
      "[ 93.59963303  75.10515854  90.06680936 ...  99.40728116  77.77991248\n",
      " 129.03241718]\n"
     ]
    }
   ],
   "source": [
    "features_train_2, features_valid_2, target_train_2, target_valid_2, predicted_valid_2 = linear_regress_model(geo_2)\n",
    "print(features_train_2.shape)\n",
    "print(features_valid_2.shape)\n",
    "print(target_train_2.shape)\n",
    "print(target_valid_2.shape)\n",
    "print(predicted_valid_2)"
   ]
  },
  {
   "cell_type": "markdown",
   "metadata": {},
   "source": [
    "Напечатаем на экране средний запас сырья и RMSE модели."
   ]
  },
  {
   "cell_type": "code",
   "execution_count": 20,
   "metadata": {},
   "outputs": [],
   "source": [
    "def train_valid_model(target_valid, predicted_valid, target_train):    \n",
    "    mse = mean_squared_error(target_valid, predicted_valid)\n",
    "    \n",
    "    mean_stock = target_train.mean()\n",
    "\n",
    "    return 'mean_stock=', mean_stock, \"RMSE =\", mse ** 0.5        \n",
    "    return \"RMSE =\", mse ** 0.5  "
   ]
  },
  {
   "cell_type": "code",
   "execution_count": 21,
   "metadata": {},
   "outputs": [
    {
     "data": {
      "text/plain": [
       "('mean_stock=', 92.64046775305694, 'RMSE =', 37.5794217150813)"
      ]
     },
     "execution_count": 21,
     "metadata": {},
     "output_type": "execute_result"
    }
   ],
   "source": [
    "reg_0 = train_valid_model(target_valid_0, predicted_valid_0, target_train_0)\n",
    "reg_0"
   ]
  },
  {
   "cell_type": "code",
   "execution_count": 22,
   "metadata": {},
   "outputs": [
    {
     "data": {
      "text/plain": [
       "('mean_stock=', 68.85895465854666, 'RMSE =', 0.893099286775616)"
      ]
     },
     "execution_count": 22,
     "metadata": {},
     "output_type": "execute_result"
    }
   ],
   "source": [
    "reg_1 = train_valid_model(target_valid_1, predicted_valid_1, target_train_1)\n",
    "reg_1"
   ]
  },
  {
   "cell_type": "code",
   "execution_count": 23,
   "metadata": {},
   "outputs": [
    {
     "data": {
      "text/plain": [
       "('mean_stock=', 95.03858906371522, 'RMSE =', 40.02970873393434)"
      ]
     },
     "execution_count": 23,
     "metadata": {},
     "output_type": "execute_result"
    }
   ],
   "source": [
    "reg_2 = train_valid_model(target_valid_2, predicted_valid_2, target_train_2)\n",
    "reg_2"
   ]
  },
  {
   "cell_type": "markdown",
   "metadata": {},
   "source": [
    "# 3. Готовим данные к расчёту прибыли"
   ]
  },
  {
   "cell_type": "markdown",
   "metadata": {},
   "source": [
    "Сохраним все необходимые цифры для дальнейших расчётов:"
   ]
  },
  {
   "cell_type": "code",
   "execution_count": 24,
   "metadata": {},
   "outputs": [],
   "source": [
    "point = 500\n",
    "budget = 10000000000\n",
    "cost_drilling_one = 50000000\n",
    "profit_per_barrel = 4500"
   ]
  },
  {
   "cell_type": "markdown",
   "metadata": {},
   "source": [
    "Теперь рассчитаем минимальное среднее количество сырья в районах, достаточное для разработки."
   ]
  },
  {
   "cell_type": "markdown",
   "metadata": {},
   "source": [
    "Нам нужно определить, какое количество продукта нужно добыть, чтобы полученная прибыль сравнялась с расходами. Для этого поделим стоимость разработки одной точки на стоимость барреля:"
   ]
  },
  {
   "cell_type": "code",
   "execution_count": 25,
   "metadata": {},
   "outputs": [
    {
     "data": {
      "text/plain": [
       "11.11111111111111"
      ]
     },
     "execution_count": 25,
     "metadata": {},
     "output_type": "execute_result"
    }
   ],
   "source": [
    "min_mean_volume = (cost_drilling_one / profit_per_barrel) / 1000\n",
    "min_mean_volume"
   ]
  },
  {
   "cell_type": "markdown",
   "metadata": {},
   "source": [
    "Мы \"масштабировали\" значение, поделив его не 1000, чтобы сравнивать с ним данные из столбца product, которые исчисляются в тыс. баррелей."
   ]
  },
  {
   "cell_type": "markdown",
   "metadata": {},
   "source": [
    "Проверим каждый регион и определим, какой % предсказаний ниже минимального среднего:"
   ]
  },
  {
   "cell_type": "code",
   "execution_count": 26,
   "metadata": {},
   "outputs": [],
   "source": [
    "def below_min_average(region, predicted_valid):\n",
    "    count = 0\n",
    "    for i in predicted_valid:\n",
    "        if i < min_mean_volume:\n",
    "               count += 1\n",
    "    print(\"Процент скважин с запасом ресурса ниже минимального среднего в регионе {}:\".format(region), \n",
    "                                                                (count / len(predicted_valid_0)) * 100)"
   ]
  },
  {
   "cell_type": "code",
   "execution_count": 27,
   "metadata": {},
   "outputs": [
    {
     "name": "stdout",
     "output_type": "stream",
     "text": [
      "Процент скважин с запасом ресурса ниже минимального среднего в регионе reg_0: 0.02\n"
     ]
    }
   ],
   "source": [
    "below_min_average('reg_0', predicted_valid_0)"
   ]
  },
  {
   "cell_type": "code",
   "execution_count": 28,
   "metadata": {},
   "outputs": [
    {
     "name": "stdout",
     "output_type": "stream",
     "text": [
      "Процент скважин с запасом ресурса ниже минимального среднего в регионе reg_1: 16.584\n"
     ]
    }
   ],
   "source": [
    "min_1 = below_min_average('reg_1', predicted_valid_1)\n",
    "min_1"
   ]
  },
  {
   "cell_type": "code",
   "execution_count": 29,
   "metadata": {},
   "outputs": [
    {
     "name": "stdout",
     "output_type": "stream",
     "text": [
      "Процент скважин с запасом ресурса ниже минимального среднего в регионе reg_2: 0.0\n"
     ]
    }
   ],
   "source": [
    "below_min_average('reg_2', predicted_valid_2)"
   ]
  },
  {
   "cell_type": "markdown",
   "metadata": {},
   "source": [
    "Напишем функцию для подсчёта прибыли в выбранных месторождениях и сравним с предсказаниями модели."
   ]
  },
  {
   "cell_type": "code",
   "execution_count": 30,
   "metadata": {},
   "outputs": [],
   "source": [
    "def profit(target_valid, predicted_valid, count):\n",
    "#   список ответов (target_valid) — реальный объем запасов в месторождении;\n",
    "#   список прогнозов (predicted_valid) — предсказание модели, какой объем запасов может быть в месторождении;\n",
    "\n",
    "    target_v = pd.Series(target_valid)\n",
    "    predict_val = pd.Series(predicted_valid)\n",
    "        \n",
    "#   отсортируем прогнозы, возьмем их индексы и применим их к реальным ответам, \n",
    "#   далее рассчитаем среднюю прибыль.\n",
    "    pred_sorted = predict_val.sort_values(ascending=False)\n",
    "    selected = target_v[pred_sorted.index][:count]\n",
    "    profit = profit_per_barrel * selected.sum()\n",
    "    \n",
    "    return profit"
   ]
  },
  {
   "cell_type": "markdown",
   "metadata": {},
   "source": [
    "# 4. Рассчитываем прибыль и возможные риски"
   ]
  },
  {
   "cell_type": "markdown",
   "metadata": {},
   "source": [
    "Применим Bootstrap для поиска распределения прибыли."
   ]
  },
  {
   "cell_type": "markdown",
   "metadata": {},
   "source": [
    "Напишем функцию, где выполним процедуру Bootstrap с 1000 повторений. Выберем 500 точек, но поскольку бюджет позволит разработать только 200 месторождений в регионе (10 млрд : 50 млн = 200), возьмем за максимум count = 200:"
   ]
  },
  {
   "cell_type": "code",
   "execution_count": 31,
   "metadata": {},
   "outputs": [],
   "source": [
    "def bootstrap(target_v, predict_val):\n",
    "    state = np.random.RandomState(12345)\n",
    "\n",
    "    values = []\n",
    "    target_v = target_v.reset_index(drop=True)\n",
    "    for i in range(1000):\n",
    "        target_subsample = target_v.sample(n=500, replace=True, random_state=state)\n",
    "        predicted_subsample = predict_val[target_subsample.index]\n",
    "        values.append(profit(target_subsample, predicted_subsample, 200))\n",
    "    \n",
    "    return values"
   ]
  },
  {
   "cell_type": "markdown",
   "metadata": {},
   "source": [
    "Вызовем функцию для каждого месторождения и посмотрим на графики распределения прибыли:"
   ]
  },
  {
   "cell_type": "code",
   "execution_count": 32,
   "metadata": {},
   "outputs": [
    {
     "name": "stderr",
     "output_type": "stream",
     "text": [
      "/opt/conda/lib/python3.7/site-packages/pandas/core/series.py:1143: FutureWarning: \n",
      "Passing list-likes to .loc or [] with any missing label will raise\n",
      "KeyError in the future, you can use .reindex() as an alternative.\n",
      "\n",
      "See the documentation here:\n",
      "https://pandas.pydata.org/pandas-docs/stable/user_guide/indexing.html#deprecate-loc-reindex-listlike\n",
      "  return self.loc[key]\n"
     ]
    },
    {
     "data": {
      "image/png": "[encoded data removed]",
      "text/plain": [
       "<Figure size 432x288 with 1 Axes>"
      ]
     },
     "metadata": {
      "needs_background": "light"
     },
     "output_type": "display_data"
    },
    {
     "data": {
      "image/png": "[encoded data removed]",
      "text/plain": [
       "<Figure size 432x288 with 1 Axes>"
      ]
     },
     "metadata": {
      "needs_background": "light"
     },
     "output_type": "display_data"
    },
    {
     "data": {
      "text/plain": [
       "[1228828.6726199728,\n",
       " 514087.7229152085,\n",
       " 2215573.8037488833,\n",
       " 1683539.6064289245,\n",
       " 326213.94079702627]"
      ]
     },
     "execution_count": 32,
     "metadata": {},
     "output_type": "execute_result"
    }
   ],
   "source": [
    "values_0 = bootstrap(target_valid_0, predicted_valid_0)\n",
    "sns.distplot(values_0)\n",
    "plt.show()\n",
    "sns.boxplot(x=values_0)\n",
    "plt.show()\n",
    "values_0[:5]"
   ]
  },
  {
   "cell_type": "code",
   "execution_count": 33,
   "metadata": {},
   "outputs": [
    {
     "name": "stderr",
     "output_type": "stream",
     "text": [
      "/opt/conda/lib/python3.7/site-packages/pandas/core/series.py:1143: FutureWarning: \n",
      "Passing list-likes to .loc or [] with any missing label will raise\n",
      "KeyError in the future, you can use .reindex() as an alternative.\n",
      "\n",
      "See the documentation here:\n",
      "https://pandas.pydata.org/pandas-docs/stable/user_guide/indexing.html#deprecate-loc-reindex-listlike\n",
      "  return self.loc[key]\n"
     ]
    },
    {
     "data": {
      "image/png": "[encoded data removed]",
      "text/plain": [
       "<Figure size 432x288 with 1 Axes>"
      ]
     },
     "metadata": {
      "needs_background": "light"
     },
     "output_type": "display_data"
    },
    {
     "data": {
      "image/png": "[encoded data removed]",
      "text/plain": [
       "<Figure size 432x288 with 1 Axes>"
      ]
     },
     "metadata": {
      "needs_background": "light"
     },
     "output_type": "display_data"
    },
    {
     "data": {
      "text/plain": [
       "[727738.0478515717,\n",
       " 1391410.2675589449,\n",
       " 242579.34928385724,\n",
       " 1227202.7080437185,\n",
       " 1605377.693593937]"
      ]
     },
     "execution_count": 33,
     "metadata": {},
     "output_type": "execute_result"
    }
   ],
   "source": [
    "values_1 = bootstrap(target_valid_1, predicted_valid_1)\n",
    "sns.distplot(values_1)\n",
    "plt.show()\n",
    "sns.boxplot(x=values_1)\n",
    "plt.show()\n",
    "values_1[:5]"
   ]
  },
  {
   "cell_type": "code",
   "execution_count": 34,
   "metadata": {},
   "outputs": [
    {
     "name": "stderr",
     "output_type": "stream",
     "text": [
      "/opt/conda/lib/python3.7/site-packages/pandas/core/series.py:1143: FutureWarning: \n",
      "Passing list-likes to .loc or [] with any missing label will raise\n",
      "KeyError in the future, you can use .reindex() as an alternative.\n",
      "\n",
      "See the documentation here:\n",
      "https://pandas.pydata.org/pandas-docs/stable/user_guide/indexing.html#deprecate-loc-reindex-listlike\n",
      "  return self.loc[key]\n"
     ]
    },
    {
     "data": {
      "image/png": "[encoded data removed]",
      "text/plain": [
       "<Figure size 432x288 with 1 Axes>"
      ]
     },
     "metadata": {
      "needs_background": "light"
     },
     "output_type": "display_data"
    },
    {
     "data": {
      "image/png": "[encoded data removed]",
      "text/plain": [
       "<Figure size 432x288 with 1 Axes>"
      ]
     },
     "metadata": {
      "needs_background": "light"
     },
     "output_type": "display_data"
    },
    {
     "data": {
      "text/plain": [
       "[2483888.9507951546,\n",
       " 284933.3959008944,\n",
       " 737882.216616748,\n",
       " 1302829.1308166136,\n",
       " 913727.3969833149]"
      ]
     },
     "execution_count": 34,
     "metadata": {},
     "output_type": "execute_result"
    }
   ],
   "source": [
    "values_2 = bootstrap(target_valid_2, predicted_valid_2)\n",
    "sns.distplot(values_2)\n",
    "plt.show()\n",
    "sns.boxplot(x=values_2)\n",
    "plt.show()\n",
    "values_2[:5]"
   ]
  },
  {
   "cell_type": "markdown",
   "metadata": {},
   "source": [
    "Посчитаем количество выбросов в values_0 и values_2:"
   ]
  },
  {
   "cell_type": "code",
   "execution_count": 35,
   "metadata": {},
   "outputs": [],
   "source": [
    "values_0 = pd.DataFrame(values_0)\n",
    "values_0.columns = ['values']"
   ]
  },
  {
   "cell_type": "code",
   "execution_count": 36,
   "metadata": {},
   "outputs": [
    {
     "data": {
      "text/plain": [
       "values    14\n",
       "dtype: int64"
      ]
     },
     "execution_count": 36,
     "metadata": {},
     "output_type": "execute_result"
    }
   ],
   "source": [
    "values_0.query('values > 4000000').count()"
   ]
  },
  {
   "cell_type": "code",
   "execution_count": 37,
   "metadata": {},
   "outputs": [
    {
     "data": {
      "text/plain": [
       "values    20\n",
       "dtype: int64"
      ]
     },
     "execution_count": 37,
     "metadata": {},
     "output_type": "execute_result"
    }
   ],
   "source": [
    "values_1 = pd.DataFrame(values_1)\n",
    "values_1.columns = ['values']\n",
    "values_1.query('values > 3000000').count()"
   ]
  },
  {
   "cell_type": "code",
   "execution_count": 38,
   "metadata": {},
   "outputs": [],
   "source": [
    "values_2 = pd.DataFrame(values_2)\n",
    "values_2.columns = ['values']"
   ]
  },
  {
   "cell_type": "code",
   "execution_count": 39,
   "metadata": {},
   "outputs": [
    {
     "data": {
      "text/plain": [
       "values    11\n",
       "dtype: int64"
      ]
     },
     "execution_count": 39,
     "metadata": {},
     "output_type": "execute_result"
    }
   ],
   "source": [
    "values_2.query('values > 4000000').count()"
   ]
  },
  {
   "cell_type": "markdown",
   "metadata": {},
   "source": [
    "Согласно графиков можно сказать, что выбросы присутствуют на каждом из них, однако даже сейчас можно сделать вывод, что среднее значение прибыли выше всего у региона 2. Хуже всего дело обстоит у региона 1. Регион 0 также достаточно прибылен, однако больше высоких значений именно у второго региона, что наглядно представлено на графике распределения. Касаемо выбросов можно сказать, что меньше всего их также в данных по 2-му региону."
   ]
  },
  {
   "cell_type": "markdown",
   "metadata": {},
   "source": [
    "Теперь найдем среднюю прибыль, 95%-й доверительный интервал и подсчитаем риски."
   ]
  },
  {
   "cell_type": "markdown",
   "metadata": {},
   "source": [
    "И снова, чтобы не просчитывать трижды напишем функцию, считающую доверительный интервал и среднюю прибыль:"
   ]
  },
  {
   "cell_type": "code",
   "execution_count": 40,
   "metadata": {},
   "outputs": [],
   "source": [
    "def confidence_interval(target_v, predict_val):\n",
    "    sample = bootstrap(target_v, predict_val)\n",
    "    sample = pd.Series(sample)\n",
    "    confidence_interval = st.t.interval(0.95, len(sample)-1, sample.mean(), sample.sem())\n",
    "    return sample.mean(), confidence_interval"
   ]
  },
  {
   "cell_type": "code",
   "execution_count": 41,
   "metadata": {},
   "outputs": [
    {
     "name": "stderr",
     "output_type": "stream",
     "text": [
      "/opt/conda/lib/python3.7/site-packages/pandas/core/series.py:1143: FutureWarning: \n",
      "Passing list-likes to .loc or [] with any missing label will raise\n",
      "KeyError in the future, you can use .reindex() as an alternative.\n",
      "\n",
      "See the documentation here:\n",
      "https://pandas.pydata.org/pandas-docs/stable/user_guide/indexing.html#deprecate-loc-reindex-listlike\n",
      "  return self.loc[key]\n"
     ]
    },
    {
     "name": "stdout",
     "output_type": "stream",
     "text": [
      "Средняя прибыль в регионе 0: 1605219.07\n",
      "Доверительный интервал по региону 0: (1549336.3804661334, 1661101.7637075423)\n"
     ]
    }
   ],
   "source": [
    "mean_revenue_0, confidence_interval_0 = confidence_interval(target_valid_0, predicted_valid_0)\n",
    "print(\"Средняя прибыль в регионе 0:\", mean_revenue_0.round(2))\n",
    "print(\"Доверительный интервал по региону 0:\", confidence_interval_0)"
   ]
  },
  {
   "cell_type": "code",
   "execution_count": 42,
   "metadata": {},
   "outputs": [
    {
     "name": "stdout",
     "output_type": "stream",
     "text": [
      "Средняя прибыль в регионе 1: 1169800.97\n",
      "Доверительный интервал по региону 1: (1123739.241171316, 1215862.6988750438)\n"
     ]
    }
   ],
   "source": [
    "mean_revenue_1, confidence_interval_1 = confidence_interval(target_valid_1, predicted_valid_1)\n",
    "print(\"Средняя прибыль в регионе 1:\", mean_revenue_1.round(2))\n",
    "print(\"Доверительный интервал по региону 1:\", confidence_interval_1)"
   ]
  },
  {
   "cell_type": "code",
   "execution_count": 43,
   "metadata": {},
   "outputs": [
    {
     "name": "stdout",
     "output_type": "stream",
     "text": [
      "Средняя прибыль в регионе 2: 1663303.82\n",
      "Доверительный интервал по региону 2: (1605919.046924136, 1720688.6013438571)\n"
     ]
    }
   ],
   "source": [
    "mean_revenue_2, confidence_interval_2 = confidence_interval(target_valid_2, predicted_valid_2)\n",
    "print(\"Средняя прибыль в регионе 2:\", mean_revenue_2.round(2))\n",
    "print(\"Доверительный интервал по региону 2:\", confidence_interval_2)"
   ]
  },
  {
   "cell_type": "markdown",
   "metadata": {},
   "source": [
    "Риска убытков у нас нет, на всех этапах расчета прибыли у нас были положительные значения."
   ]
  },
  {
   "cell_type": "markdown",
   "metadata": {},
   "source": [
    "#### Сравним регионы и выберем самый оптимальный вариант:"
   ]
  },
  {
   "cell_type": "markdown",
   "metadata": {},
   "source": [
    "По итогам анализа можно сказать, что рисков убыточности добычи сырья у нас не выявлено: на всех этапах расчета прибыли значения являлись положительными.  \n",
    "Что касается прибыльности и доверительного интервала, то можно сказать, что регион 1 явно менее прибылен, чем другие регионы. Не смотря на стремящийся к нулю показатель RMSE, от разработки в данном регионе нужно отказаться ввиду наличия более \"успешных\" регионов.  \n",
    "Регион 0 и регион 2 имеют схожие параметры: не сильно разнящееся среднее прибыли, довольно близкие отрезки доверительного интервала, похожие показатели RMSE. И тем не менее ввиду необходимости выбора лишь одного региона вспомним построение графика распределения, в процессе анализа которого мы определили, что выбросов меньше всего именно в регионе 2.  \n",
    "Также следует отметить, что всё же средняя прибыль выше именно во втором регионе. Аналогичная ситуация и с доверительным интервалом. Не смотря на некий разброс прибыли в разных точках предполагаемой добычи сырья, большая их часть находится в интервале 1 605 919.047 - 1 720 688.601 руб., и этот интервал включает самые высокие значения из всех подобных показателей регионов. Таким образом, мы предполагаем, что именно при освоении второго региона добыча принесёт наибольшую прибыль."
   ]
  },
  {
   "cell_type": "code",
   "execution_count": null,
   "metadata": {},
   "outputs": [],
   "source": []
  }
 ],
 "metadata": {
  "kernelspec": {
   "display_name": "Python 3",
   "language": "python",
   "name": "python3"
  },
  "language_info": {
   "codemirror_mode": {
    "name": "ipython",
    "version": 3
   },
   "file_extension": ".py",
   "mimetype": "text/x-python",
   "name": "python",
   "nbconvert_exporter": "python",
   "pygments_lexer": "ipython3",
   "version": "3.7.3"
  }
 },
 "nbformat": 4,
 "nbformat_minor": 2
}

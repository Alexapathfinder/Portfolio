{
 "cells": [
  {
   "cell_type": "markdown",
   "metadata": {},
   "source": [
    "# Отток клиентов"
   ]
  },
  {
   "cell_type": "markdown",
   "metadata": {},
   "source": [
    "# 1. Предобработка данных"
   ]
  },
  {
   "cell_type": "markdown",
   "metadata": {},
   "source": [
    "### Общая информация по файлу"
   ]
  },
  {
   "cell_type": "code",
   "execution_count": 1,
   "metadata": {},
   "outputs": [],
   "source": [
    "import pandas as pd\n",
    "pd.set_option('display.max_columns', 100)\n",
    "\n",
    "import matplotlib.pyplot as plt\n",
    "import numpy as np\n",
    "import numpy as np"
   ]
  },
  {
   "cell_type": "code",
   "execution_count": 2,
   "metadata": {},
   "outputs": [],
   "source": [
    "from sklearn.model_selection import train_test_split\n",
    "from sklearn.preprocessing import StandardScaler\n",
    "from sklearn.metrics import accuracy_score\n",
    "from sklearn.metrics import confusion_matrix\n",
    "from sklearn.metrics import f1_score\n",
    "from sklearn.utils import shuffle\n",
    "from sklearn.metrics import mean_absolute_error\n",
    "from sklearn.metrics import recall_score\n",
    "from sklearn.metrics import precision_score\n",
    "from sklearn.preprocessing import OrdinalEncoder\n",
    "from sklearn.metrics import roc_curve\n",
    "from sklearn.metrics import roc_auc_score"
   ]
  },
  {
   "cell_type": "code",
   "execution_count": 3,
   "metadata": {},
   "outputs": [],
   "source": [
    "from sklearn.linear_model import LogisticRegression\n",
    "from sklearn.ensemble import RandomForestRegressor\n",
    "from sklearn.tree import DecisionTreeClassifier\n",
    "from sklearn.ensemble import RandomForestClassifier\n",
    "from sklearn.tree import DecisionTreeRegressor"
   ]
  },
  {
   "cell_type": "code",
   "execution_count": 4,
   "metadata": {},
   "outputs": [
    {
     "data": {
      "text/html": [
       "<div>\n",
       "<style scoped>\n",
       "    .dataframe tbody tr th:only-of-type {\n",
       "        vertical-align: middle;\n",
       "    }\n",
       "\n",
       "    .dataframe tbody tr th {\n",
       "        vertical-align: top;\n",
       "    }\n",
       "\n",
       "    .dataframe thead th {\n",
       "        text-align: right;\n",
       "    }\n",
       "</style>\n",
       "<table border=\"1\" class=\"dataframe\">\n",
       "  <thead>\n",
       "    <tr style=\"text-align: right;\">\n",
       "      <th></th>\n",
       "      <th>RowNumber</th>\n",
       "      <th>CustomerId</th>\n",
       "      <th>Surname</th>\n",
       "      <th>CreditScore</th>\n",
       "      <th>Geography</th>\n",
       "      <th>Gender</th>\n",
       "      <th>Age</th>\n",
       "      <th>Tenure</th>\n",
       "      <th>Balance</th>\n",
       "      <th>NumOfProducts</th>\n",
       "      <th>HasCrCard</th>\n",
       "      <th>IsActiveMember</th>\n",
       "      <th>EstimatedSalary</th>\n",
       "      <th>Exited</th>\n",
       "    </tr>\n",
       "  </thead>\n",
       "  <tbody>\n",
       "    <tr>\n",
       "      <td>0</td>\n",
       "      <td>1</td>\n",
       "      <td>15634602</td>\n",
       "      <td>Hargrave</td>\n",
       "      <td>619</td>\n",
       "      <td>France</td>\n",
       "      <td>Female</td>\n",
       "      <td>42</td>\n",
       "      <td>2.0</td>\n",
       "      <td>0.00</td>\n",
       "      <td>1</td>\n",
       "      <td>1</td>\n",
       "      <td>1</td>\n",
       "      <td>101348.88</td>\n",
       "      <td>1</td>\n",
       "    </tr>\n",
       "    <tr>\n",
       "      <td>1</td>\n",
       "      <td>2</td>\n",
       "      <td>15647311</td>\n",
       "      <td>Hill</td>\n",
       "      <td>608</td>\n",
       "      <td>Spain</td>\n",
       "      <td>Female</td>\n",
       "      <td>41</td>\n",
       "      <td>1.0</td>\n",
       "      <td>83807.86</td>\n",
       "      <td>1</td>\n",
       "      <td>0</td>\n",
       "      <td>1</td>\n",
       "      <td>112542.58</td>\n",
       "      <td>0</td>\n",
       "    </tr>\n",
       "    <tr>\n",
       "      <td>2</td>\n",
       "      <td>3</td>\n",
       "      <td>15619304</td>\n",
       "      <td>Onio</td>\n",
       "      <td>502</td>\n",
       "      <td>France</td>\n",
       "      <td>Female</td>\n",
       "      <td>42</td>\n",
       "      <td>8.0</td>\n",
       "      <td>159660.80</td>\n",
       "      <td>3</td>\n",
       "      <td>1</td>\n",
       "      <td>0</td>\n",
       "      <td>113931.57</td>\n",
       "      <td>1</td>\n",
       "    </tr>\n",
       "    <tr>\n",
       "      <td>3</td>\n",
       "      <td>4</td>\n",
       "      <td>15701354</td>\n",
       "      <td>Boni</td>\n",
       "      <td>699</td>\n",
       "      <td>France</td>\n",
       "      <td>Female</td>\n",
       "      <td>39</td>\n",
       "      <td>1.0</td>\n",
       "      <td>0.00</td>\n",
       "      <td>2</td>\n",
       "      <td>0</td>\n",
       "      <td>0</td>\n",
       "      <td>93826.63</td>\n",
       "      <td>0</td>\n",
       "    </tr>\n",
       "    <tr>\n",
       "      <td>4</td>\n",
       "      <td>5</td>\n",
       "      <td>15737888</td>\n",
       "      <td>Mitchell</td>\n",
       "      <td>850</td>\n",
       "      <td>Spain</td>\n",
       "      <td>Female</td>\n",
       "      <td>43</td>\n",
       "      <td>2.0</td>\n",
       "      <td>125510.82</td>\n",
       "      <td>1</td>\n",
       "      <td>1</td>\n",
       "      <td>1</td>\n",
       "      <td>79084.10</td>\n",
       "      <td>0</td>\n",
       "    </tr>\n",
       "    <tr>\n",
       "      <td>...</td>\n",
       "      <td>...</td>\n",
       "      <td>...</td>\n",
       "      <td>...</td>\n",
       "      <td>...</td>\n",
       "      <td>...</td>\n",
       "      <td>...</td>\n",
       "      <td>...</td>\n",
       "      <td>...</td>\n",
       "      <td>...</td>\n",
       "      <td>...</td>\n",
       "      <td>...</td>\n",
       "      <td>...</td>\n",
       "      <td>...</td>\n",
       "      <td>...</td>\n",
       "    </tr>\n",
       "    <tr>\n",
       "      <td>9995</td>\n",
       "      <td>9996</td>\n",
       "      <td>15606229</td>\n",
       "      <td>Obijiaku</td>\n",
       "      <td>771</td>\n",
       "      <td>France</td>\n",
       "      <td>Male</td>\n",
       "      <td>39</td>\n",
       "      <td>5.0</td>\n",
       "      <td>0.00</td>\n",
       "      <td>2</td>\n",
       "      <td>1</td>\n",
       "      <td>0</td>\n",
       "      <td>96270.64</td>\n",
       "      <td>0</td>\n",
       "    </tr>\n",
       "    <tr>\n",
       "      <td>9996</td>\n",
       "      <td>9997</td>\n",
       "      <td>15569892</td>\n",
       "      <td>Johnstone</td>\n",
       "      <td>516</td>\n",
       "      <td>France</td>\n",
       "      <td>Male</td>\n",
       "      <td>35</td>\n",
       "      <td>10.0</td>\n",
       "      <td>57369.61</td>\n",
       "      <td>1</td>\n",
       "      <td>1</td>\n",
       "      <td>1</td>\n",
       "      <td>101699.77</td>\n",
       "      <td>0</td>\n",
       "    </tr>\n",
       "    <tr>\n",
       "      <td>9997</td>\n",
       "      <td>9998</td>\n",
       "      <td>15584532</td>\n",
       "      <td>Liu</td>\n",
       "      <td>709</td>\n",
       "      <td>France</td>\n",
       "      <td>Female</td>\n",
       "      <td>36</td>\n",
       "      <td>7.0</td>\n",
       "      <td>0.00</td>\n",
       "      <td>1</td>\n",
       "      <td>0</td>\n",
       "      <td>1</td>\n",
       "      <td>42085.58</td>\n",
       "      <td>1</td>\n",
       "    </tr>\n",
       "    <tr>\n",
       "      <td>9998</td>\n",
       "      <td>9999</td>\n",
       "      <td>15682355</td>\n",
       "      <td>Sabbatini</td>\n",
       "      <td>772</td>\n",
       "      <td>Germany</td>\n",
       "      <td>Male</td>\n",
       "      <td>42</td>\n",
       "      <td>3.0</td>\n",
       "      <td>75075.31</td>\n",
       "      <td>2</td>\n",
       "      <td>1</td>\n",
       "      <td>0</td>\n",
       "      <td>92888.52</td>\n",
       "      <td>1</td>\n",
       "    </tr>\n",
       "    <tr>\n",
       "      <td>9999</td>\n",
       "      <td>10000</td>\n",
       "      <td>15628319</td>\n",
       "      <td>Walker</td>\n",
       "      <td>792</td>\n",
       "      <td>France</td>\n",
       "      <td>Female</td>\n",
       "      <td>28</td>\n",
       "      <td>NaN</td>\n",
       "      <td>130142.79</td>\n",
       "      <td>1</td>\n",
       "      <td>1</td>\n",
       "      <td>0</td>\n",
       "      <td>38190.78</td>\n",
       "      <td>0</td>\n",
       "    </tr>\n",
       "  </tbody>\n",
       "</table>\n",
       "<p>10000 rows × 14 columns</p>\n",
       "</div>"
      ],
      "text/plain": [
       "      RowNumber  CustomerId    Surname  CreditScore Geography  Gender  Age  \\\n",
       "0             1    15634602   Hargrave          619    France  Female   42   \n",
       "1             2    15647311       Hill          608     Spain  Female   41   \n",
       "2             3    15619304       Onio          502    France  Female   42   \n",
       "3             4    15701354       Boni          699    France  Female   39   \n",
       "4             5    15737888   Mitchell          850     Spain  Female   43   \n",
       "...         ...         ...        ...          ...       ...     ...  ...   \n",
       "9995       9996    15606229   Obijiaku          771    France    Male   39   \n",
       "9996       9997    15569892  Johnstone          516    France    Male   35   \n",
       "9997       9998    15584532        Liu          709    France  Female   36   \n",
       "9998       9999    15682355  Sabbatini          772   Germany    Male   42   \n",
       "9999      10000    15628319     Walker          792    France  Female   28   \n",
       "\n",
       "      Tenure    Balance  NumOfProducts  HasCrCard  IsActiveMember  \\\n",
       "0        2.0       0.00              1          1               1   \n",
       "1        1.0   83807.86              1          0               1   \n",
       "2        8.0  159660.80              3          1               0   \n",
       "3        1.0       0.00              2          0               0   \n",
       "4        2.0  125510.82              1          1               1   \n",
       "...      ...        ...            ...        ...             ...   \n",
       "9995     5.0       0.00              2          1               0   \n",
       "9996    10.0   57369.61              1          1               1   \n",
       "9997     7.0       0.00              1          0               1   \n",
       "9998     3.0   75075.31              2          1               0   \n",
       "9999     NaN  130142.79              1          1               0   \n",
       "\n",
       "      EstimatedSalary  Exited  \n",
       "0           101348.88       1  \n",
       "1           112542.58       0  \n",
       "2           113931.57       1  \n",
       "3            93826.63       0  \n",
       "4            79084.10       0  \n",
       "...               ...     ...  \n",
       "9995         96270.64       0  \n",
       "9996        101699.77       0  \n",
       "9997         42085.58       1  \n",
       "9998         92888.52       1  \n",
       "9999         38190.78       0  \n",
       "\n",
       "[10000 rows x 14 columns]"
      ]
     },
     "execution_count": 4,
     "metadata": {},
     "output_type": "execute_result"
    }
   ],
   "source": [
    "churn = pd.read_csv('/datasets/Churn.csv')\n",
    "churn"
   ]
  },
  {
   "cell_type": "code",
   "execution_count": 5,
   "metadata": {},
   "outputs": [
    {
     "name": "stdout",
     "output_type": "stream",
     "text": [
      "<class 'pandas.core.frame.DataFrame'>\n",
      "RangeIndex: 10000 entries, 0 to 9999\n",
      "Data columns (total 14 columns):\n",
      "RowNumber          10000 non-null int64\n",
      "CustomerId         10000 non-null int64\n",
      "Surname            10000 non-null object\n",
      "CreditScore        10000 non-null int64\n",
      "Geography          10000 non-null object\n",
      "Gender             10000 non-null object\n",
      "Age                10000 non-null int64\n",
      "Tenure             9091 non-null float64\n",
      "Balance            10000 non-null float64\n",
      "NumOfProducts      10000 non-null int64\n",
      "HasCrCard          10000 non-null int64\n",
      "IsActiveMember     10000 non-null int64\n",
      "EstimatedSalary    10000 non-null float64\n",
      "Exited             10000 non-null int64\n",
      "dtypes: float64(3), int64(8), object(3)\n",
      "memory usage: 1.1+ MB\n"
     ]
    }
   ],
   "source": [
    "churn.info()"
   ]
  },
  {
   "cell_type": "markdown",
   "metadata": {},
   "source": [
    "### Предобработка данных"
   ]
  },
  {
   "cell_type": "markdown",
   "metadata": {},
   "source": [
    "Удалим \"лишние\" столбцы:"
   ]
  },
  {
   "cell_type": "code",
   "execution_count": 6,
   "metadata": {
    "pycharm": {
     "name": "#%%\n"
    }
   },
   "outputs": [
    {
     "data": {
      "text/html": [
       "<div>\n",
       "<style scoped>\n",
       "    .dataframe tbody tr th:only-of-type {\n",
       "        vertical-align: middle;\n",
       "    }\n",
       "\n",
       "    .dataframe tbody tr th {\n",
       "        vertical-align: top;\n",
       "    }\n",
       "\n",
       "    .dataframe thead th {\n",
       "        text-align: right;\n",
       "    }\n",
       "</style>\n",
       "<table border=\"1\" class=\"dataframe\">\n",
       "  <thead>\n",
       "    <tr style=\"text-align: right;\">\n",
       "      <th></th>\n",
       "      <th>CreditScore</th>\n",
       "      <th>Geography</th>\n",
       "      <th>Gender</th>\n",
       "      <th>Age</th>\n",
       "      <th>Tenure</th>\n",
       "      <th>Balance</th>\n",
       "      <th>NumOfProducts</th>\n",
       "      <th>HasCrCard</th>\n",
       "      <th>IsActiveMember</th>\n",
       "      <th>EstimatedSalary</th>\n",
       "      <th>Exited</th>\n",
       "    </tr>\n",
       "  </thead>\n",
       "  <tbody>\n",
       "    <tr>\n",
       "      <td>0</td>\n",
       "      <td>619</td>\n",
       "      <td>France</td>\n",
       "      <td>Female</td>\n",
       "      <td>42</td>\n",
       "      <td>2.0</td>\n",
       "      <td>0.00</td>\n",
       "      <td>1</td>\n",
       "      <td>1</td>\n",
       "      <td>1</td>\n",
       "      <td>101348.88</td>\n",
       "      <td>1</td>\n",
       "    </tr>\n",
       "    <tr>\n",
       "      <td>1</td>\n",
       "      <td>608</td>\n",
       "      <td>Spain</td>\n",
       "      <td>Female</td>\n",
       "      <td>41</td>\n",
       "      <td>1.0</td>\n",
       "      <td>83807.86</td>\n",
       "      <td>1</td>\n",
       "      <td>0</td>\n",
       "      <td>1</td>\n",
       "      <td>112542.58</td>\n",
       "      <td>0</td>\n",
       "    </tr>\n",
       "    <tr>\n",
       "      <td>2</td>\n",
       "      <td>502</td>\n",
       "      <td>France</td>\n",
       "      <td>Female</td>\n",
       "      <td>42</td>\n",
       "      <td>8.0</td>\n",
       "      <td>159660.80</td>\n",
       "      <td>3</td>\n",
       "      <td>1</td>\n",
       "      <td>0</td>\n",
       "      <td>113931.57</td>\n",
       "      <td>1</td>\n",
       "    </tr>\n",
       "    <tr>\n",
       "      <td>3</td>\n",
       "      <td>699</td>\n",
       "      <td>France</td>\n",
       "      <td>Female</td>\n",
       "      <td>39</td>\n",
       "      <td>1.0</td>\n",
       "      <td>0.00</td>\n",
       "      <td>2</td>\n",
       "      <td>0</td>\n",
       "      <td>0</td>\n",
       "      <td>93826.63</td>\n",
       "      <td>0</td>\n",
       "    </tr>\n",
       "    <tr>\n",
       "      <td>4</td>\n",
       "      <td>850</td>\n",
       "      <td>Spain</td>\n",
       "      <td>Female</td>\n",
       "      <td>43</td>\n",
       "      <td>2.0</td>\n",
       "      <td>125510.82</td>\n",
       "      <td>1</td>\n",
       "      <td>1</td>\n",
       "      <td>1</td>\n",
       "      <td>79084.10</td>\n",
       "      <td>0</td>\n",
       "    </tr>\n",
       "    <tr>\n",
       "      <td>...</td>\n",
       "      <td>...</td>\n",
       "      <td>...</td>\n",
       "      <td>...</td>\n",
       "      <td>...</td>\n",
       "      <td>...</td>\n",
       "      <td>...</td>\n",
       "      <td>...</td>\n",
       "      <td>...</td>\n",
       "      <td>...</td>\n",
       "      <td>...</td>\n",
       "      <td>...</td>\n",
       "    </tr>\n",
       "    <tr>\n",
       "      <td>9995</td>\n",
       "      <td>771</td>\n",
       "      <td>France</td>\n",
       "      <td>Male</td>\n",
       "      <td>39</td>\n",
       "      <td>5.0</td>\n",
       "      <td>0.00</td>\n",
       "      <td>2</td>\n",
       "      <td>1</td>\n",
       "      <td>0</td>\n",
       "      <td>96270.64</td>\n",
       "      <td>0</td>\n",
       "    </tr>\n",
       "    <tr>\n",
       "      <td>9996</td>\n",
       "      <td>516</td>\n",
       "      <td>France</td>\n",
       "      <td>Male</td>\n",
       "      <td>35</td>\n",
       "      <td>10.0</td>\n",
       "      <td>57369.61</td>\n",
       "      <td>1</td>\n",
       "      <td>1</td>\n",
       "      <td>1</td>\n",
       "      <td>101699.77</td>\n",
       "      <td>0</td>\n",
       "    </tr>\n",
       "    <tr>\n",
       "      <td>9997</td>\n",
       "      <td>709</td>\n",
       "      <td>France</td>\n",
       "      <td>Female</td>\n",
       "      <td>36</td>\n",
       "      <td>7.0</td>\n",
       "      <td>0.00</td>\n",
       "      <td>1</td>\n",
       "      <td>0</td>\n",
       "      <td>1</td>\n",
       "      <td>42085.58</td>\n",
       "      <td>1</td>\n",
       "    </tr>\n",
       "    <tr>\n",
       "      <td>9998</td>\n",
       "      <td>772</td>\n",
       "      <td>Germany</td>\n",
       "      <td>Male</td>\n",
       "      <td>42</td>\n",
       "      <td>3.0</td>\n",
       "      <td>75075.31</td>\n",
       "      <td>2</td>\n",
       "      <td>1</td>\n",
       "      <td>0</td>\n",
       "      <td>92888.52</td>\n",
       "      <td>1</td>\n",
       "    </tr>\n",
       "    <tr>\n",
       "      <td>9999</td>\n",
       "      <td>792</td>\n",
       "      <td>France</td>\n",
       "      <td>Female</td>\n",
       "      <td>28</td>\n",
       "      <td>NaN</td>\n",
       "      <td>130142.79</td>\n",
       "      <td>1</td>\n",
       "      <td>1</td>\n",
       "      <td>0</td>\n",
       "      <td>38190.78</td>\n",
       "      <td>0</td>\n",
       "    </tr>\n",
       "  </tbody>\n",
       "</table>\n",
       "<p>10000 rows × 11 columns</p>\n",
       "</div>"
      ],
      "text/plain": [
       "      CreditScore Geography  Gender  Age  Tenure    Balance  NumOfProducts  \\\n",
       "0             619    France  Female   42     2.0       0.00              1   \n",
       "1             608     Spain  Female   41     1.0   83807.86              1   \n",
       "2             502    France  Female   42     8.0  159660.80              3   \n",
       "3             699    France  Female   39     1.0       0.00              2   \n",
       "4             850     Spain  Female   43     2.0  125510.82              1   \n",
       "...           ...       ...     ...  ...     ...        ...            ...   \n",
       "9995          771    France    Male   39     5.0       0.00              2   \n",
       "9996          516    France    Male   35    10.0   57369.61              1   \n",
       "9997          709    France  Female   36     7.0       0.00              1   \n",
       "9998          772   Germany    Male   42     3.0   75075.31              2   \n",
       "9999          792    France  Female   28     NaN  130142.79              1   \n",
       "\n",
       "      HasCrCard  IsActiveMember  EstimatedSalary  Exited  \n",
       "0             1               1        101348.88       1  \n",
       "1             0               1        112542.58       0  \n",
       "2             1               0        113931.57       1  \n",
       "3             0               0         93826.63       0  \n",
       "4             1               1         79084.10       0  \n",
       "...         ...             ...              ...     ...  \n",
       "9995          1               0         96270.64       0  \n",
       "9996          1               1        101699.77       0  \n",
       "9997          0               1         42085.58       1  \n",
       "9998          1               0         92888.52       1  \n",
       "9999          1               0         38190.78       0  \n",
       "\n",
       "[10000 rows x 11 columns]"
      ]
     },
     "execution_count": 6,
     "metadata": {},
     "output_type": "execute_result"
    }
   ],
   "source": [
    "churn = churn.drop(['RowNumber', 'CustomerId', 'Surname'], axis=1)\n",
    "churn"
   ]
  },
  {
   "cell_type": "markdown",
   "metadata": {
    "pycharm": {
     "name": "#%% md\n"
    }
   },
   "source": [
    "Вместо 14 столбцов стало 11. Идём дальше:"
   ]
  },
  {
   "cell_type": "markdown",
   "metadata": {},
   "source": [
    "Заменим названия столбцов:"
   ]
  },
  {
   "cell_type": "code",
   "execution_count": 7,
   "metadata": {
    "pycharm": {
     "name": "#%%\n"
    }
   },
   "outputs": [],
   "source": [
    "churn.set_axis(['credit_score', 'geography', 'gender', 'age', \n",
    "                'tenure', 'balance', 'num_of_products', 'has_cr_card', 'is_active_member',\n",
    "               'estimated_salary', 'exited'],axis = 'columns',inplace = True)"
   ]
  },
  {
   "cell_type": "code",
   "execution_count": 8,
   "metadata": {},
   "outputs": [
    {
     "data": {
      "text/html": [
       "<div>\n",
       "<style scoped>\n",
       "    .dataframe tbody tr th:only-of-type {\n",
       "        vertical-align: middle;\n",
       "    }\n",
       "\n",
       "    .dataframe tbody tr th {\n",
       "        vertical-align: top;\n",
       "    }\n",
       "\n",
       "    .dataframe thead th {\n",
       "        text-align: right;\n",
       "    }\n",
       "</style>\n",
       "<table border=\"1\" class=\"dataframe\">\n",
       "  <thead>\n",
       "    <tr style=\"text-align: right;\">\n",
       "      <th></th>\n",
       "      <th>credit_score</th>\n",
       "      <th>geography</th>\n",
       "      <th>gender</th>\n",
       "      <th>age</th>\n",
       "      <th>tenure</th>\n",
       "      <th>balance</th>\n",
       "      <th>num_of_products</th>\n",
       "      <th>has_cr_card</th>\n",
       "      <th>is_active_member</th>\n",
       "      <th>estimated_salary</th>\n",
       "      <th>exited</th>\n",
       "    </tr>\n",
       "  </thead>\n",
       "  <tbody>\n",
       "    <tr>\n",
       "      <td>0</td>\n",
       "      <td>619</td>\n",
       "      <td>France</td>\n",
       "      <td>Female</td>\n",
       "      <td>42</td>\n",
       "      <td>2.0</td>\n",
       "      <td>0.00</td>\n",
       "      <td>1</td>\n",
       "      <td>1</td>\n",
       "      <td>1</td>\n",
       "      <td>101348.88</td>\n",
       "      <td>1</td>\n",
       "    </tr>\n",
       "    <tr>\n",
       "      <td>1</td>\n",
       "      <td>608</td>\n",
       "      <td>Spain</td>\n",
       "      <td>Female</td>\n",
       "      <td>41</td>\n",
       "      <td>1.0</td>\n",
       "      <td>83807.86</td>\n",
       "      <td>1</td>\n",
       "      <td>0</td>\n",
       "      <td>1</td>\n",
       "      <td>112542.58</td>\n",
       "      <td>0</td>\n",
       "    </tr>\n",
       "    <tr>\n",
       "      <td>2</td>\n",
       "      <td>502</td>\n",
       "      <td>France</td>\n",
       "      <td>Female</td>\n",
       "      <td>42</td>\n",
       "      <td>8.0</td>\n",
       "      <td>159660.80</td>\n",
       "      <td>3</td>\n",
       "      <td>1</td>\n",
       "      <td>0</td>\n",
       "      <td>113931.57</td>\n",
       "      <td>1</td>\n",
       "    </tr>\n",
       "    <tr>\n",
       "      <td>3</td>\n",
       "      <td>699</td>\n",
       "      <td>France</td>\n",
       "      <td>Female</td>\n",
       "      <td>39</td>\n",
       "      <td>1.0</td>\n",
       "      <td>0.00</td>\n",
       "      <td>2</td>\n",
       "      <td>0</td>\n",
       "      <td>0</td>\n",
       "      <td>93826.63</td>\n",
       "      <td>0</td>\n",
       "    </tr>\n",
       "    <tr>\n",
       "      <td>4</td>\n",
       "      <td>850</td>\n",
       "      <td>Spain</td>\n",
       "      <td>Female</td>\n",
       "      <td>43</td>\n",
       "      <td>2.0</td>\n",
       "      <td>125510.82</td>\n",
       "      <td>1</td>\n",
       "      <td>1</td>\n",
       "      <td>1</td>\n",
       "      <td>79084.10</td>\n",
       "      <td>0</td>\n",
       "    </tr>\n",
       "    <tr>\n",
       "      <td>...</td>\n",
       "      <td>...</td>\n",
       "      <td>...</td>\n",
       "      <td>...</td>\n",
       "      <td>...</td>\n",
       "      <td>...</td>\n",
       "      <td>...</td>\n",
       "      <td>...</td>\n",
       "      <td>...</td>\n",
       "      <td>...</td>\n",
       "      <td>...</td>\n",
       "      <td>...</td>\n",
       "    </tr>\n",
       "    <tr>\n",
       "      <td>9995</td>\n",
       "      <td>771</td>\n",
       "      <td>France</td>\n",
       "      <td>Male</td>\n",
       "      <td>39</td>\n",
       "      <td>5.0</td>\n",
       "      <td>0.00</td>\n",
       "      <td>2</td>\n",
       "      <td>1</td>\n",
       "      <td>0</td>\n",
       "      <td>96270.64</td>\n",
       "      <td>0</td>\n",
       "    </tr>\n",
       "    <tr>\n",
       "      <td>9996</td>\n",
       "      <td>516</td>\n",
       "      <td>France</td>\n",
       "      <td>Male</td>\n",
       "      <td>35</td>\n",
       "      <td>10.0</td>\n",
       "      <td>57369.61</td>\n",
       "      <td>1</td>\n",
       "      <td>1</td>\n",
       "      <td>1</td>\n",
       "      <td>101699.77</td>\n",
       "      <td>0</td>\n",
       "    </tr>\n",
       "    <tr>\n",
       "      <td>9997</td>\n",
       "      <td>709</td>\n",
       "      <td>France</td>\n",
       "      <td>Female</td>\n",
       "      <td>36</td>\n",
       "      <td>7.0</td>\n",
       "      <td>0.00</td>\n",
       "      <td>1</td>\n",
       "      <td>0</td>\n",
       "      <td>1</td>\n",
       "      <td>42085.58</td>\n",
       "      <td>1</td>\n",
       "    </tr>\n",
       "    <tr>\n",
       "      <td>9998</td>\n",
       "      <td>772</td>\n",
       "      <td>Germany</td>\n",
       "      <td>Male</td>\n",
       "      <td>42</td>\n",
       "      <td>3.0</td>\n",
       "      <td>75075.31</td>\n",
       "      <td>2</td>\n",
       "      <td>1</td>\n",
       "      <td>0</td>\n",
       "      <td>92888.52</td>\n",
       "      <td>1</td>\n",
       "    </tr>\n",
       "    <tr>\n",
       "      <td>9999</td>\n",
       "      <td>792</td>\n",
       "      <td>France</td>\n",
       "      <td>Female</td>\n",
       "      <td>28</td>\n",
       "      <td>NaN</td>\n",
       "      <td>130142.79</td>\n",
       "      <td>1</td>\n",
       "      <td>1</td>\n",
       "      <td>0</td>\n",
       "      <td>38190.78</td>\n",
       "      <td>0</td>\n",
       "    </tr>\n",
       "  </tbody>\n",
       "</table>\n",
       "<p>10000 rows × 11 columns</p>\n",
       "</div>"
      ],
      "text/plain": [
       "      credit_score geography  gender  age  tenure    balance  num_of_products  \\\n",
       "0              619    France  Female   42     2.0       0.00                1   \n",
       "1              608     Spain  Female   41     1.0   83807.86                1   \n",
       "2              502    France  Female   42     8.0  159660.80                3   \n",
       "3              699    France  Female   39     1.0       0.00                2   \n",
       "4              850     Spain  Female   43     2.0  125510.82                1   \n",
       "...            ...       ...     ...  ...     ...        ...              ...   \n",
       "9995           771    France    Male   39     5.0       0.00                2   \n",
       "9996           516    France    Male   35    10.0   57369.61                1   \n",
       "9997           709    France  Female   36     7.0       0.00                1   \n",
       "9998           772   Germany    Male   42     3.0   75075.31                2   \n",
       "9999           792    France  Female   28     NaN  130142.79                1   \n",
       "\n",
       "      has_cr_card  is_active_member  estimated_salary  exited  \n",
       "0               1                 1         101348.88       1  \n",
       "1               0                 1         112542.58       0  \n",
       "2               1                 0         113931.57       1  \n",
       "3               0                 0          93826.63       0  \n",
       "4               1                 1          79084.10       0  \n",
       "...           ...               ...               ...     ...  \n",
       "9995            1                 0          96270.64       0  \n",
       "9996            1                 1         101699.77       0  \n",
       "9997            0                 1          42085.58       1  \n",
       "9998            1                 0          92888.52       1  \n",
       "9999            1                 0          38190.78       0  \n",
       "\n",
       "[10000 rows x 11 columns]"
      ]
     },
     "execution_count": 8,
     "metadata": {},
     "output_type": "execute_result"
    }
   ],
   "source": [
    "churn"
   ]
  },
  {
   "cell_type": "markdown",
   "metadata": {
    "pycharm": {
     "name": "#%% md\n"
    }
   },
   "source": [
    "Теперь посмотрим, какие уникальные значения есть в столбце \"tenure\":"
   ]
  },
  {
   "cell_type": "code",
   "execution_count": 9,
   "metadata": {
    "pycharm": {
     "name": "#%%\n"
    }
   },
   "outputs": [
    {
     "data": {
      "text/plain": [
       "array([ 2.,  1.,  8.,  7.,  4.,  6.,  3., 10.,  5.,  9.,  0., nan])"
      ]
     },
     "execution_count": 9,
     "metadata": {},
     "output_type": "execute_result"
    }
   ],
   "source": [
    "churn['tenure'].unique()"
   ]
  },
  {
   "cell_type": "markdown",
   "metadata": {
    "pycharm": {
     "name": "#%% md\n"
    }
   },
   "source": [
    "Посчитаем количество пропусков:"
   ]
  },
  {
   "cell_type": "code",
   "execution_count": 10,
   "metadata": {
    "pycharm": {
     "name": "#%%\n"
    }
   },
   "outputs": [
    {
     "data": {
      "text/plain": [
       "909"
      ]
     },
     "execution_count": 10,
     "metadata": {},
     "output_type": "execute_result"
    }
   ],
   "source": [
    "churn['tenure'].isna().sum()"
   ]
  },
  {
   "cell_type": "markdown",
   "metadata": {
    "pycharm": {
     "name": "#%% md\n"
    }
   },
   "source": [
    "Почти 10-я часть. Посчитаем количество клиентов с определенным количеством недвижимости:"
   ]
  },
  {
   "cell_type": "code",
   "execution_count": 11,
   "metadata": {
    "pycharm": {
     "name": "#%%\n"
    }
   },
   "outputs": [
    {
     "data": {
      "text/plain": [
       "1.0     952\n",
       "2.0     950\n",
       "8.0     933\n",
       "3.0     928\n",
       "5.0     927\n",
       "7.0     925\n",
       "4.0     885\n",
       "9.0     882\n",
       "6.0     881\n",
       "10.0    446\n",
       "0.0     382\n",
       "Name: tenure, dtype: int64"
      ]
     },
     "execution_count": 11,
     "metadata": {},
     "output_type": "execute_result"
    }
   ],
   "source": [
    "churn['tenure'].value_counts()"
   ]
  },
  {
   "cell_type": "markdown",
   "metadata": {
    "pycharm": {
     "name": "#%% md\n"
    }
   },
   "source": [
    "Большая часть клиентов имеют 1 недвижимость в собственности. Выглядит вполне логично. Однако пропусков у нас достаточно много. Заполнить более 900 пропусков цифрой 1, как наиболее часто встречающимся значением, не является верным. Также как и заполнение средним или медианой. Поэтому мы можем заполнить пропуски нулями, предположив, что данные по клиентам могли заполняться вручную, а пропуск в столбце \"количество недвижимости\" говорит о том, что недвижимости у клиента в собственности нет. Довольно частая практика, т.к. возможно, клиент как раз берет кредит на покупку недвижимости. В таком случае заполним пропуски нулями:"
   ]
  },
  {
   "cell_type": "code",
   "execution_count": 12,
   "metadata": {
    "pycharm": {
     "name": "#%%\n"
    }
   },
   "outputs": [
    {
     "data": {
      "text/plain": [
       "array([ 2.,  1.,  8.,  7.,  4.,  6.,  3., 10.,  5.,  9.,  0.])"
      ]
     },
     "execution_count": 12,
     "metadata": {},
     "output_type": "execute_result"
    }
   ],
   "source": [
    "churn['tenure'] = churn['tenure'].fillna(0)\n",
    "churn['tenure'].unique()"
   ]
  },
  {
   "cell_type": "markdown",
   "metadata": {
    "pycharm": {
     "name": "#%% md\n"
    }
   },
   "source": [
    "Также стоит привести данные столбца к типу int64, т.к. столбец содержит только целые числа:"
   ]
  },
  {
   "cell_type": "code",
   "execution_count": 13,
   "metadata": {
    "pycharm": {
     "name": "#%%\n"
    }
   },
   "outputs": [
    {
     "data": {
      "text/plain": [
       "dtype('float64')"
      ]
     },
     "execution_count": 13,
     "metadata": {},
     "output_type": "execute_result"
    }
   ],
   "source": [
    "churn['tenure'].dtype"
   ]
  },
  {
   "cell_type": "code",
   "execution_count": 14,
   "metadata": {},
   "outputs": [
    {
     "data": {
      "text/plain": [
       "dtype('int64')"
      ]
     },
     "execution_count": 14,
     "metadata": {},
     "output_type": "execute_result"
    }
   ],
   "source": [
    "churn['tenure'] = churn['tenure'].astype('int64')\n",
    "churn['tenure'].dtype"
   ]
  },
  {
   "cell_type": "code",
   "execution_count": 15,
   "metadata": {},
   "outputs": [
    {
     "data": {
      "text/plain": [
       "array([ 2,  1,  8,  7,  4,  6,  3, 10,  5,  9,  0])"
      ]
     },
     "execution_count": 15,
     "metadata": {},
     "output_type": "execute_result"
    }
   ],
   "source": [
    "churn['tenure'].unique()"
   ]
  },
  {
   "cell_type": "markdown",
   "metadata": {
    "pycharm": {
     "name": "#%% md\n"
    }
   },
   "source": [
    "Остальные столбцы в изменении типов данных не нуждаются."
   ]
  },
  {
   "cell_type": "markdown",
   "metadata": {},
   "source": [
    "### Разделение выборки"
   ]
  },
  {
   "cell_type": "markdown",
   "metadata": {},
   "source": [
    "В связи с тем, что спрятанной тестовой выборки у нас нет, данные нужно будет разбить на три части: обучающую, валидационную и тестовую. Размеры тестового и валидационного наборов обычно равны. Исходные данные разбивают в соотношении 3:1:1. Разобьем в данной пропорции: обучающая выборка будет 60% от всех данных, валидационная и тестовая - по 20%."
   ]
  },
  {
   "cell_type": "markdown",
   "metadata": {},
   "source": [
    "Поскольку нам необходимо будет обучить несколько разных моделей, таких как: логистическая регрессия, случайный лес и дерево решений, подготовка к обучению моделей носит различный характер. Помимо самих данных также к обучению следует подготовить и признаки. Подготовка признаков начинается с преобразования категориальных признаков в численные, однако для разных моделей оно разное. Так, например, для обучения логистической регрессии преобразовать категориальные признаки, имеющиеся в нашем датафрейме, можно с помощью прямого кодирования, тогда как для случайного леса или дерева решений это не подойдет: кодирование должно быть порядковым. Поэтому мы сделаем оба вида кодирования."
   ]
  },
  {
   "cell_type": "markdown",
   "metadata": {},
   "source": [
    "Начнем с подготовки признаков для обучения модели логистической регрессии. В этом вопросе нам поможет техника прямого кодирования, или отображения. При этом нам необходимо учитывать дамми-ловушку. Чтобы не попасть в нее, уберём первый столбец вызовом функции pd.get_dummies():"
   ]
  },
  {
   "cell_type": "code",
   "execution_count": 16,
   "metadata": {
    "pycharm": {
     "name": "#%%\n"
    }
   },
   "outputs": [],
   "source": [
    "churn_ohe = pd.get_dummies(churn, drop_first=True)\n",
    "target = churn_ohe['exited']\n",
    "features = churn_ohe.drop('exited', axis=1)"
   ]
  },
  {
   "cell_type": "markdown",
   "metadata": {
    "pycharm": {
     "name": "#%% md\n"
    }
   },
   "source": [
    "Теперь разделим датафрейм на 3 части:"
   ]
  },
  {
   "cell_type": "code",
   "execution_count": 17,
   "metadata": {
    "pycharm": {
     "name": "#%%\n"
    }
   },
   "outputs": [],
   "source": [
    "features_train, features_valid, target_train, target_valid = \\\n",
    "                                train_test_split(features, target, test_size=0.4, random_state=12345)\n",
    "\n",
    "features_valid, features_test, target_valid, target_test = \\\n",
    "                                train_test_split(features_valid, target_valid, test_size=0.5, random_state=12345)"
   ]
  },
  {
   "cell_type": "code",
   "execution_count": 18,
   "metadata": {},
   "outputs": [
    {
     "name": "stdout",
     "output_type": "stream",
     "text": [
      "features_train: (6000, 11)\n",
      "target_train: (6000,)\n",
      "features_valid: (2000, 11)\n",
      "target_valid: (2000,)\n",
      "features_test: (2000, 11)\n",
      "target_test: (2000,)\n"
     ]
    }
   ],
   "source": [
    "print('features_train:', features_train.shape)\n",
    "print('target_train:', target_train.shape)\n",
    "print('features_valid:', features_valid.shape)\n",
    "print('target_valid:', target_valid.shape)\n",
    "print('features_test:', features_test.shape)\n",
    "print('target_test:', target_test.shape)"
   ]
  },
  {
   "cell_type": "markdown",
   "metadata": {
    "pycharm": {
     "name": "#%% md\n"
    }
   },
   "source": [
    "Теперь разделим выборку для обучения моделей случайный лес и дерево решений. Для подготовки признаков используем метод порядкового кодирования:"
   ]
  },
  {
   "cell_type": "code",
   "execution_count": 19,
   "metadata": {
    "pycharm": {
     "name": "#%%\n"
    }
   },
   "outputs": [],
   "source": [
    "churn_ordinal = churn"
   ]
  },
  {
   "cell_type": "code",
   "execution_count": 20,
   "metadata": {},
   "outputs": [],
   "source": [
    "churn_ordinal[['geography', 'gender']] = OrdinalEncoder().fit_transform(churn_ordinal[['geography', 'gender']])"
   ]
  },
  {
   "cell_type": "code",
   "execution_count": 21,
   "metadata": {},
   "outputs": [
    {
     "data": {
      "text/html": [
       "<div>\n",
       "<style scoped>\n",
       "    .dataframe tbody tr th:only-of-type {\n",
       "        vertical-align: middle;\n",
       "    }\n",
       "\n",
       "    .dataframe tbody tr th {\n",
       "        vertical-align: top;\n",
       "    }\n",
       "\n",
       "    .dataframe thead th {\n",
       "        text-align: right;\n",
       "    }\n",
       "</style>\n",
       "<table border=\"1\" class=\"dataframe\">\n",
       "  <thead>\n",
       "    <tr style=\"text-align: right;\">\n",
       "      <th></th>\n",
       "      <th>credit_score</th>\n",
       "      <th>geography</th>\n",
       "      <th>gender</th>\n",
       "      <th>age</th>\n",
       "      <th>tenure</th>\n",
       "      <th>balance</th>\n",
       "      <th>num_of_products</th>\n",
       "      <th>has_cr_card</th>\n",
       "      <th>is_active_member</th>\n",
       "      <th>estimated_salary</th>\n",
       "      <th>exited</th>\n",
       "    </tr>\n",
       "  </thead>\n",
       "  <tbody>\n",
       "    <tr>\n",
       "      <td>0</td>\n",
       "      <td>619</td>\n",
       "      <td>0.0</td>\n",
       "      <td>0.0</td>\n",
       "      <td>42</td>\n",
       "      <td>2</td>\n",
       "      <td>0.00</td>\n",
       "      <td>1</td>\n",
       "      <td>1</td>\n",
       "      <td>1</td>\n",
       "      <td>101348.88</td>\n",
       "      <td>1</td>\n",
       "    </tr>\n",
       "    <tr>\n",
       "      <td>1</td>\n",
       "      <td>608</td>\n",
       "      <td>2.0</td>\n",
       "      <td>0.0</td>\n",
       "      <td>41</td>\n",
       "      <td>1</td>\n",
       "      <td>83807.86</td>\n",
       "      <td>1</td>\n",
       "      <td>0</td>\n",
       "      <td>1</td>\n",
       "      <td>112542.58</td>\n",
       "      <td>0</td>\n",
       "    </tr>\n",
       "    <tr>\n",
       "      <td>2</td>\n",
       "      <td>502</td>\n",
       "      <td>0.0</td>\n",
       "      <td>0.0</td>\n",
       "      <td>42</td>\n",
       "      <td>8</td>\n",
       "      <td>159660.80</td>\n",
       "      <td>3</td>\n",
       "      <td>1</td>\n",
       "      <td>0</td>\n",
       "      <td>113931.57</td>\n",
       "      <td>1</td>\n",
       "    </tr>\n",
       "    <tr>\n",
       "      <td>3</td>\n",
       "      <td>699</td>\n",
       "      <td>0.0</td>\n",
       "      <td>0.0</td>\n",
       "      <td>39</td>\n",
       "      <td>1</td>\n",
       "      <td>0.00</td>\n",
       "      <td>2</td>\n",
       "      <td>0</td>\n",
       "      <td>0</td>\n",
       "      <td>93826.63</td>\n",
       "      <td>0</td>\n",
       "    </tr>\n",
       "    <tr>\n",
       "      <td>4</td>\n",
       "      <td>850</td>\n",
       "      <td>2.0</td>\n",
       "      <td>0.0</td>\n",
       "      <td>43</td>\n",
       "      <td>2</td>\n",
       "      <td>125510.82</td>\n",
       "      <td>1</td>\n",
       "      <td>1</td>\n",
       "      <td>1</td>\n",
       "      <td>79084.10</td>\n",
       "      <td>0</td>\n",
       "    </tr>\n",
       "    <tr>\n",
       "      <td>...</td>\n",
       "      <td>...</td>\n",
       "      <td>...</td>\n",
       "      <td>...</td>\n",
       "      <td>...</td>\n",
       "      <td>...</td>\n",
       "      <td>...</td>\n",
       "      <td>...</td>\n",
       "      <td>...</td>\n",
       "      <td>...</td>\n",
       "      <td>...</td>\n",
       "      <td>...</td>\n",
       "    </tr>\n",
       "    <tr>\n",
       "      <td>9995</td>\n",
       "      <td>771</td>\n",
       "      <td>0.0</td>\n",
       "      <td>1.0</td>\n",
       "      <td>39</td>\n",
       "      <td>5</td>\n",
       "      <td>0.00</td>\n",
       "      <td>2</td>\n",
       "      <td>1</td>\n",
       "      <td>0</td>\n",
       "      <td>96270.64</td>\n",
       "      <td>0</td>\n",
       "    </tr>\n",
       "    <tr>\n",
       "      <td>9996</td>\n",
       "      <td>516</td>\n",
       "      <td>0.0</td>\n",
       "      <td>1.0</td>\n",
       "      <td>35</td>\n",
       "      <td>10</td>\n",
       "      <td>57369.61</td>\n",
       "      <td>1</td>\n",
       "      <td>1</td>\n",
       "      <td>1</td>\n",
       "      <td>101699.77</td>\n",
       "      <td>0</td>\n",
       "    </tr>\n",
       "    <tr>\n",
       "      <td>9997</td>\n",
       "      <td>709</td>\n",
       "      <td>0.0</td>\n",
       "      <td>0.0</td>\n",
       "      <td>36</td>\n",
       "      <td>7</td>\n",
       "      <td>0.00</td>\n",
       "      <td>1</td>\n",
       "      <td>0</td>\n",
       "      <td>1</td>\n",
       "      <td>42085.58</td>\n",
       "      <td>1</td>\n",
       "    </tr>\n",
       "    <tr>\n",
       "      <td>9998</td>\n",
       "      <td>772</td>\n",
       "      <td>1.0</td>\n",
       "      <td>1.0</td>\n",
       "      <td>42</td>\n",
       "      <td>3</td>\n",
       "      <td>75075.31</td>\n",
       "      <td>2</td>\n",
       "      <td>1</td>\n",
       "      <td>0</td>\n",
       "      <td>92888.52</td>\n",
       "      <td>1</td>\n",
       "    </tr>\n",
       "    <tr>\n",
       "      <td>9999</td>\n",
       "      <td>792</td>\n",
       "      <td>0.0</td>\n",
       "      <td>0.0</td>\n",
       "      <td>28</td>\n",
       "      <td>0</td>\n",
       "      <td>130142.79</td>\n",
       "      <td>1</td>\n",
       "      <td>1</td>\n",
       "      <td>0</td>\n",
       "      <td>38190.78</td>\n",
       "      <td>0</td>\n",
       "    </tr>\n",
       "  </tbody>\n",
       "</table>\n",
       "<p>10000 rows × 11 columns</p>\n",
       "</div>"
      ],
      "text/plain": [
       "      credit_score  geography  gender  age  tenure    balance  \\\n",
       "0              619        0.0     0.0   42       2       0.00   \n",
       "1              608        2.0     0.0   41       1   83807.86   \n",
       "2              502        0.0     0.0   42       8  159660.80   \n",
       "3              699        0.0     0.0   39       1       0.00   \n",
       "4              850        2.0     0.0   43       2  125510.82   \n",
       "...            ...        ...     ...  ...     ...        ...   \n",
       "9995           771        0.0     1.0   39       5       0.00   \n",
       "9996           516        0.0     1.0   35      10   57369.61   \n",
       "9997           709        0.0     0.0   36       7       0.00   \n",
       "9998           772        1.0     1.0   42       3   75075.31   \n",
       "9999           792        0.0     0.0   28       0  130142.79   \n",
       "\n",
       "      num_of_products  has_cr_card  is_active_member  estimated_salary  exited  \n",
       "0                   1            1                 1         101348.88       1  \n",
       "1                   1            0                 1         112542.58       0  \n",
       "2                   3            1                 0         113931.57       1  \n",
       "3                   2            0                 0          93826.63       0  \n",
       "4                   1            1                 1          79084.10       0  \n",
       "...               ...          ...               ...               ...     ...  \n",
       "9995                2            1                 0          96270.64       0  \n",
       "9996                1            1                 1         101699.77       0  \n",
       "9997                1            0                 1          42085.58       1  \n",
       "9998                2            1                 0          92888.52       1  \n",
       "9999                1            1                 0          38190.78       0  \n",
       "\n",
       "[10000 rows x 11 columns]"
      ]
     },
     "execution_count": 21,
     "metadata": {},
     "output_type": "execute_result"
    }
   ],
   "source": [
    "churn_ordinal"
   ]
  },
  {
   "cell_type": "code",
   "execution_count": 22,
   "metadata": {},
   "outputs": [],
   "source": [
    "target_ordinal = churn_ordinal['exited']\n",
    "features_ordinal = churn_ordinal.drop('exited', axis=1)"
   ]
  },
  {
   "cell_type": "code",
   "execution_count": 23,
   "metadata": {},
   "outputs": [],
   "source": [
    "features_ordinal_train, features_ordinal_valid, target_ordinal_train, target_ordinal_valid = train_test_split(features_ordinal, target_ordinal, test_size=0.4, random_state=12345)\n",
    "features_ordinal_valid, features_ordinal_test, target_ordinal_valid, target_ordinal_test = train_test_split(features_ordinal_valid, target_ordinal_valid, test_size=0.5, random_state=12345)"
   ]
  },
  {
   "cell_type": "code",
   "execution_count": 24,
   "metadata": {},
   "outputs": [
    {
     "name": "stdout",
     "output_type": "stream",
     "text": [
      "features_ordinal_train: (6000, 10)\n",
      "target_ordinal_train: (6000,)\n",
      "features_ordinal_valid: (2000, 10)\n",
      "target_ordinal_valid: (2000,)\n",
      "features_ordinal_test: (2000, 10)\n",
      "target_ordinal_test: (2000,)\n"
     ]
    }
   ],
   "source": [
    "print('features_ordinal_train:', features_ordinal_train.shape)\n",
    "print('target_ordinal_train:', target_ordinal_train.shape)\n",
    "print('features_ordinal_valid:', features_ordinal_valid.shape)\n",
    "print('target_ordinal_valid:', target_ordinal_valid.shape)\n",
    "print('features_ordinal_test:', features_ordinal_test.shape)\n",
    "print('target_ordinal_test:', target_ordinal_test.shape)"
   ]
  },
  {
   "cell_type": "code",
   "execution_count": 25,
   "metadata": {},
   "outputs": [
    {
     "data": {
      "text/html": [
       "<div>\n",
       "<style scoped>\n",
       "    .dataframe tbody tr th:only-of-type {\n",
       "        vertical-align: middle;\n",
       "    }\n",
       "\n",
       "    .dataframe tbody tr th {\n",
       "        vertical-align: top;\n",
       "    }\n",
       "\n",
       "    .dataframe thead th {\n",
       "        text-align: right;\n",
       "    }\n",
       "</style>\n",
       "<table border=\"1\" class=\"dataframe\">\n",
       "  <thead>\n",
       "    <tr style=\"text-align: right;\">\n",
       "      <th></th>\n",
       "      <th>credit_score</th>\n",
       "      <th>geography</th>\n",
       "      <th>gender</th>\n",
       "      <th>age</th>\n",
       "      <th>tenure</th>\n",
       "      <th>balance</th>\n",
       "      <th>num_of_products</th>\n",
       "      <th>has_cr_card</th>\n",
       "      <th>is_active_member</th>\n",
       "      <th>estimated_salary</th>\n",
       "    </tr>\n",
       "  </thead>\n",
       "  <tbody>\n",
       "    <tr>\n",
       "      <td>7479</td>\n",
       "      <td>567</td>\n",
       "      <td>2.0</td>\n",
       "      <td>1.0</td>\n",
       "      <td>35</td>\n",
       "      <td>8</td>\n",
       "      <td>153137.74</td>\n",
       "      <td>1</td>\n",
       "      <td>1</td>\n",
       "      <td>0</td>\n",
       "      <td>88659.07</td>\n",
       "    </tr>\n",
       "    <tr>\n",
       "      <td>3411</td>\n",
       "      <td>711</td>\n",
       "      <td>0.0</td>\n",
       "      <td>0.0</td>\n",
       "      <td>37</td>\n",
       "      <td>8</td>\n",
       "      <td>113899.92</td>\n",
       "      <td>1</td>\n",
       "      <td>0</td>\n",
       "      <td>0</td>\n",
       "      <td>80215.20</td>\n",
       "    </tr>\n",
       "    <tr>\n",
       "      <td>6027</td>\n",
       "      <td>850</td>\n",
       "      <td>1.0</td>\n",
       "      <td>1.0</td>\n",
       "      <td>44</td>\n",
       "      <td>3</td>\n",
       "      <td>140393.65</td>\n",
       "      <td>2</td>\n",
       "      <td>0</td>\n",
       "      <td>1</td>\n",
       "      <td>186285.52</td>\n",
       "    </tr>\n",
       "    <tr>\n",
       "      <td>1247</td>\n",
       "      <td>512</td>\n",
       "      <td>0.0</td>\n",
       "      <td>1.0</td>\n",
       "      <td>24</td>\n",
       "      <td>6</td>\n",
       "      <td>0.00</td>\n",
       "      <td>2</td>\n",
       "      <td>1</td>\n",
       "      <td>0</td>\n",
       "      <td>37654.31</td>\n",
       "    </tr>\n",
       "    <tr>\n",
       "      <td>3716</td>\n",
       "      <td>665</td>\n",
       "      <td>1.0</td>\n",
       "      <td>0.0</td>\n",
       "      <td>27</td>\n",
       "      <td>2</td>\n",
       "      <td>147435.96</td>\n",
       "      <td>1</td>\n",
       "      <td>0</td>\n",
       "      <td>0</td>\n",
       "      <td>187508.06</td>\n",
       "    </tr>\n",
       "    <tr>\n",
       "      <td>...</td>\n",
       "      <td>...</td>\n",
       "      <td>...</td>\n",
       "      <td>...</td>\n",
       "      <td>...</td>\n",
       "      <td>...</td>\n",
       "      <td>...</td>\n",
       "      <td>...</td>\n",
       "      <td>...</td>\n",
       "      <td>...</td>\n",
       "      <td>...</td>\n",
       "    </tr>\n",
       "    <tr>\n",
       "      <td>4478</td>\n",
       "      <td>549</td>\n",
       "      <td>0.0</td>\n",
       "      <td>1.0</td>\n",
       "      <td>31</td>\n",
       "      <td>4</td>\n",
       "      <td>0.00</td>\n",
       "      <td>2</td>\n",
       "      <td>0</td>\n",
       "      <td>1</td>\n",
       "      <td>25684.85</td>\n",
       "    </tr>\n",
       "    <tr>\n",
       "      <td>4094</td>\n",
       "      <td>513</td>\n",
       "      <td>0.0</td>\n",
       "      <td>1.0</td>\n",
       "      <td>29</td>\n",
       "      <td>10</td>\n",
       "      <td>0.00</td>\n",
       "      <td>2</td>\n",
       "      <td>0</td>\n",
       "      <td>1</td>\n",
       "      <td>25514.77</td>\n",
       "    </tr>\n",
       "    <tr>\n",
       "      <td>3492</td>\n",
       "      <td>655</td>\n",
       "      <td>0.0</td>\n",
       "      <td>0.0</td>\n",
       "      <td>45</td>\n",
       "      <td>0</td>\n",
       "      <td>57327.04</td>\n",
       "      <td>1</td>\n",
       "      <td>0</td>\n",
       "      <td>1</td>\n",
       "      <td>47349.00</td>\n",
       "    </tr>\n",
       "    <tr>\n",
       "      <td>2177</td>\n",
       "      <td>667</td>\n",
       "      <td>0.0</td>\n",
       "      <td>0.0</td>\n",
       "      <td>24</td>\n",
       "      <td>4</td>\n",
       "      <td>0.00</td>\n",
       "      <td>2</td>\n",
       "      <td>0</td>\n",
       "      <td>1</td>\n",
       "      <td>34335.55</td>\n",
       "    </tr>\n",
       "    <tr>\n",
       "      <td>4578</td>\n",
       "      <td>691</td>\n",
       "      <td>0.0</td>\n",
       "      <td>1.0</td>\n",
       "      <td>38</td>\n",
       "      <td>1</td>\n",
       "      <td>0.00</td>\n",
       "      <td>2</td>\n",
       "      <td>0</td>\n",
       "      <td>0</td>\n",
       "      <td>44653.50</td>\n",
       "    </tr>\n",
       "  </tbody>\n",
       "</table>\n",
       "<p>6000 rows × 10 columns</p>\n",
       "</div>"
      ],
      "text/plain": [
       "      credit_score  geography  gender  age  tenure    balance  \\\n",
       "7479           567        2.0     1.0   35       8  153137.74   \n",
       "3411           711        0.0     0.0   37       8  113899.92   \n",
       "6027           850        1.0     1.0   44       3  140393.65   \n",
       "1247           512        0.0     1.0   24       6       0.00   \n",
       "3716           665        1.0     0.0   27       2  147435.96   \n",
       "...            ...        ...     ...  ...     ...        ...   \n",
       "4478           549        0.0     1.0   31       4       0.00   \n",
       "4094           513        0.0     1.0   29      10       0.00   \n",
       "3492           655        0.0     0.0   45       0   57327.04   \n",
       "2177           667        0.0     0.0   24       4       0.00   \n",
       "4578           691        0.0     1.0   38       1       0.00   \n",
       "\n",
       "      num_of_products  has_cr_card  is_active_member  estimated_salary  \n",
       "7479                1            1                 0          88659.07  \n",
       "3411                1            0                 0          80215.20  \n",
       "6027                2            0                 1         186285.52  \n",
       "1247                2            1                 0          37654.31  \n",
       "3716                1            0                 0         187508.06  \n",
       "...               ...          ...               ...               ...  \n",
       "4478                2            0                 1          25684.85  \n",
       "4094                2            0                 1          25514.77  \n",
       "3492                1            0                 1          47349.00  \n",
       "2177                2            0                 1          34335.55  \n",
       "4578                2            0                 0          44653.50  \n",
       "\n",
       "[6000 rows x 10 columns]"
      ]
     },
     "execution_count": 25,
     "metadata": {},
     "output_type": "execute_result"
    }
   ],
   "source": [
    "features_ordinal_train"
   ]
  },
  {
   "cell_type": "markdown",
   "metadata": {
    "pycharm": {
     "name": "#%% md\n"
    }
   },
   "source": [
    "Выборка разделена успешно. Выделены признаки и целевой признак для каждой выборки. Учтен объем каждой выборки. В выборке для логистической регрессии количество столбцов увеличилось, а в выборке для обучения других моделей количество столбцов осталось прежним, соответственно, всё сделано корректно."
   ]
  },
  {
   "cell_type": "markdown",
   "metadata": {},
   "source": [
    "Для нашего удобства выборку для обучения логистической регрессии обозначим, как выборка ЛР, а выборку для обучения других моделей обозначим, как: СЛ."
   ]
  },
  {
   "cell_type": "markdown",
   "metadata": {},
   "source": [
    "### Масштабирование признаков"
   ]
  },
  {
   "cell_type": "markdown",
   "metadata": {},
   "source": [
    "Следующим шагом нашей предобработки данных станет масштабирование. Перепроверим значения нескольких столбцов, чтобы определить его необходимость:"
   ]
  },
  {
   "cell_type": "code",
   "execution_count": 26,
   "metadata": {
    "pycharm": {
     "name": "#%%\n"
    }
   },
   "outputs": [
    {
     "name": "stdout",
     "output_type": "stream",
     "text": [
      "92\n"
     ]
    },
    {
     "data": {
      "text/plain": [
       "18"
      ]
     },
     "execution_count": 26,
     "metadata": {},
     "output_type": "execute_result"
    }
   ],
   "source": [
    "print(churn['age'].max())\n",
    "churn['age'].min()"
   ]
  },
  {
   "cell_type": "code",
   "execution_count": 27,
   "metadata": {},
   "outputs": [
    {
     "name": "stdout",
     "output_type": "stream",
     "text": [
      "250898.09\n"
     ]
    },
    {
     "data": {
      "text/plain": [
       "0.0"
      ]
     },
     "execution_count": 27,
     "metadata": {},
     "output_type": "execute_result"
    }
   ],
   "source": [
    "print(churn['balance'].max())\n",
    "churn['balance'].min()"
   ]
  },
  {
   "cell_type": "code",
   "execution_count": 28,
   "metadata": {},
   "outputs": [
    {
     "name": "stdout",
     "output_type": "stream",
     "text": [
      "199992.48\n"
     ]
    },
    {
     "data": {
      "text/plain": [
       "11.58"
      ]
     },
     "execution_count": 28,
     "metadata": {},
     "output_type": "execute_result"
    }
   ],
   "source": [
    "print(churn['estimated_salary'].max())\n",
    "churn['estimated_salary'].min()"
   ]
  },
  {
   "cell_type": "markdown",
   "metadata": {
    "pycharm": {
     "name": "#%% md\n"
    }
   },
   "source": [
    "Наша проверка показала, что масштабирование необходимо провести, потому как у нас наблюдается перекос в значениях и их разбросе в нашем датафрейме. Так, например, возраст клиентов располагается в интервале от 18 до 92 лет, баланс на счете - в интервале 0 - 250 898.09, а предполагаемая зарплата - в интервале от 11.58 до 199 992.48. Получается, в двух последних столбцах значения и их разбросы больше, поэтому алгоритм автоматически решит, что этот признак важнее возраста, в то время как для нас все признаки являются значимыми.\n",
    "В этой связи мы масштабируем признаки, т.е. приведем их к одному масштабу. Сделаем это при помощи стандартизации данных:"
   ]
  },
  {
   "cell_type": "markdown",
   "metadata": {},
   "source": [
    "***Для ЛР:***"
   ]
  },
  {
   "cell_type": "code",
   "execution_count": 29,
   "metadata": {
    "pycharm": {
     "name": "#%%\n"
    }
   },
   "outputs": [],
   "source": [
    "numeric = ['credit_score', 'age', 'tenure', 'balance', 'num_of_products', \n",
    "           'has_cr_card', 'is_active_member', 'estimated_salary']"
   ]
  },
  {
   "cell_type": "markdown",
   "metadata": {
    "pycharm": {
     "name": "#%% md\n"
    }
   },
   "source": [
    "Создадим объект структуры стандартизации данных и настроим его на обучающих данных:"
   ]
  },
  {
   "cell_type": "code",
   "execution_count": 30,
   "metadata": {
    "pycharm": {
     "name": "#%%\n"
    }
   },
   "outputs": [
    {
     "name": "stderr",
     "output_type": "stream",
     "text": [
      "/opt/conda/lib/python3.7/site-packages/ipykernel_launcher.py:3: SettingWithCopyWarning: \n",
      "A value is trying to be set on a copy of a slice from a DataFrame.\n",
      "Try using .loc[row_indexer,col_indexer] = value instead\n",
      "\n",
      "See the caveats in the documentation: http://pandas.pydata.org/pandas-docs/stable/user_guide/indexing.html#returning-a-view-versus-a-copy\n",
      "  This is separate from the ipykernel package so we can avoid doing imports until\n",
      "/opt/conda/lib/python3.7/site-packages/pandas/core/indexing.py:494: SettingWithCopyWarning: \n",
      "A value is trying to be set on a copy of a slice from a DataFrame.\n",
      "Try using .loc[row_indexer,col_indexer] = value instead\n",
      "\n",
      "See the caveats in the documentation: http://pandas.pydata.org/pandas-docs/stable/user_guide/indexing.html#returning-a-view-versus-a-copy\n",
      "  self.obj[item] = s\n"
     ]
    }
   ],
   "source": [
    "scaler = StandardScaler()\n",
    "scaler.fit(features_train[numeric])\n",
    "features_train[numeric] = scaler.transform(features_train[numeric])"
   ]
  },
  {
   "cell_type": "markdown",
   "metadata": {
    "pycharm": {
     "name": "#%% md\n"
    }
   },
   "source": [
    "Для валидационной выборки:"
   ]
  },
  {
   "cell_type": "code",
   "execution_count": 31,
   "metadata": {
    "pycharm": {
     "name": "#%%\n"
    }
   },
   "outputs": [
    {
     "data": {
      "text/html": [
       "<div>\n",
       "<style scoped>\n",
       "    .dataframe tbody tr th:only-of-type {\n",
       "        vertical-align: middle;\n",
       "    }\n",
       "\n",
       "    .dataframe tbody tr th {\n",
       "        vertical-align: top;\n",
       "    }\n",
       "\n",
       "    .dataframe thead th {\n",
       "        text-align: right;\n",
       "    }\n",
       "</style>\n",
       "<table border=\"1\" class=\"dataframe\">\n",
       "  <thead>\n",
       "    <tr style=\"text-align: right;\">\n",
       "      <th></th>\n",
       "      <th>credit_score</th>\n",
       "      <th>age</th>\n",
       "      <th>tenure</th>\n",
       "      <th>balance</th>\n",
       "      <th>num_of_products</th>\n",
       "      <th>has_cr_card</th>\n",
       "      <th>is_active_member</th>\n",
       "      <th>estimated_salary</th>\n",
       "      <th>geography_Germany</th>\n",
       "      <th>geography_Spain</th>\n",
       "      <th>gender_Male</th>\n",
       "    </tr>\n",
       "  </thead>\n",
       "  <tbody>\n",
       "    <tr>\n",
       "      <td>8532</td>\n",
       "      <td>-0.699824</td>\n",
       "      <td>-0.373192</td>\n",
       "      <td>-0.825373</td>\n",
       "      <td>-1.233163</td>\n",
       "      <td>0.830152</td>\n",
       "      <td>0.642466</td>\n",
       "      <td>-1.055187</td>\n",
       "      <td>-0.015173</td>\n",
       "      <td>0</td>\n",
       "      <td>0</td>\n",
       "      <td>0</td>\n",
       "    </tr>\n",
       "    <tr>\n",
       "      <td>5799</td>\n",
       "      <td>-0.284431</td>\n",
       "      <td>0.575842</td>\n",
       "      <td>-0.503694</td>\n",
       "      <td>-1.233163</td>\n",
       "      <td>-0.891560</td>\n",
       "      <td>0.642466</td>\n",
       "      <td>0.947699</td>\n",
       "      <td>1.471724</td>\n",
       "      <td>0</td>\n",
       "      <td>0</td>\n",
       "      <td>0</td>\n",
       "    </tr>\n",
       "    <tr>\n",
       "      <td>5511</td>\n",
       "      <td>0.151731</td>\n",
       "      <td>-0.657902</td>\n",
       "      <td>-1.468729</td>\n",
       "      <td>0.438711</td>\n",
       "      <td>-0.891560</td>\n",
       "      <td>0.642466</td>\n",
       "      <td>-1.055187</td>\n",
       "      <td>-1.367107</td>\n",
       "      <td>1</td>\n",
       "      <td>0</td>\n",
       "      <td>1</td>\n",
       "    </tr>\n",
       "    <tr>\n",
       "      <td>7365</td>\n",
       "      <td>-0.876366</td>\n",
       "      <td>-0.278288</td>\n",
       "      <td>1.748053</td>\n",
       "      <td>1.239884</td>\n",
       "      <td>-0.891560</td>\n",
       "      <td>0.642466</td>\n",
       "      <td>0.947699</td>\n",
       "      <td>-0.786517</td>\n",
       "      <td>0</td>\n",
       "      <td>1</td>\n",
       "      <td>0</td>\n",
       "    </tr>\n",
       "    <tr>\n",
       "      <td>7367</td>\n",
       "      <td>-0.481743</td>\n",
       "      <td>0.291132</td>\n",
       "      <td>1.748053</td>\n",
       "      <td>-1.233163</td>\n",
       "      <td>0.830152</td>\n",
       "      <td>0.642466</td>\n",
       "      <td>-1.055187</td>\n",
       "      <td>1.358533</td>\n",
       "      <td>0</td>\n",
       "      <td>1</td>\n",
       "      <td>1</td>\n",
       "    </tr>\n",
       "  </tbody>\n",
       "</table>\n",
       "</div>"
      ],
      "text/plain": [
       "      credit_score       age    tenure   balance  num_of_products  \\\n",
       "8532     -0.699824 -0.373192 -0.825373 -1.233163         0.830152   \n",
       "5799     -0.284431  0.575842 -0.503694 -1.233163        -0.891560   \n",
       "5511      0.151731 -0.657902 -1.468729  0.438711        -0.891560   \n",
       "7365     -0.876366 -0.278288  1.748053  1.239884        -0.891560   \n",
       "7367     -0.481743  0.291132  1.748053 -1.233163         0.830152   \n",
       "\n",
       "      has_cr_card  is_active_member  estimated_salary  geography_Germany  \\\n",
       "8532     0.642466         -1.055187         -0.015173                  0   \n",
       "5799     0.642466          0.947699          1.471724                  0   \n",
       "5511     0.642466         -1.055187         -1.367107                  1   \n",
       "7365     0.642466          0.947699         -0.786517                  0   \n",
       "7367     0.642466         -1.055187          1.358533                  0   \n",
       "\n",
       "      geography_Spain  gender_Male  \n",
       "8532                0            0  \n",
       "5799                0            0  \n",
       "5511                0            1  \n",
       "7365                1            0  \n",
       "7367                1            1  "
      ]
     },
     "execution_count": 31,
     "metadata": {},
     "output_type": "execute_result"
    }
   ],
   "source": [
    "features_valid[numeric] = scaler.transform(features_valid[numeric])\n",
    "features_valid.head()"
   ]
  },
  {
   "cell_type": "markdown",
   "metadata": {
    "pycharm": {
     "name": "#%% md\n"
    }
   },
   "source": [
    "Для тестовой выборки:"
   ]
  },
  {
   "cell_type": "code",
   "execution_count": 32,
   "metadata": {
    "pycharm": {
     "name": "#%%\n"
    }
   },
   "outputs": [
    {
     "data": {
      "text/html": [
       "<div>\n",
       "<style scoped>\n",
       "    .dataframe tbody tr th:only-of-type {\n",
       "        vertical-align: middle;\n",
       "    }\n",
       "\n",
       "    .dataframe tbody tr th {\n",
       "        vertical-align: top;\n",
       "    }\n",
       "\n",
       "    .dataframe thead th {\n",
       "        text-align: right;\n",
       "    }\n",
       "</style>\n",
       "<table border=\"1\" class=\"dataframe\">\n",
       "  <thead>\n",
       "    <tr style=\"text-align: right;\">\n",
       "      <th></th>\n",
       "      <th>credit_score</th>\n",
       "      <th>age</th>\n",
       "      <th>tenure</th>\n",
       "      <th>balance</th>\n",
       "      <th>num_of_products</th>\n",
       "      <th>has_cr_card</th>\n",
       "      <th>is_active_member</th>\n",
       "      <th>estimated_salary</th>\n",
       "      <th>geography_Germany</th>\n",
       "      <th>geography_Spain</th>\n",
       "      <th>gender_Male</th>\n",
       "    </tr>\n",
       "  </thead>\n",
       "  <tbody>\n",
       "    <tr>\n",
       "      <td>7041</td>\n",
       "      <td>-2.226392</td>\n",
       "      <td>-0.088482</td>\n",
       "      <td>-0.825373</td>\n",
       "      <td>-1.233163</td>\n",
       "      <td>0.830152</td>\n",
       "      <td>0.642466</td>\n",
       "      <td>-1.055187</td>\n",
       "      <td>0.647083</td>\n",
       "      <td>0</td>\n",
       "      <td>0</td>\n",
       "      <td>1</td>\n",
       "    </tr>\n",
       "    <tr>\n",
       "      <td>5709</td>\n",
       "      <td>-0.087120</td>\n",
       "      <td>0.006422</td>\n",
       "      <td>1.426375</td>\n",
       "      <td>-1.233163</td>\n",
       "      <td>-0.891560</td>\n",
       "      <td>0.642466</td>\n",
       "      <td>-1.055187</td>\n",
       "      <td>-1.658410</td>\n",
       "      <td>0</td>\n",
       "      <td>0</td>\n",
       "      <td>0</td>\n",
       "    </tr>\n",
       "    <tr>\n",
       "      <td>7117</td>\n",
       "      <td>-0.917905</td>\n",
       "      <td>-0.752805</td>\n",
       "      <td>0.139662</td>\n",
       "      <td>0.722307</td>\n",
       "      <td>-0.891560</td>\n",
       "      <td>0.642466</td>\n",
       "      <td>0.947699</td>\n",
       "      <td>-1.369334</td>\n",
       "      <td>0</td>\n",
       "      <td>1</td>\n",
       "      <td>1</td>\n",
       "    </tr>\n",
       "    <tr>\n",
       "      <td>7775</td>\n",
       "      <td>-0.253277</td>\n",
       "      <td>0.101325</td>\n",
       "      <td>1.748053</td>\n",
       "      <td>-1.233163</td>\n",
       "      <td>0.830152</td>\n",
       "      <td>0.642466</td>\n",
       "      <td>-1.055187</td>\n",
       "      <td>0.075086</td>\n",
       "      <td>0</td>\n",
       "      <td>1</td>\n",
       "      <td>1</td>\n",
       "    </tr>\n",
       "    <tr>\n",
       "      <td>8735</td>\n",
       "      <td>0.785204</td>\n",
       "      <td>-0.847708</td>\n",
       "      <td>1.748053</td>\n",
       "      <td>0.615625</td>\n",
       "      <td>-0.891560</td>\n",
       "      <td>-1.556504</td>\n",
       "      <td>0.947699</td>\n",
       "      <td>-1.070919</td>\n",
       "      <td>0</td>\n",
       "      <td>0</td>\n",
       "      <td>1</td>\n",
       "    </tr>\n",
       "  </tbody>\n",
       "</table>\n",
       "</div>"
      ],
      "text/plain": [
       "      credit_score       age    tenure   balance  num_of_products  \\\n",
       "7041     -2.226392 -0.088482 -0.825373 -1.233163         0.830152   \n",
       "5709     -0.087120  0.006422  1.426375 -1.233163        -0.891560   \n",
       "7117     -0.917905 -0.752805  0.139662  0.722307        -0.891560   \n",
       "7775     -0.253277  0.101325  1.748053 -1.233163         0.830152   \n",
       "8735      0.785204 -0.847708  1.748053  0.615625        -0.891560   \n",
       "\n",
       "      has_cr_card  is_active_member  estimated_salary  geography_Germany  \\\n",
       "7041     0.642466         -1.055187          0.647083                  0   \n",
       "5709     0.642466         -1.055187         -1.658410                  0   \n",
       "7117     0.642466          0.947699         -1.369334                  0   \n",
       "7775     0.642466         -1.055187          0.075086                  0   \n",
       "8735    -1.556504          0.947699         -1.070919                  0   \n",
       "\n",
       "      geography_Spain  gender_Male  \n",
       "7041                0            1  \n",
       "5709                0            0  \n",
       "7117                1            1  \n",
       "7775                1            1  \n",
       "8735                0            1  "
      ]
     },
     "execution_count": 32,
     "metadata": {},
     "output_type": "execute_result"
    }
   ],
   "source": [
    "features_test[numeric] = scaler.transform(features_test[numeric])\n",
    "features_test.head()"
   ]
  },
  {
   "cell_type": "markdown",
   "metadata": {
    "pycharm": {
     "name": "#%% md\n"
    }
   },
   "source": [
    "Проверим себя:"
   ]
  },
  {
   "cell_type": "code",
   "execution_count": 33,
   "metadata": {
    "pycharm": {
     "name": "#%%\n"
    }
   },
   "outputs": [
    {
     "data": {
      "text/plain": [
       "-0.891560    988\n",
       " 0.830152    939\n",
       " 2.551864     62\n",
       " 4.273576     11\n",
       "Name: num_of_products, dtype: int64"
      ]
     },
     "execution_count": 33,
     "metadata": {},
     "output_type": "execute_result"
    }
   ],
   "source": [
    "features_valid.num_of_products.value_counts()"
   ]
  },
  {
   "cell_type": "markdown",
   "metadata": {
    "pycharm": {
     "name": "#%% md\n"
    }
   },
   "source": [
    "Основная масса в валидационной выборке признаков использует 1 и 2 продукта."
   ]
  },
  {
   "cell_type": "markdown",
   "metadata": {},
   "source": [
    "Посмотрим, как обстоят дела с остальными столбцами:"
   ]
  },
  {
   "cell_type": "code",
   "execution_count": 34,
   "metadata": {
    "pycharm": {
     "name": "#%%\n"
    }
   },
   "outputs": [
    {
     "data": {
      "text/plain": [
       "array([ 0.64246552, -1.55650375])"
      ]
     },
     "execution_count": 34,
     "metadata": {},
     "output_type": "execute_result"
    }
   ],
   "source": [
    "features_valid.has_cr_card.unique()"
   ]
  },
  {
   "cell_type": "code",
   "execution_count": 35,
   "metadata": {},
   "outputs": [
    {
     "data": {
      "text/plain": [
       "array([-1.05518729,  0.94769906])"
      ]
     },
     "execution_count": 35,
     "metadata": {},
     "output_type": "execute_result"
    }
   ],
   "source": [
    "features_valid.is_active_member.unique()"
   ]
  },
  {
   "cell_type": "code",
   "execution_count": 36,
   "metadata": {},
   "outputs": [
    {
     "name": "stdout",
     "output_type": "stream",
     "text": [
      "-1.7216392430202354\n"
     ]
    },
    {
     "data": {
      "text/plain": [
       "1.740110673099657"
      ]
     },
     "execution_count": 36,
     "metadata": {},
     "output_type": "execute_result"
    }
   ],
   "source": [
    "print(features_valid.estimated_salary.min())\n",
    "features_valid.estimated_salary.max()"
   ]
  },
  {
   "cell_type": "code",
   "execution_count": 37,
   "metadata": {},
   "outputs": [
    {
     "name": "stdout",
     "output_type": "stream",
     "text": [
      "-2.9844832451947942\n"
     ]
    },
    {
     "data": {
      "text/plain": [
       "2.0521518886491803"
      ]
     },
     "execution_count": 37,
     "metadata": {},
     "output_type": "execute_result"
    }
   ],
   "source": [
    "print(features_valid.credit_score.min())\n",
    "features_valid.credit_score.max()"
   ]
  },
  {
   "cell_type": "code",
   "execution_count": 38,
   "metadata": {},
   "outputs": [
    {
     "name": "stdout",
     "output_type": "stream",
     "text": [
      "-1.9865488817594898\n"
     ]
    },
    {
     "data": {
      "text/plain": [
       "5.036300167567815"
      ]
     },
     "execution_count": 38,
     "metadata": {},
     "output_type": "execute_result"
    }
   ],
   "source": [
    "print(features_valid.age.min())\n",
    "features_valid.age.max()"
   ]
  },
  {
   "cell_type": "markdown",
   "metadata": {
    "pycharm": {
     "name": "#%% md\n"
    }
   },
   "source": [
    "Возраст стандартизировался несколько отлично от других: минимальное значение - отрицательное: около -1.986, максимальное - порядка 5.036. Теперь можно смело сказать, что никакие столбцы с крупными значениями не перетянут на себя значимость других признаков.  \n",
    "Переходим к выборке для СЛ:"
   ]
  },
  {
   "cell_type": "markdown",
   "metadata": {},
   "source": [
    "***Для СЛ:***"
   ]
  },
  {
   "cell_type": "markdown",
   "metadata": {},
   "source": [
    "Создадим новый список num:"
   ]
  },
  {
   "cell_type": "code",
   "execution_count": 39,
   "metadata": {
    "pycharm": {
     "name": "#%%\n"
    }
   },
   "outputs": [],
   "source": [
    "num = ['credit_score', 'geography', 'gender', \n",
    "       'age', 'tenure', 'balance', 'num_of_products', 'has_cr_card', 'is_active_member', 'estimated_salary']"
   ]
  },
  {
   "cell_type": "code",
   "execution_count": 40,
   "metadata": {},
   "outputs": [
    {
     "name": "stderr",
     "output_type": "stream",
     "text": [
      "/opt/conda/lib/python3.7/site-packages/ipykernel_launcher.py:3: SettingWithCopyWarning: \n",
      "A value is trying to be set on a copy of a slice from a DataFrame.\n",
      "Try using .loc[row_indexer,col_indexer] = value instead\n",
      "\n",
      "See the caveats in the documentation: http://pandas.pydata.org/pandas-docs/stable/user_guide/indexing.html#returning-a-view-versus-a-copy\n",
      "  This is separate from the ipykernel package so we can avoid doing imports until\n",
      "/opt/conda/lib/python3.7/site-packages/pandas/core/indexing.py:494: SettingWithCopyWarning: \n",
      "A value is trying to be set on a copy of a slice from a DataFrame.\n",
      "Try using .loc[row_indexer,col_indexer] = value instead\n",
      "\n",
      "See the caveats in the documentation: http://pandas.pydata.org/pandas-docs/stable/user_guide/indexing.html#returning-a-view-versus-a-copy\n",
      "  self.obj[item] = s\n"
     ]
    }
   ],
   "source": [
    "scaler = StandardScaler()\n",
    "scaler.fit(features_ordinal_train[num])\n",
    "features_ordinal_train[num] = scaler.transform(features_ordinal_train[num])"
   ]
  },
  {
   "cell_type": "markdown",
   "metadata": {
    "pycharm": {
     "name": "#%% md\n"
    }
   },
   "source": [
    "Для валидационной выборки:"
   ]
  },
  {
   "cell_type": "code",
   "execution_count": 41,
   "metadata": {
    "pycharm": {
     "name": "#%%\n"
    }
   },
   "outputs": [
    {
     "data": {
      "text/html": [
       "<div>\n",
       "<style scoped>\n",
       "    .dataframe tbody tr th:only-of-type {\n",
       "        vertical-align: middle;\n",
       "    }\n",
       "\n",
       "    .dataframe tbody tr th {\n",
       "        vertical-align: top;\n",
       "    }\n",
       "\n",
       "    .dataframe thead th {\n",
       "        text-align: right;\n",
       "    }\n",
       "</style>\n",
       "<table border=\"1\" class=\"dataframe\">\n",
       "  <thead>\n",
       "    <tr style=\"text-align: right;\">\n",
       "      <th></th>\n",
       "      <th>credit_score</th>\n",
       "      <th>geography</th>\n",
       "      <th>gender</th>\n",
       "      <th>age</th>\n",
       "      <th>tenure</th>\n",
       "      <th>balance</th>\n",
       "      <th>num_of_products</th>\n",
       "      <th>has_cr_card</th>\n",
       "      <th>is_active_member</th>\n",
       "      <th>estimated_salary</th>\n",
       "    </tr>\n",
       "  </thead>\n",
       "  <tbody>\n",
       "    <tr>\n",
       "      <td>8532</td>\n",
       "      <td>-0.699824</td>\n",
       "      <td>-0.900852</td>\n",
       "      <td>-1.102198</td>\n",
       "      <td>-0.373192</td>\n",
       "      <td>-0.825373</td>\n",
       "      <td>-1.233163</td>\n",
       "      <td>0.830152</td>\n",
       "      <td>0.642466</td>\n",
       "      <td>-1.055187</td>\n",
       "      <td>-0.015173</td>\n",
       "    </tr>\n",
       "    <tr>\n",
       "      <td>5799</td>\n",
       "      <td>-0.284431</td>\n",
       "      <td>-0.900852</td>\n",
       "      <td>-1.102198</td>\n",
       "      <td>0.575842</td>\n",
       "      <td>-0.503694</td>\n",
       "      <td>-1.233163</td>\n",
       "      <td>-0.891560</td>\n",
       "      <td>0.642466</td>\n",
       "      <td>0.947699</td>\n",
       "      <td>1.471724</td>\n",
       "    </tr>\n",
       "    <tr>\n",
       "      <td>5511</td>\n",
       "      <td>0.151731</td>\n",
       "      <td>0.303227</td>\n",
       "      <td>0.907278</td>\n",
       "      <td>-0.657902</td>\n",
       "      <td>-1.468729</td>\n",
       "      <td>0.438711</td>\n",
       "      <td>-0.891560</td>\n",
       "      <td>0.642466</td>\n",
       "      <td>-1.055187</td>\n",
       "      <td>-1.367107</td>\n",
       "    </tr>\n",
       "    <tr>\n",
       "      <td>7365</td>\n",
       "      <td>-0.876366</td>\n",
       "      <td>1.507307</td>\n",
       "      <td>-1.102198</td>\n",
       "      <td>-0.278288</td>\n",
       "      <td>1.748053</td>\n",
       "      <td>1.239884</td>\n",
       "      <td>-0.891560</td>\n",
       "      <td>0.642466</td>\n",
       "      <td>0.947699</td>\n",
       "      <td>-0.786517</td>\n",
       "    </tr>\n",
       "    <tr>\n",
       "      <td>7367</td>\n",
       "      <td>-0.481743</td>\n",
       "      <td>1.507307</td>\n",
       "      <td>0.907278</td>\n",
       "      <td>0.291132</td>\n",
       "      <td>1.748053</td>\n",
       "      <td>-1.233163</td>\n",
       "      <td>0.830152</td>\n",
       "      <td>0.642466</td>\n",
       "      <td>-1.055187</td>\n",
       "      <td>1.358533</td>\n",
       "    </tr>\n",
       "  </tbody>\n",
       "</table>\n",
       "</div>"
      ],
      "text/plain": [
       "      credit_score  geography    gender       age    tenure   balance  \\\n",
       "8532     -0.699824  -0.900852 -1.102198 -0.373192 -0.825373 -1.233163   \n",
       "5799     -0.284431  -0.900852 -1.102198  0.575842 -0.503694 -1.233163   \n",
       "5511      0.151731   0.303227  0.907278 -0.657902 -1.468729  0.438711   \n",
       "7365     -0.876366   1.507307 -1.102198 -0.278288  1.748053  1.239884   \n",
       "7367     -0.481743   1.507307  0.907278  0.291132  1.748053 -1.233163   \n",
       "\n",
       "      num_of_products  has_cr_card  is_active_member  estimated_salary  \n",
       "8532         0.830152     0.642466         -1.055187         -0.015173  \n",
       "5799        -0.891560     0.642466          0.947699          1.471724  \n",
       "5511        -0.891560     0.642466         -1.055187         -1.367107  \n",
       "7365        -0.891560     0.642466          0.947699         -0.786517  \n",
       "7367         0.830152     0.642466         -1.055187          1.358533  "
      ]
     },
     "execution_count": 41,
     "metadata": {},
     "output_type": "execute_result"
    }
   ],
   "source": [
    "features_ordinal_valid[num] = scaler.transform(features_ordinal_valid[num])\n",
    "features_ordinal_valid.head()"
   ]
  },
  {
   "cell_type": "markdown",
   "metadata": {
    "pycharm": {
     "name": "#%% md\n"
    }
   },
   "source": [
    "Для тестовой выборки:"
   ]
  },
  {
   "cell_type": "code",
   "execution_count": 42,
   "metadata": {
    "pycharm": {
     "name": "#%%\n"
    }
   },
   "outputs": [
    {
     "data": {
      "text/html": [
       "<div>\n",
       "<style scoped>\n",
       "    .dataframe tbody tr th:only-of-type {\n",
       "        vertical-align: middle;\n",
       "    }\n",
       "\n",
       "    .dataframe tbody tr th {\n",
       "        vertical-align: top;\n",
       "    }\n",
       "\n",
       "    .dataframe thead th {\n",
       "        text-align: right;\n",
       "    }\n",
       "</style>\n",
       "<table border=\"1\" class=\"dataframe\">\n",
       "  <thead>\n",
       "    <tr style=\"text-align: right;\">\n",
       "      <th></th>\n",
       "      <th>credit_score</th>\n",
       "      <th>geography</th>\n",
       "      <th>gender</th>\n",
       "      <th>age</th>\n",
       "      <th>tenure</th>\n",
       "      <th>balance</th>\n",
       "      <th>num_of_products</th>\n",
       "      <th>has_cr_card</th>\n",
       "      <th>is_active_member</th>\n",
       "      <th>estimated_salary</th>\n",
       "    </tr>\n",
       "  </thead>\n",
       "  <tbody>\n",
       "    <tr>\n",
       "      <td>7041</td>\n",
       "      <td>-2.226392</td>\n",
       "      <td>-0.900852</td>\n",
       "      <td>0.907278</td>\n",
       "      <td>-0.088482</td>\n",
       "      <td>-0.825373</td>\n",
       "      <td>-1.233163</td>\n",
       "      <td>0.830152</td>\n",
       "      <td>0.642466</td>\n",
       "      <td>-1.055187</td>\n",
       "      <td>0.647083</td>\n",
       "    </tr>\n",
       "    <tr>\n",
       "      <td>5709</td>\n",
       "      <td>-0.087120</td>\n",
       "      <td>-0.900852</td>\n",
       "      <td>-1.102198</td>\n",
       "      <td>0.006422</td>\n",
       "      <td>1.426375</td>\n",
       "      <td>-1.233163</td>\n",
       "      <td>-0.891560</td>\n",
       "      <td>0.642466</td>\n",
       "      <td>-1.055187</td>\n",
       "      <td>-1.658410</td>\n",
       "    </tr>\n",
       "    <tr>\n",
       "      <td>7117</td>\n",
       "      <td>-0.917905</td>\n",
       "      <td>1.507307</td>\n",
       "      <td>0.907278</td>\n",
       "      <td>-0.752805</td>\n",
       "      <td>0.139662</td>\n",
       "      <td>0.722307</td>\n",
       "      <td>-0.891560</td>\n",
       "      <td>0.642466</td>\n",
       "      <td>0.947699</td>\n",
       "      <td>-1.369334</td>\n",
       "    </tr>\n",
       "    <tr>\n",
       "      <td>7775</td>\n",
       "      <td>-0.253277</td>\n",
       "      <td>1.507307</td>\n",
       "      <td>0.907278</td>\n",
       "      <td>0.101325</td>\n",
       "      <td>1.748053</td>\n",
       "      <td>-1.233163</td>\n",
       "      <td>0.830152</td>\n",
       "      <td>0.642466</td>\n",
       "      <td>-1.055187</td>\n",
       "      <td>0.075086</td>\n",
       "    </tr>\n",
       "    <tr>\n",
       "      <td>8735</td>\n",
       "      <td>0.785204</td>\n",
       "      <td>-0.900852</td>\n",
       "      <td>0.907278</td>\n",
       "      <td>-0.847708</td>\n",
       "      <td>1.748053</td>\n",
       "      <td>0.615625</td>\n",
       "      <td>-0.891560</td>\n",
       "      <td>-1.556504</td>\n",
       "      <td>0.947699</td>\n",
       "      <td>-1.070919</td>\n",
       "    </tr>\n",
       "  </tbody>\n",
       "</table>\n",
       "</div>"
      ],
      "text/plain": [
       "      credit_score  geography    gender       age    tenure   balance  \\\n",
       "7041     -2.226392  -0.900852  0.907278 -0.088482 -0.825373 -1.233163   \n",
       "5709     -0.087120  -0.900852 -1.102198  0.006422  1.426375 -1.233163   \n",
       "7117     -0.917905   1.507307  0.907278 -0.752805  0.139662  0.722307   \n",
       "7775     -0.253277   1.507307  0.907278  0.101325  1.748053 -1.233163   \n",
       "8735      0.785204  -0.900852  0.907278 -0.847708  1.748053  0.615625   \n",
       "\n",
       "      num_of_products  has_cr_card  is_active_member  estimated_salary  \n",
       "7041         0.830152     0.642466         -1.055187          0.647083  \n",
       "5709        -0.891560     0.642466         -1.055187         -1.658410  \n",
       "7117        -0.891560     0.642466          0.947699         -1.369334  \n",
       "7775         0.830152     0.642466         -1.055187          0.075086  \n",
       "8735        -0.891560    -1.556504          0.947699         -1.070919  "
      ]
     },
     "execution_count": 42,
     "metadata": {},
     "output_type": "execute_result"
    }
   ],
   "source": [
    "features_ordinal_test[num] = scaler.transform(features_ordinal_test[num])\n",
    "features_ordinal_test.head()"
   ]
  },
  {
   "cell_type": "code",
   "execution_count": 43,
   "metadata": {},
   "outputs": [
    {
     "data": {
      "text/plain": [
       "-0.891560    988\n",
       " 0.830152    939\n",
       " 2.551864     62\n",
       " 4.273576     11\n",
       "Name: num_of_products, dtype: int64"
      ]
     },
     "execution_count": 43,
     "metadata": {},
     "output_type": "execute_result"
    }
   ],
   "source": [
    "features_ordinal_valid.num_of_products.value_counts()"
   ]
  },
  {
   "cell_type": "markdown",
   "metadata": {
    "pycharm": {
     "name": "#%% md\n"
    }
   },
   "source": [
    "В данной выборке разброс получился схожим с ЛР."
   ]
  },
  {
   "cell_type": "code",
   "execution_count": 44,
   "metadata": {
    "pycharm": {
     "name": "#%%\n"
    }
   },
   "outputs": [
    {
     "data": {
      "text/plain": [
       "array([-1.05518729,  0.94769906])"
      ]
     },
     "execution_count": 44,
     "metadata": {},
     "output_type": "execute_result"
    }
   ],
   "source": [
    "features_ordinal_valid.is_active_member.unique()"
   ]
  },
  {
   "cell_type": "code",
   "execution_count": 45,
   "metadata": {},
   "outputs": [
    {
     "name": "stdout",
     "output_type": "stream",
     "text": [
      "-1.7216392430202354\n"
     ]
    },
    {
     "data": {
      "text/plain": [
       "1.740110673099657"
      ]
     },
     "execution_count": 45,
     "metadata": {},
     "output_type": "execute_result"
    }
   ],
   "source": [
    "print(features_ordinal_valid.estimated_salary.min())\n",
    "features_ordinal_valid.estimated_salary.max()"
   ]
  },
  {
   "cell_type": "code",
   "execution_count": 46,
   "metadata": {},
   "outputs": [
    {
     "name": "stdout",
     "output_type": "stream",
     "text": [
      "-2.9844832451947942\n"
     ]
    },
    {
     "data": {
      "text/plain": [
       "2.0521518886491803"
      ]
     },
     "execution_count": 46,
     "metadata": {},
     "output_type": "execute_result"
    }
   ],
   "source": [
    "print(features_ordinal_valid.credit_score.min())\n",
    "features_ordinal_valid.credit_score.max()"
   ]
  },
  {
   "cell_type": "code",
   "execution_count": 47,
   "metadata": {},
   "outputs": [
    {
     "name": "stdout",
     "output_type": "stream",
     "text": [
      "-1.9865488817594898\n"
     ]
    },
    {
     "data": {
      "text/plain": [
       "5.036300167567815"
      ]
     },
     "execution_count": 47,
     "metadata": {},
     "output_type": "execute_result"
    }
   ],
   "source": [
    "print(features_ordinal_valid.age.min())\n",
    "features_ordinal_valid.age.max()"
   ]
  },
  {
   "cell_type": "code",
   "execution_count": 48,
   "metadata": {},
   "outputs": [
    {
     "data": {
      "text/plain": [
       "array([-0.90085223,  0.30322738,  1.507307  ])"
      ]
     },
     "execution_count": 48,
     "metadata": {},
     "output_type": "execute_result"
    }
   ],
   "source": [
    "features_ordinal_valid.geography.unique() "
   ]
  },
  {
   "cell_type": "markdown",
   "metadata": {
    "pycharm": {
     "name": "#%% md\n"
    }
   },
   "source": [
    "Масштабирование сделали. И в СД признаки уравняли. Теперь можно переходить к исследованию баланса классов."
   ]
  },
  {
   "cell_type": "markdown",
   "metadata": {},
   "source": [
    "# 2. Анализ"
   ]
  },
  {
   "cell_type": "markdown",
   "metadata": {},
   "source": [
    "### Исследуем баланс классов, обучим модели без учёта дисбаланса."
   ]
  },
  {
   "cell_type": "markdown",
   "metadata": {},
   "source": [
    "Для начала нам необходимо посмотреть, есть ли несбалансированность классов. Баланс классов наблюдается, если их количество примерно равно. Обучим модель по выборке ***ЛР*** при помощи логистической регрессии и посчитаем долю правильных ответов:"
   ]
  },
  {
   "cell_type": "code",
   "execution_count": 49,
   "metadata": {
    "pycharm": {
     "name": "#%%\n"
    }
   },
   "outputs": [
    {
     "data": {
      "text/plain": [
       "0.8025"
      ]
     },
     "execution_count": 49,
     "metadata": {},
     "output_type": "execute_result"
    }
   ],
   "source": [
    "model = LogisticRegression(solver='liblinear')\n",
    "model.fit(features_train, target_train)\n",
    "predicted_valid = model.predict(features_valid)\n",
    "\n",
    "accuracy_valid = accuracy_score(target_valid, predicted_valid)\n",
    "\n",
    "accuracy_valid"
   ]
  },
  {
   "cell_type": "markdown",
   "metadata": {},
   "source": [
    "Для ***СЛ*** обучим модель дерева решений:"
   ]
  },
  {
   "cell_type": "code",
   "execution_count": 50,
   "metadata": {
    "pycharm": {
     "name": "#%%\n"
    }
   },
   "outputs": [
    {
     "data": {
      "text/plain": [
       "0.777"
      ]
     },
     "execution_count": 50,
     "metadata": {},
     "output_type": "execute_result"
    }
   ],
   "source": [
    "tree = DecisionTreeClassifier(random_state=12345)\n",
    "tree.fit(features_ordinal_train, target_ordinal_train)\n",
    "predicted_ordinal_valid = tree.predict(features_ordinal_valid)\n",
    "accuracy_ordinal_valid = accuracy_score(target_ordinal_valid, predicted_ordinal_valid.round())\n",
    "accuracy_ordinal_valid"
   ]
  },
  {
   "cell_type": "markdown",
   "metadata": {
    "pycharm": {
     "name": "#%% md\n"
    }
   },
   "source": [
    "У дерева решений результат получился ниже, чем у логистической регрессии. Возможно, если бы мы изменили гиперпараметры и попробовали снова, результат был бы другим."
   ]
  },
  {
   "cell_type": "markdown",
   "metadata": {},
   "source": [
    "В любом случае доля правильных ответов достаточно высока, однако нам надо проверить модели на адекватность. Для этого \n",
    "подсчитаем классы в целевом признаке, применив метод value_counts():"
   ]
  },
  {
   "cell_type": "code",
   "execution_count": 51,
   "metadata": {},
   "outputs": [
    {
     "name": "stdout",
     "output_type": "stream",
     "text": [
      "0    0.7963\n",
      "1    0.2037\n",
      "Name: exited, dtype: float64\n"
     ]
    },
    {
     "data": {
      "text/plain": [
       "<matplotlib.axes._subplots.AxesSubplot at 0x7f5f6fb94f10>"
      ]
     },
     "execution_count": 51,
     "metadata": {},
     "output_type": "execute_result"
    },
    {
     "data": {
      "image/png": "[encoded data removed]",
      "text/plain": [
       "<Figure size 432x288 with 1 Axes>"
      ]
     },
     "metadata": {
      "needs_background": "light"
     },
     "output_type": "display_data"
    }
   ],
   "source": [
    "class_frequency = churn['exited'].value_counts(normalize=True)\n",
    "\n",
    "print(class_frequency)\n",
    "\n",
    "class_frequency.plot(kind='bar')"
   ]
  },
  {
   "cell_type": "markdown",
   "metadata": {},
   "source": [
    "Да, дисбаланс на лицо: клиенты, что остались обслуживаться в банке составляют около 80% и \"отсеявшиеся\" - порядка 20%. Чтобы удостовериться, подходит ли нам метрика accuracy, создадим константную модель: любому объекту она прогнозирует класс «0», как будто клиенты решили остаться в банке:"
   ]
  },
  {
   "cell_type": "code",
   "execution_count": 52,
   "metadata": {
    "pycharm": {
     "name": "#%%\n"
    }
   },
   "outputs": [
    {
     "name": "stdout",
     "output_type": "stream",
     "text": [
      "0.7963\n"
     ]
    }
   ],
   "source": [
    "target_pred_constant = pd.Series([0] * 10000)\n",
    "\n",
    "print(accuracy_score(target, target_pred_constant))"
   ]
  },
  {
   "cell_type": "markdown",
   "metadata": {
    "pycharm": {
     "name": "#%% md\n"
    }
   },
   "source": [
    "# 3. Устранение дисбаланса"
   ]
  },
  {
   "cell_type": "markdown",
   "metadata": {},
   "source": [
    "### Улучшим качество модели, учитывая дисбаланс классов. "
   ]
  },
  {
   "cell_type": "markdown",
   "metadata": {
    "pycharm": {
     "name": "#%% md\n"
    }
   },
   "source": [
    "Справиться с дисбалансом и более точно классифицировать ответы помогут метрики TP, FP, TN, FN:"
   ]
  },
  {
   "cell_type": "markdown",
   "metadata": {},
   "source": [
    "Для ***ЛР:***"
   ]
  },
  {
   "cell_type": "code",
   "execution_count": 53,
   "metadata": {
    "pycharm": {
     "name": "#%%\n"
    }
   },
   "outputs": [
    {
     "data": {
      "text/plain": [
       "99"
      ]
     },
     "execution_count": 53,
     "metadata": {},
     "output_type": "execute_result"
    }
   ],
   "source": [
    "true_positive = ((target_valid == 1) & (predicted_valid == 1)).sum()\n",
    "true_positive"
   ]
  },
  {
   "cell_type": "code",
   "execution_count": 54,
   "metadata": {
    "pycharm": {
     "name": "#%%\n"
    }
   },
   "outputs": [
    {
     "data": {
      "text/plain": [
       "1506"
      ]
     },
     "execution_count": 54,
     "metadata": {},
     "output_type": "execute_result"
    }
   ],
   "source": [
    "true_negative = ((target_valid == 0) & (predicted_valid == 0)).sum()\n",
    "true_negative"
   ]
  },
  {
   "cell_type": "code",
   "execution_count": 55,
   "metadata": {
    "pycharm": {
     "name": "#%%\n"
    }
   },
   "outputs": [
    {
     "data": {
      "text/plain": [
       "76"
      ]
     },
     "execution_count": 55,
     "metadata": {},
     "output_type": "execute_result"
    }
   ],
   "source": [
    "false_positive = ((target_valid == 0) & (predicted_valid == 1)).sum()\n",
    "false_positive"
   ]
  },
  {
   "cell_type": "code",
   "execution_count": 56,
   "metadata": {
    "pycharm": {
     "name": "#%%\n"
    }
   },
   "outputs": [
    {
     "data": {
      "text/plain": [
       "319"
      ]
     },
     "execution_count": 56,
     "metadata": {},
     "output_type": "execute_result"
    }
   ],
   "source": [
    "false_negative = ((target_valid == 1) & (predicted_valid == 0)).sum()\n",
    "false_negative"
   ]
  },
  {
   "cell_type": "markdown",
   "metadata": {},
   "source": [
    "Соберем результаты в матрицу ошибок:"
   ]
  },
  {
   "cell_type": "code",
   "execution_count": 57,
   "metadata": {},
   "outputs": [
    {
     "data": {
      "text/plain": [
       "array([[1506,   76],\n",
       "       [ 319,   99]])"
      ]
     },
     "execution_count": 57,
     "metadata": {},
     "output_type": "execute_result"
    }
   ],
   "source": [
    "confusion_matrix(target_valid, predicted_valid)"
   ]
  },
  {
   "cell_type": "markdown",
   "metadata": {
    "pycharm": {
     "name": "#%% md\n"
    }
   },
   "source": [
    "319 ложноотрицательных ответов. Второй по величине показатель. Модель достаточно много ответов определяет негативно."
   ]
  },
  {
   "cell_type": "markdown",
   "metadata": {
    "pycharm": {
     "name": "#%% md\n"
    }
   },
   "source": [
    "Посмотрим, поможет ли нам полнота и точность. Посчитаем  F1-меру (среднее гармоническое полноты и точности). Поскольку классы мы не сбалансировали, а ложных ответов у нас достаточно, то наверняка F1 будет низким. Проверим:"
   ]
  },
  {
   "cell_type": "code",
   "execution_count": 58,
   "metadata": {},
   "outputs": [
    {
     "data": {
      "text/plain": [
       "0.33389544688026984"
      ]
     },
     "execution_count": 58,
     "metadata": {},
     "output_type": "execute_result"
    }
   ],
   "source": [
    "f1_score(target_valid, predicted_valid)"
   ]
  },
  {
   "cell_type": "code",
   "execution_count": 59,
   "metadata": {
    "pycharm": {
     "name": "#%%\n"
    }
   },
   "outputs": [],
   "source": [
    "probabilities_valid = model.predict_proba(features_valid)\n",
    "probabilities_one_valid = probabilities_valid[:, 1]"
   ]
  },
  {
   "cell_type": "code",
   "execution_count": 60,
   "metadata": {},
   "outputs": [
    {
     "data": {
      "image/png": "[encoded data removed]",
      "text/plain": [
       "<Figure size 432x288 with 1 Axes>"
      ]
     },
     "metadata": {
      "needs_background": "light"
     },
     "output_type": "display_data"
    }
   ],
   "source": [
    "fpr, tpr, thresholds = roc_curve(target_valid, probabilities_one_valid)\n",
    "\n",
    "plt.figure()\n",
    "\n",
    "plt.plot(fpr, tpr)\n",
    "\n",
    "plt.plot([0, 1], [0, 1], linestyle='--')\n",
    "\n",
    "plt.xlim([0.0, 1.0])\n",
    "plt.ylim([0.0, 1.0])\n",
    "\n",
    "plt.xlabel('False Positive Rate')\n",
    "plt.ylabel('True Positive Rate')\n",
    "\n",
    "\n",
    "plt.title('ROC-кривая')\n",
    "\n",
    "plt.show()"
   ]
  },
  {
   "cell_type": "markdown",
   "metadata": {},
   "source": [
    "И всё же график ROC-кривой выше случайной модели. Чтобы выявить, как сильно наша модель отличается от случайной, посчитаем площадь под ROC-кривой:"
   ]
  },
  {
   "cell_type": "code",
   "execution_count": 61,
   "metadata": {
    "pycharm": {
     "name": "#%%\n"
    }
   },
   "outputs": [
    {
     "data": {
      "text/plain": [
       "0.7586832124559186"
      ]
     },
     "execution_count": 61,
     "metadata": {},
     "output_type": "execute_result"
    }
   ],
   "source": [
    "auc_roc = roc_auc_score(target_valid, probabilities_one_valid)\n",
    "auc_roc"
   ]
  },
  {
   "cell_type": "markdown",
   "metadata": {
    "pycharm": {
     "name": "#%% md\n"
    }
   },
   "source": [
    "Так мы выявили, что F1 чуть больше 0,33, а AUC-ROC - 0,758. Чтобы модель работала достаточно эффективно, необходимо метрику F1 повысить до 0.59, а AUC-ROC как можно больше приблизить к идеальному значению - к единице.  \n",
    "А что по ***СЛ***:"
   ]
  },
  {
   "cell_type": "code",
   "execution_count": 62,
   "metadata": {},
   "outputs": [
    {
     "name": "stdout",
     "output_type": "stream",
     "text": [
      "true_ordinal_positive: 195\n",
      "true_ordinal_negative: 1359\n",
      "false_ordinal_positive: 223\n",
      "false_ordinal_negative: 223\n"
     ]
    }
   ],
   "source": [
    "true_ordinal_positive = ((target_ordinal_valid == 1) & (predicted_ordinal_valid == 1)).sum()\n",
    "print('true_ordinal_positive:', true_ordinal_positive)\n",
    "true_ordinal_negative = ((target_ordinal_valid == 0) & (predicted_ordinal_valid == 0)).sum()\n",
    "print('true_ordinal_negative:', true_ordinal_negative)\n",
    "false_ordinal_positive = ((target_ordinal_valid == 0) & (predicted_ordinal_valid == 1)).sum()\n",
    "print('false_ordinal_positive:', false_ordinal_positive)\n",
    "false_ordinal_negative = ((target_ordinal_valid == 1) & (predicted_ordinal_valid == 0)).sum()\n",
    "print('false_ordinal_negative:', false_ordinal_negative)"
   ]
  },
  {
   "cell_type": "markdown",
   "metadata": {
    "pycharm": {
     "name": "#%% md\n"
    }
   },
   "source": [
    "Матрица:"
   ]
  },
  {
   "cell_type": "code",
   "execution_count": 63,
   "metadata": {
    "pycharm": {
     "name": "#%%\n"
    }
   },
   "outputs": [
    {
     "data": {
      "text/plain": [
       "array([[1359,  223],\n",
       "       [ 223,  195]])"
      ]
     },
     "execution_count": 63,
     "metadata": {},
     "output_type": "execute_result"
    }
   ],
   "source": [
    "confusion_matrix(target_ordinal_valid, predicted_ordinal_valid)"
   ]
  },
  {
   "cell_type": "markdown",
   "metadata": {
    "pycharm": {
     "name": "#%% md\n"
    }
   },
   "source": [
    "Здесь ситуация лучше. Истиннопозитивных ответов больше. В то же время ложноотрицательных ответов стало меньше."
   ]
  },
  {
   "cell_type": "markdown",
   "metadata": {},
   "source": [
    "F1 и AUC-ROC для ***СЛ***:"
   ]
  },
  {
   "cell_type": "code",
   "execution_count": 64,
   "metadata": {},
   "outputs": [
    {
     "data": {
      "text/plain": [
       "0.4665071770334928"
      ]
     },
     "execution_count": 64,
     "metadata": {},
     "output_type": "execute_result"
    }
   ],
   "source": [
    "f1_score(target_ordinal_valid, predicted_ordinal_valid)"
   ]
  },
  {
   "cell_type": "code",
   "execution_count": 65,
   "metadata": {
    "pycharm": {
     "name": "#%%\n"
    }
   },
   "outputs": [],
   "source": [
    "probabilities_ord_valid = tree.predict_proba(features_ordinal_valid)\n",
    "probabilities_ord_one_valid = probabilities_ord_valid[:, 1]"
   ]
  },
  {
   "cell_type": "code",
   "execution_count": 66,
   "metadata": {},
   "outputs": [
    {
     "data": {
      "image/png": "[encoded data removed]",
      "text/plain": [
       "<Figure size 432x288 with 1 Axes>"
      ]
     },
     "metadata": {
      "needs_background": "light"
     },
     "output_type": "display_data"
    }
   ],
   "source": [
    "fpr_ord, tpr_ord, thresholds_ord = roc_curve(target_ordinal_valid, probabilities_ord_one_valid)\n",
    "\n",
    "plt.figure()\n",
    "\n",
    "plt.plot(fpr_ord, tpr_ord)\n",
    "\n",
    "plt.plot([0, 1], [0, 1], linestyle='--')\n",
    "\n",
    "plt.xlim([0.0, 1.0])\n",
    "plt.ylim([0.0, 1.0])\n",
    "\n",
    "plt.xlabel('False Positive Rate')\n",
    "plt.ylabel('True Positive Rate')\n",
    "\n",
    "\n",
    "plt.title('ROC-кривая')\n",
    "\n",
    "plt.show()"
   ]
  },
  {
   "cell_type": "code",
   "execution_count": 67,
   "metadata": {
    "pycharm": {
     "name": "#%%\n"
    }
   },
   "outputs": [
    {
     "data": {
      "text/plain": [
       "0.6627731839655453"
      ]
     },
     "execution_count": 67,
     "metadata": {},
     "output_type": "execute_result"
    }
   ],
   "source": [
    "auc_roc_ord = roc_auc_score(target_ordinal_valid, probabilities_ord_one_valid)\n",
    "auc_roc_ord"
   ]
  },
  {
   "cell_type": "markdown",
   "metadata": {},
   "source": [
    "У дерева решений F1 выше, чем у логистической регрессии, однако показатель AUC-ROC ниже."
   ]
  },
  {
   "cell_type": "markdown",
   "metadata": {
    "pycharm": {
     "name": "#%% md\n"
    }
   },
   "source": [
    "Проведем upsampling - увеличение выборки. Для этого выделим несколько этапов:"
   ]
  },
  {
   "cell_type": "markdown",
   "metadata": {
    "pycharm": {
     "name": "#%% md\n"
    }
   },
   "source": [
    "#### Увеличение выборки:"
   ]
  },
  {
   "cell_type": "markdown",
   "metadata": {
    "pycharm": {
     "name": "#%% md\n"
    }
   },
   "source": [
    "Создадим функцию, на вход принимающую признаки, целевой признак и количество повторений необходимых нам значений. На выходе мы получим все признаки и целевой признак после увеличения выборки."
   ]
  },
  {
   "cell_type": "code",
   "execution_count": 68,
   "metadata": {},
   "outputs": [],
   "source": [
    "def upsample(features, target, repeat):\n",
    "        \n",
    "    features_zeros = features[target == 0]\n",
    "    features_ones = features[target == 1]\n",
    "    \n",
    "    target_zeros = target[target == 0]\n",
    "    target_ones = target[target == 1]\n",
    "\n",
    "    features_upsampled = pd.concat([features_zeros] + [features_ones] * repeat)\n",
    "    \n",
    "    target_upsampled = pd.concat([target_zeros] + [target_ones] * repeat)\n",
    "    \n",
    "    features_upsampled = shuffle(pd.concat([features_zeros] + [features_ones] * repeat), random_state=0)\n",
    "    \n",
    "    target_upsampled = shuffle(pd.concat([target_zeros] + [target_ones] * repeat), random_state=0)\n",
    "        \n",
    "    return features_upsampled, target_upsampled"
   ]
  },
  {
   "cell_type": "code",
   "execution_count": 69,
   "metadata": {
    "pycharm": {
     "name": "#%%\n"
    }
   },
   "outputs": [],
   "source": [
    "features_upsampled, target_upsampled = upsample(features_train, target_train, 4)"
   ]
  },
  {
   "cell_type": "code",
   "execution_count": 70,
   "metadata": {
    "pycharm": {
     "name": "#%%\n"
    }
   },
   "outputs": [],
   "source": [
    "features_ordinal_train_upsampled, target_ordinal_train_upsampled = upsample(features_ordinal_train, \n",
    "                                                                      target_ordinal_train, 4)"
   ]
  },
  {
   "cell_type": "markdown",
   "metadata": {},
   "source": [
    "***ЛР:***"
   ]
  },
  {
   "cell_type": "code",
   "execution_count": 71,
   "metadata": {
    "pycharm": {
     "name": "#%%\n"
    }
   },
   "outputs": [
    {
     "data": {
      "text/html": [
       "<div>\n",
       "<style scoped>\n",
       "    .dataframe tbody tr th:only-of-type {\n",
       "        vertical-align: middle;\n",
       "    }\n",
       "\n",
       "    .dataframe tbody tr th {\n",
       "        vertical-align: top;\n",
       "    }\n",
       "\n",
       "    .dataframe thead th {\n",
       "        text-align: right;\n",
       "    }\n",
       "</style>\n",
       "<table border=\"1\" class=\"dataframe\">\n",
       "  <thead>\n",
       "    <tr style=\"text-align: right;\">\n",
       "      <th></th>\n",
       "      <th>credit_score</th>\n",
       "      <th>age</th>\n",
       "      <th>tenure</th>\n",
       "      <th>balance</th>\n",
       "      <th>num_of_products</th>\n",
       "      <th>has_cr_card</th>\n",
       "      <th>is_active_member</th>\n",
       "      <th>estimated_salary</th>\n",
       "      <th>geography_Germany</th>\n",
       "      <th>geography_Spain</th>\n",
       "      <th>gender_Male</th>\n",
       "    </tr>\n",
       "  </thead>\n",
       "  <tbody>\n",
       "    <tr>\n",
       "      <td>8720</td>\n",
       "      <td>0.608663</td>\n",
       "      <td>-1.037515</td>\n",
       "      <td>-1.468729</td>\n",
       "      <td>-1.233163</td>\n",
       "      <td>0.830152</td>\n",
       "      <td>-1.556504</td>\n",
       "      <td>-1.055187</td>\n",
       "      <td>0.098074</td>\n",
       "      <td>0</td>\n",
       "      <td>0</td>\n",
       "      <td>0</td>\n",
       "    </tr>\n",
       "    <tr>\n",
       "      <td>4322</td>\n",
       "      <td>-1.499455</td>\n",
       "      <td>-0.752805</td>\n",
       "      <td>1.104696</td>\n",
       "      <td>-0.065285</td>\n",
       "      <td>-0.891560</td>\n",
       "      <td>0.642466</td>\n",
       "      <td>-1.055187</td>\n",
       "      <td>0.524871</td>\n",
       "      <td>0</td>\n",
       "      <td>0</td>\n",
       "      <td>1</td>\n",
       "    </tr>\n",
       "    <tr>\n",
       "      <td>3658</td>\n",
       "      <td>0.484045</td>\n",
       "      <td>0.386035</td>\n",
       "      <td>-0.503694</td>\n",
       "      <td>0.067094</td>\n",
       "      <td>-0.891560</td>\n",
       "      <td>0.642466</td>\n",
       "      <td>-1.055187</td>\n",
       "      <td>1.729855</td>\n",
       "      <td>0</td>\n",
       "      <td>0</td>\n",
       "      <td>0</td>\n",
       "    </tr>\n",
       "    <tr>\n",
       "      <td>3677</td>\n",
       "      <td>-0.222123</td>\n",
       "      <td>-0.562998</td>\n",
       "      <td>-0.825373</td>\n",
       "      <td>-1.233163</td>\n",
       "      <td>0.830152</td>\n",
       "      <td>0.642466</td>\n",
       "      <td>0.947699</td>\n",
       "      <td>1.017872</td>\n",
       "      <td>0</td>\n",
       "      <td>1</td>\n",
       "      <td>1</td>\n",
       "    </tr>\n",
       "    <tr>\n",
       "      <td>9554</td>\n",
       "      <td>1.314830</td>\n",
       "      <td>-0.942612</td>\n",
       "      <td>-0.503694</td>\n",
       "      <td>-0.486339</td>\n",
       "      <td>2.551864</td>\n",
       "      <td>0.642466</td>\n",
       "      <td>-1.055187</td>\n",
       "      <td>0.492591</td>\n",
       "      <td>0</td>\n",
       "      <td>0</td>\n",
       "      <td>0</td>\n",
       "    </tr>\n",
       "    <tr>\n",
       "      <td>...</td>\n",
       "      <td>...</td>\n",
       "      <td>...</td>\n",
       "      <td>...</td>\n",
       "      <td>...</td>\n",
       "      <td>...</td>\n",
       "      <td>...</td>\n",
       "      <td>...</td>\n",
       "      <td>...</td>\n",
       "      <td>...</td>\n",
       "      <td>...</td>\n",
       "      <td>...</td>\n",
       "    </tr>\n",
       "    <tr>\n",
       "      <td>2404</td>\n",
       "      <td>-0.222123</td>\n",
       "      <td>-0.183385</td>\n",
       "      <td>1.104696</td>\n",
       "      <td>0.993273</td>\n",
       "      <td>0.830152</td>\n",
       "      <td>-1.556504</td>\n",
       "      <td>-1.055187</td>\n",
       "      <td>0.916626</td>\n",
       "      <td>1</td>\n",
       "      <td>0</td>\n",
       "      <td>1</td>\n",
       "    </tr>\n",
       "    <tr>\n",
       "      <td>7841</td>\n",
       "      <td>0.556739</td>\n",
       "      <td>0.670745</td>\n",
       "      <td>0.783018</td>\n",
       "      <td>0.558516</td>\n",
       "      <td>-0.891560</td>\n",
       "      <td>0.642466</td>\n",
       "      <td>0.947699</td>\n",
       "      <td>0.860293</td>\n",
       "      <td>1</td>\n",
       "      <td>0</td>\n",
       "      <td>0</td>\n",
       "    </tr>\n",
       "    <tr>\n",
       "      <td>5686</td>\n",
       "      <td>-0.087120</td>\n",
       "      <td>0.670745</td>\n",
       "      <td>0.461340</td>\n",
       "      <td>-1.032577</td>\n",
       "      <td>-0.891560</td>\n",
       "      <td>-1.556504</td>\n",
       "      <td>-1.055187</td>\n",
       "      <td>0.992214</td>\n",
       "      <td>0</td>\n",
       "      <td>1</td>\n",
       "      <td>0</td>\n",
       "    </tr>\n",
       "    <tr>\n",
       "      <td>195</td>\n",
       "      <td>1.605605</td>\n",
       "      <td>-0.373192</td>\n",
       "      <td>-0.503694</td>\n",
       "      <td>1.580863</td>\n",
       "      <td>-0.891560</td>\n",
       "      <td>0.642466</td>\n",
       "      <td>0.947699</td>\n",
       "      <td>-1.712801</td>\n",
       "      <td>0</td>\n",
       "      <td>0</td>\n",
       "      <td>1</td>\n",
       "    </tr>\n",
       "    <tr>\n",
       "      <td>7145</td>\n",
       "      <td>0.317888</td>\n",
       "      <td>-0.847708</td>\n",
       "      <td>-0.182016</td>\n",
       "      <td>0.614722</td>\n",
       "      <td>-0.891560</td>\n",
       "      <td>-1.556504</td>\n",
       "      <td>-1.055187</td>\n",
       "      <td>1.449163</td>\n",
       "      <td>0</td>\n",
       "      <td>0</td>\n",
       "      <td>1</td>\n",
       "    </tr>\n",
       "  </tbody>\n",
       "</table>\n",
       "<p>9588 rows × 11 columns</p>\n",
       "</div>"
      ],
      "text/plain": [
       "      credit_score       age    tenure   balance  num_of_products  \\\n",
       "8720      0.608663 -1.037515 -1.468729 -1.233163         0.830152   \n",
       "4322     -1.499455 -0.752805  1.104696 -0.065285        -0.891560   \n",
       "3658      0.484045  0.386035 -0.503694  0.067094        -0.891560   \n",
       "3677     -0.222123 -0.562998 -0.825373 -1.233163         0.830152   \n",
       "9554      1.314830 -0.942612 -0.503694 -0.486339         2.551864   \n",
       "...            ...       ...       ...       ...              ...   \n",
       "2404     -0.222123 -0.183385  1.104696  0.993273         0.830152   \n",
       "7841      0.556739  0.670745  0.783018  0.558516        -0.891560   \n",
       "5686     -0.087120  0.670745  0.461340 -1.032577        -0.891560   \n",
       "195       1.605605 -0.373192 -0.503694  1.580863        -0.891560   \n",
       "7145      0.317888 -0.847708 -0.182016  0.614722        -0.891560   \n",
       "\n",
       "      has_cr_card  is_active_member  estimated_salary  geography_Germany  \\\n",
       "8720    -1.556504         -1.055187          0.098074                  0   \n",
       "4322     0.642466         -1.055187          0.524871                  0   \n",
       "3658     0.642466         -1.055187          1.729855                  0   \n",
       "3677     0.642466          0.947699          1.017872                  0   \n",
       "9554     0.642466         -1.055187          0.492591                  0   \n",
       "...           ...               ...               ...                ...   \n",
       "2404    -1.556504         -1.055187          0.916626                  1   \n",
       "7841     0.642466          0.947699          0.860293                  1   \n",
       "5686    -1.556504         -1.055187          0.992214                  0   \n",
       "195      0.642466          0.947699         -1.712801                  0   \n",
       "7145    -1.556504         -1.055187          1.449163                  0   \n",
       "\n",
       "      geography_Spain  gender_Male  \n",
       "8720                0            0  \n",
       "4322                0            1  \n",
       "3658                0            0  \n",
       "3677                1            1  \n",
       "9554                0            0  \n",
       "...               ...          ...  \n",
       "2404                0            1  \n",
       "7841                0            0  \n",
       "5686                1            0  \n",
       "195                 0            1  \n",
       "7145                0            1  \n",
       "\n",
       "[9588 rows x 11 columns]"
      ]
     },
     "execution_count": 71,
     "metadata": {},
     "output_type": "execute_result"
    }
   ],
   "source": [
    "features_upsampled"
   ]
  },
  {
   "cell_type": "code",
   "execution_count": 72,
   "metadata": {},
   "outputs": [
    {
     "data": {
      "text/plain": [
       "8720    0\n",
       "4322    0\n",
       "3658    1\n",
       "3677    0\n",
       "9554    1\n",
       "       ..\n",
       "2404    1\n",
       "7841    1\n",
       "5686    1\n",
       "195     0\n",
       "7145    0\n",
       "Name: exited, Length: 9588, dtype: int64"
      ]
     },
     "execution_count": 72,
     "metadata": {},
     "output_type": "execute_result"
    }
   ],
   "source": [
    "target_upsampled"
   ]
  },
  {
   "cell_type": "markdown",
   "metadata": {
    "pycharm": {
     "name": "#%% md\n"
    }
   },
   "source": [
    "Наша обучающая выборка стала больше практически в 2 раза"
   ]
  },
  {
   "cell_type": "markdown",
   "metadata": {
    "pycharm": {
     "name": "#%% md\n"
    }
   },
   "source": [
    "И теперь обучим логистическую регрессию:"
   ]
  },
  {
   "cell_type": "code",
   "execution_count": 73,
   "metadata": {
    "pycharm": {
     "name": "#%%\n"
    }
   },
   "outputs": [
    {
     "name": "stdout",
     "output_type": "stream",
     "text": [
      "F1: 0.4875962360992301\n",
      "полнота: 0.6818181818181818\n",
      "точность: 0.3794940079893475\n"
     ]
    }
   ],
   "source": [
    "model_logistic_regression_upsampled = LogisticRegression(solver='liblinear')\n",
    "model_logistic_regression_upsampled.fit(features_upsampled, target_upsampled)\n",
    "\n",
    "predicted_valid = model_logistic_regression_upsampled.predict(features_valid)\n",
    "\n",
    "print(\"F1:\", f1_score(target_valid, predicted_valid))\n",
    "print(\"полнота:\", recall_score(target_valid, predicted_valid))\n",
    "print(\"точность:\", precision_score(target_valid, predicted_valid))"
   ]
  },
  {
   "cell_type": "markdown",
   "metadata": {
    "pycharm": {
     "name": "#%% md\n"
    }
   },
   "source": [
    "Показатель F1 явно не дотягивает до нужной нам границы. Также показатели полноты и точности низки. Посмотрим, что будет, если мы изменим порог классификации. Найдем значения вероятностей классов для валидационной выборки."
   ]
  },
  {
   "cell_type": "code",
   "execution_count": 74,
   "metadata": {},
   "outputs": [
    {
     "data": {
      "text/plain": [
       "array([0.44421704, 0.39326778, 0.51254024, 0.33299676, 0.43143473,\n",
       "       0.23807358, 0.25838347, 0.22892439])"
      ]
     },
     "execution_count": 74,
     "metadata": {},
     "output_type": "execute_result"
    }
   ],
   "source": [
    "probabilities_valid = model_logistic_regression_upsampled.predict_proba(features_valid)\n",
    "probabilities_one_valid = probabilities_valid[:, 1]\n",
    "probabilities_one_valid[:8]"
   ]
  },
  {
   "cell_type": "code",
   "execution_count": 75,
   "metadata": {
    "pycharm": {
     "name": "#%%\n"
    }
   },
   "outputs": [
    {
     "data": {
      "text/plain": [
       "0.7633938022852786"
      ]
     },
     "execution_count": 75,
     "metadata": {},
     "output_type": "execute_result"
    }
   ],
   "source": [
    "auc_roc = roc_auc_score(target_valid, probabilities_one_valid)\n",
    "auc_roc"
   ]
  },
  {
   "cell_type": "markdown",
   "metadata": {},
   "source": [
    "Вероятность разнится, причем сильно: где-то она 0,44, а где-то 0,22. Переберем значения порогов от 0 до 0,7 с шагом 0,05 и найдем для каждого точность и полноту:"
   ]
  },
  {
   "cell_type": "code",
   "execution_count": 76,
   "metadata": {},
   "outputs": [
    {
     "name": "stdout",
     "output_type": "stream",
     "text": [
      "Порог = 0.00 | Точность = 0.209, Полнота = 1.000, AUC-ROC = 0.663\n",
      "Порог = 0.05 | Точность = 0.209, Полнота = 1.000, AUC-ROC = 0.663\n",
      "Порог = 0.10 | Точность = 0.216, Полнота = 1.000, AUC-ROC = 0.663\n",
      "Порог = 0.15 | Точность = 0.229, Полнота = 0.990, AUC-ROC = 0.663\n",
      "Порог = 0.20 | Точность = 0.243, Полнота = 0.969, AUC-ROC = 0.663\n",
      "Порог = 0.25 | Точность = 0.258, Полнота = 0.935, AUC-ROC = 0.663\n",
      "Порог = 0.30 | Точность = 0.276, Полнота = 0.904, AUC-ROC = 0.663\n",
      "Порог = 0.35 | Точность = 0.301, Полнота = 0.868, AUC-ROC = 0.663\n",
      "Порог = 0.40 | Точность = 0.331, Полнота = 0.818, AUC-ROC = 0.663\n",
      "Порог = 0.45 | Точность = 0.357, Полнота = 0.756, AUC-ROC = 0.663\n",
      "Порог = 0.50 | Точность = 0.379, Полнота = 0.682, AUC-ROC = 0.663\n",
      "Порог = 0.55 | Точность = 0.417, Полнота = 0.629, AUC-ROC = 0.663\n",
      "Порог = 0.60 | Точность = 0.434, Полнота = 0.562, AUC-ROC = 0.663\n",
      "Порог = 0.65 | Точность = 0.473, Полнота = 0.483, AUC-ROC = 0.663\n"
     ]
    }
   ],
   "source": [
    "for threshold in np.arange(0, 0.7, 0.05):\n",
    "    predicted_validation = probabilities_one_valid > threshold\n",
    "    precision = precision_score(target_valid, predicted_validation)\n",
    "    recall = recall_score(target_valid, predicted_validation)\n",
    "    auc_roc = roc_auc_score(target_valid, predicted_validation)\n",
    "\n",
    "    print(\"Порог = {:.2f} | Точность = {:.3f}, Полнота = {:.3f}, AUC-ROC = {:.3f}\".format(\n",
    "        threshold, precision, recall, auc_roc_ord))"
   ]
  },
  {
   "cell_type": "markdown",
   "metadata": {},
   "source": [
    "Получается, что чем выше порог классификации, тем больше точность и тем меньше полнота. В нашей задаче ключевой метрикой является точность, поэтому возьмем порог в 0,55, тем более, что AUC-ROC при применении данного порога один из самых высоких. "
   ]
  },
  {
   "cell_type": "code",
   "execution_count": 77,
   "metadata": {},
   "outputs": [],
   "source": [
    "predicted_valid_upsampled = probabilities_one_valid > 0.55"
   ]
  },
  {
   "cell_type": "markdown",
   "metadata": {
    "pycharm": {
     "name": "#%% md\n"
    }
   },
   "source": [
    "Установив порог, посмотрим снова на показатели F1, AUC-ROC, точность и полноту нашей логистической регрессии:"
   ]
  },
  {
   "cell_type": "code",
   "execution_count": 78,
   "metadata": {
    "pycharm": {
     "name": "#%%\n"
    }
   },
   "outputs": [
    {
     "name": "stdout",
     "output_type": "stream",
     "text": [
      "F1: 0.5014299332697807\n",
      "AUC-ROC: 0.6982848311446356\n",
      "полнота: 0.6291866028708134\n",
      "точность: 0.41679873217115687\n"
     ]
    }
   ],
   "source": [
    "print(\"F1:\", f1_score(target_valid, predicted_valid_upsampled))\n",
    "print(\"AUC-ROC:\", roc_auc_score(target_valid, predicted_valid_upsampled))\n",
    "print(\"полнота:\", recall_score(target_valid, predicted_valid_upsampled))\n",
    "print(\"точность:\", precision_score(target_valid, predicted_valid_upsampled))"
   ]
  },
  {
   "cell_type": "markdown",
   "metadata": {
    "pycharm": {
     "name": "#%% md\n"
    }
   },
   "source": [
    "AUC-ROC стал меньше, а F1 вырос. Пока модель пока далека от нужных показателей."
   ]
  },
  {
   "cell_type": "markdown",
   "metadata": {},
   "source": [
    "Теперь то же самое для ***СЛ***:"
   ]
  },
  {
   "cell_type": "code",
   "execution_count": 79,
   "metadata": {},
   "outputs": [
    {
     "data": {
      "text/html": [
       "<div>\n",
       "<style scoped>\n",
       "    .dataframe tbody tr th:only-of-type {\n",
       "        vertical-align: middle;\n",
       "    }\n",
       "\n",
       "    .dataframe tbody tr th {\n",
       "        vertical-align: top;\n",
       "    }\n",
       "\n",
       "    .dataframe thead th {\n",
       "        text-align: right;\n",
       "    }\n",
       "</style>\n",
       "<table border=\"1\" class=\"dataframe\">\n",
       "  <thead>\n",
       "    <tr style=\"text-align: right;\">\n",
       "      <th></th>\n",
       "      <th>credit_score</th>\n",
       "      <th>geography</th>\n",
       "      <th>gender</th>\n",
       "      <th>age</th>\n",
       "      <th>tenure</th>\n",
       "      <th>balance</th>\n",
       "      <th>num_of_products</th>\n",
       "      <th>has_cr_card</th>\n",
       "      <th>is_active_member</th>\n",
       "      <th>estimated_salary</th>\n",
       "    </tr>\n",
       "  </thead>\n",
       "  <tbody>\n",
       "    <tr>\n",
       "      <td>8720</td>\n",
       "      <td>0.608663</td>\n",
       "      <td>-0.900852</td>\n",
       "      <td>-1.102198</td>\n",
       "      <td>-1.037515</td>\n",
       "      <td>-1.468729</td>\n",
       "      <td>-1.233163</td>\n",
       "      <td>0.830152</td>\n",
       "      <td>-1.556504</td>\n",
       "      <td>-1.055187</td>\n",
       "      <td>0.098074</td>\n",
       "    </tr>\n",
       "    <tr>\n",
       "      <td>4322</td>\n",
       "      <td>-1.499455</td>\n",
       "      <td>-0.900852</td>\n",
       "      <td>0.907278</td>\n",
       "      <td>-0.752805</td>\n",
       "      <td>1.104696</td>\n",
       "      <td>-0.065285</td>\n",
       "      <td>-0.891560</td>\n",
       "      <td>0.642466</td>\n",
       "      <td>-1.055187</td>\n",
       "      <td>0.524871</td>\n",
       "    </tr>\n",
       "    <tr>\n",
       "      <td>3658</td>\n",
       "      <td>0.484045</td>\n",
       "      <td>-0.900852</td>\n",
       "      <td>-1.102198</td>\n",
       "      <td>0.386035</td>\n",
       "      <td>-0.503694</td>\n",
       "      <td>0.067094</td>\n",
       "      <td>-0.891560</td>\n",
       "      <td>0.642466</td>\n",
       "      <td>-1.055187</td>\n",
       "      <td>1.729855</td>\n",
       "    </tr>\n",
       "    <tr>\n",
       "      <td>3677</td>\n",
       "      <td>-0.222123</td>\n",
       "      <td>1.507307</td>\n",
       "      <td>0.907278</td>\n",
       "      <td>-0.562998</td>\n",
       "      <td>-0.825373</td>\n",
       "      <td>-1.233163</td>\n",
       "      <td>0.830152</td>\n",
       "      <td>0.642466</td>\n",
       "      <td>0.947699</td>\n",
       "      <td>1.017872</td>\n",
       "    </tr>\n",
       "    <tr>\n",
       "      <td>9554</td>\n",
       "      <td>1.314830</td>\n",
       "      <td>-0.900852</td>\n",
       "      <td>-1.102198</td>\n",
       "      <td>-0.942612</td>\n",
       "      <td>-0.503694</td>\n",
       "      <td>-0.486339</td>\n",
       "      <td>2.551864</td>\n",
       "      <td>0.642466</td>\n",
       "      <td>-1.055187</td>\n",
       "      <td>0.492591</td>\n",
       "    </tr>\n",
       "    <tr>\n",
       "      <td>...</td>\n",
       "      <td>...</td>\n",
       "      <td>...</td>\n",
       "      <td>...</td>\n",
       "      <td>...</td>\n",
       "      <td>...</td>\n",
       "      <td>...</td>\n",
       "      <td>...</td>\n",
       "      <td>...</td>\n",
       "      <td>...</td>\n",
       "      <td>...</td>\n",
       "    </tr>\n",
       "    <tr>\n",
       "      <td>2404</td>\n",
       "      <td>-0.222123</td>\n",
       "      <td>0.303227</td>\n",
       "      <td>0.907278</td>\n",
       "      <td>-0.183385</td>\n",
       "      <td>1.104696</td>\n",
       "      <td>0.993273</td>\n",
       "      <td>0.830152</td>\n",
       "      <td>-1.556504</td>\n",
       "      <td>-1.055187</td>\n",
       "      <td>0.916626</td>\n",
       "    </tr>\n",
       "    <tr>\n",
       "      <td>7841</td>\n",
       "      <td>0.556739</td>\n",
       "      <td>0.303227</td>\n",
       "      <td>-1.102198</td>\n",
       "      <td>0.670745</td>\n",
       "      <td>0.783018</td>\n",
       "      <td>0.558516</td>\n",
       "      <td>-0.891560</td>\n",
       "      <td>0.642466</td>\n",
       "      <td>0.947699</td>\n",
       "      <td>0.860293</td>\n",
       "    </tr>\n",
       "    <tr>\n",
       "      <td>5686</td>\n",
       "      <td>-0.087120</td>\n",
       "      <td>1.507307</td>\n",
       "      <td>-1.102198</td>\n",
       "      <td>0.670745</td>\n",
       "      <td>0.461340</td>\n",
       "      <td>-1.032577</td>\n",
       "      <td>-0.891560</td>\n",
       "      <td>-1.556504</td>\n",
       "      <td>-1.055187</td>\n",
       "      <td>0.992214</td>\n",
       "    </tr>\n",
       "    <tr>\n",
       "      <td>195</td>\n",
       "      <td>1.605605</td>\n",
       "      <td>-0.900852</td>\n",
       "      <td>0.907278</td>\n",
       "      <td>-0.373192</td>\n",
       "      <td>-0.503694</td>\n",
       "      <td>1.580863</td>\n",
       "      <td>-0.891560</td>\n",
       "      <td>0.642466</td>\n",
       "      <td>0.947699</td>\n",
       "      <td>-1.712801</td>\n",
       "    </tr>\n",
       "    <tr>\n",
       "      <td>7145</td>\n",
       "      <td>0.317888</td>\n",
       "      <td>-0.900852</td>\n",
       "      <td>0.907278</td>\n",
       "      <td>-0.847708</td>\n",
       "      <td>-0.182016</td>\n",
       "      <td>0.614722</td>\n",
       "      <td>-0.891560</td>\n",
       "      <td>-1.556504</td>\n",
       "      <td>-1.055187</td>\n",
       "      <td>1.449163</td>\n",
       "    </tr>\n",
       "  </tbody>\n",
       "</table>\n",
       "<p>9588 rows × 10 columns</p>\n",
       "</div>"
      ],
      "text/plain": [
       "      credit_score  geography    gender       age    tenure   balance  \\\n",
       "8720      0.608663  -0.900852 -1.102198 -1.037515 -1.468729 -1.233163   \n",
       "4322     -1.499455  -0.900852  0.907278 -0.752805  1.104696 -0.065285   \n",
       "3658      0.484045  -0.900852 -1.102198  0.386035 -0.503694  0.067094   \n",
       "3677     -0.222123   1.507307  0.907278 -0.562998 -0.825373 -1.233163   \n",
       "9554      1.314830  -0.900852 -1.102198 -0.942612 -0.503694 -0.486339   \n",
       "...            ...        ...       ...       ...       ...       ...   \n",
       "2404     -0.222123   0.303227  0.907278 -0.183385  1.104696  0.993273   \n",
       "7841      0.556739   0.303227 -1.102198  0.670745  0.783018  0.558516   \n",
       "5686     -0.087120   1.507307 -1.102198  0.670745  0.461340 -1.032577   \n",
       "195       1.605605  -0.900852  0.907278 -0.373192 -0.503694  1.580863   \n",
       "7145      0.317888  -0.900852  0.907278 -0.847708 -0.182016  0.614722   \n",
       "\n",
       "      num_of_products  has_cr_card  is_active_member  estimated_salary  \n",
       "8720         0.830152    -1.556504         -1.055187          0.098074  \n",
       "4322        -0.891560     0.642466         -1.055187          0.524871  \n",
       "3658        -0.891560     0.642466         -1.055187          1.729855  \n",
       "3677         0.830152     0.642466          0.947699          1.017872  \n",
       "9554         2.551864     0.642466         -1.055187          0.492591  \n",
       "...               ...          ...               ...               ...  \n",
       "2404         0.830152    -1.556504         -1.055187          0.916626  \n",
       "7841        -0.891560     0.642466          0.947699          0.860293  \n",
       "5686        -0.891560    -1.556504         -1.055187          0.992214  \n",
       "195         -0.891560     0.642466          0.947699         -1.712801  \n",
       "7145        -0.891560    -1.556504         -1.055187          1.449163  \n",
       "\n",
       "[9588 rows x 10 columns]"
      ]
     },
     "execution_count": 79,
     "metadata": {},
     "output_type": "execute_result"
    }
   ],
   "source": [
    "features_ordinal_train_upsampled"
   ]
  },
  {
   "cell_type": "code",
   "execution_count": 80,
   "metadata": {
    "pycharm": {
     "name": "#%%\n"
    }
   },
   "outputs": [
    {
     "data": {
      "text/plain": [
       "8720    0\n",
       "4322    0\n",
       "3658    1\n",
       "3677    0\n",
       "9554    1\n",
       "       ..\n",
       "2404    1\n",
       "7841    1\n",
       "5686    1\n",
       "195     0\n",
       "7145    0\n",
       "Name: exited, Length: 9588, dtype: int64"
      ]
     },
     "execution_count": 80,
     "metadata": {},
     "output_type": "execute_result"
    }
   ],
   "source": [
    "target_ordinal_train_upsampled"
   ]
  },
  {
   "cell_type": "markdown",
   "metadata": {
    "pycharm": {
     "name": "#%% md\n"
    }
   },
   "source": [
    "Всё получилось так же как и в ЛР."
   ]
  },
  {
   "cell_type": "markdown",
   "metadata": {},
   "source": [
    "И теперь обучим наше дерево решений:"
   ]
  },
  {
   "cell_type": "code",
   "execution_count": 81,
   "metadata": {
    "pycharm": {
     "name": "#%%\n"
    }
   },
   "outputs": [
    {
     "name": "stdout",
     "output_type": "stream",
     "text": [
      "F1: 0.4636251541307029\n",
      "полнота: 0.44976076555023925\n",
      "точность: 0.47837150127226463\n"
     ]
    }
   ],
   "source": [
    "tree_upsampled = DecisionTreeClassifier(random_state=12345)\n",
    "tree_upsampled.fit(features_ordinal_train_upsampled, target_ordinal_train_upsampled)\n",
    "predicted_ordinal_valid__upsampled = tree_upsampled.predict(features_ordinal_valid)\n",
    "\n",
    "print(\"F1:\", f1_score(target_ordinal_valid, predicted_ordinal_valid__upsampled))\n",
    "print(\"полнота:\", recall_score(target_ordinal_valid, predicted_ordinal_valid__upsampled))\n",
    "print(\"точность:\", precision_score(target_ordinal_valid, predicted_ordinal_valid__upsampled))"
   ]
  },
  {
   "cell_type": "markdown",
   "metadata": {
    "pycharm": {
     "name": "#%% md\n"
    }
   },
   "source": [
    "При увеличении выборки дерево решений показывает результат F1 несколько ниже, чем до этого. Попробуем сдвинуть порог:"
   ]
  },
  {
   "cell_type": "code",
   "execution_count": 82,
   "metadata": {},
   "outputs": [
    {
     "data": {
      "text/plain": [
       "array([0., 0., 1., 0., 0.])"
      ]
     },
     "execution_count": 82,
     "metadata": {},
     "output_type": "execute_result"
    }
   ],
   "source": [
    "probabilities_ordinal_valid_upsampled = tree_upsampled.predict_proba(features_ordinal_valid)\n",
    "probabilities_ordinal_valid_upsampled = probabilities_ordinal_valid_upsampled[:, 1]\n",
    "probabilities_ordinal_valid_upsampled[:5]"
   ]
  },
  {
   "cell_type": "code",
   "execution_count": 83,
   "metadata": {
    "pycharm": {
     "name": "#%%\n"
    }
   },
   "outputs": [
    {
     "data": {
      "text/plain": [
       "0.660088979488141"
      ]
     },
     "execution_count": 83,
     "metadata": {},
     "output_type": "execute_result"
    }
   ],
   "source": [
    "auc_roc_ord = roc_auc_score(target_ordinal_valid, probabilities_ordinal_valid_upsampled)\n",
    "auc_roc_ord"
   ]
  },
  {
   "cell_type": "markdown",
   "metadata": {},
   "source": [
    "AUC-ROC также ниже, чем до увеличения выборки. Переберем пороги:"
   ]
  },
  {
   "cell_type": "code",
   "execution_count": 84,
   "metadata": {},
   "outputs": [
    {
     "name": "stdout",
     "output_type": "stream",
     "text": [
      "Порог = 0.00 | Точность = 0.478, Полнота = 0.450, AUC-ROC = 0.660\n",
      "Порог = 0.05 | Точность = 0.478, Полнота = 0.450, AUC-ROC = 0.660\n",
      "Порог = 0.10 | Точность = 0.478, Полнота = 0.450, AUC-ROC = 0.660\n",
      "Порог = 0.15 | Точность = 0.478, Полнота = 0.450, AUC-ROC = 0.660\n",
      "Порог = 0.20 | Точность = 0.478, Полнота = 0.450, AUC-ROC = 0.660\n",
      "Порог = 0.25 | Точность = 0.478, Полнота = 0.450, AUC-ROC = 0.660\n",
      "Порог = 0.30 | Точность = 0.478, Полнота = 0.450, AUC-ROC = 0.660\n",
      "Порог = 0.35 | Точность = 0.478, Полнота = 0.450, AUC-ROC = 0.660\n",
      "Порог = 0.40 | Точность = 0.478, Полнота = 0.450, AUC-ROC = 0.660\n",
      "Порог = 0.45 | Точность = 0.478, Полнота = 0.450, AUC-ROC = 0.660\n",
      "Порог = 0.50 | Точность = 0.478, Полнота = 0.450, AUC-ROC = 0.660\n",
      "Порог = 0.55 | Точность = 0.478, Полнота = 0.450, AUC-ROC = 0.660\n",
      "Порог = 0.60 | Точность = 0.478, Полнота = 0.450, AUC-ROC = 0.660\n",
      "Порог = 0.65 | Точность = 0.478, Полнота = 0.450, AUC-ROC = 0.660\n"
     ]
    }
   ],
   "source": [
    "for threshold in np.arange(0, 0.7, 0.05):\n",
    "    predicted_validation_ordinal_upsampled = probabilities_ordinal_valid_upsampled > threshold\n",
    "    precision_ordinal_upsampled = precision_score(target_ordinal_valid, predicted_validation_ordinal_upsampled)\n",
    "    recall_ordinal_upsampled = recall_score(target_ordinal_valid, predicted_validation_ordinal_upsampled)\n",
    "    auc_roc_ord = roc_auc_score(target_ordinal_valid, predicted_validation_ordinal_upsampled)\n",
    "\n",
    "    print(\"Порог = {:.2f} | Точность = {:.3f}, Полнота = {:.3f}, AUC-ROC = {:.3f}\".format(\n",
    "        threshold, precision_ordinal_upsampled, recall_ordinal_upsampled, auc_roc_ord))"
   ]
  },
  {
   "cell_type": "markdown",
   "metadata": {},
   "source": [
    "Получается, прогнозируемость класса, которая является долей выборок одного и того же класса в листе, при любом пороге будет одинаковой."
   ]
  },
  {
   "cell_type": "markdown",
   "metadata": {
    "pycharm": {
     "name": "#%% md\n"
    }
   },
   "source": [
    "В качестве альтернативы увеличению теперь проведем уменьшение выборки:"
   ]
  },
  {
   "cell_type": "markdown",
   "metadata": {
    "pycharm": {
     "name": "#%% md\n"
    }
   },
   "source": [
    "#### Уменьшение выборки:"
   ]
  },
  {
   "cell_type": "markdown",
   "metadata": {},
   "source": [
    "Сделаем это техникой downsampling.\n",
    "Напишем функцию, на вход принимающую признаки, целевой признак и долю отрицательных объектов, которые следует оставить. На выходе мы получим все признаки и целевой признак после уменьшения выборки."
   ]
  },
  {
   "cell_type": "code",
   "execution_count": 85,
   "metadata": {},
   "outputs": [],
   "source": [
    "def downsample(features, target, fraction):\n",
    "    features_zeros = features[target == 0]\n",
    "    features_ones = features[target == 1]\n",
    "    \n",
    "    target_zeros = target[target == 0]\n",
    "    target_ones = target[target == 1]\n",
    "\n",
    "    features_downsampled = pd.concat(\n",
    "        [features_zeros.sample(frac=fraction, random_state=12345)] + [features_ones])\n",
    "    \n",
    "    target_downsampled = pd.concat(\n",
    "        [target_zeros.sample(frac=fraction, random_state=12345)] + [target_ones])\n",
    "    \n",
    "    features_downsampled, target_downsampled = shuffle(\n",
    "        features_downsampled, target_downsampled, random_state=12345)\n",
    "    \n",
    "    return features_downsampled, target_downsampled"
   ]
  },
  {
   "cell_type": "markdown",
   "metadata": {},
   "source": [
    "***ЛР:***"
   ]
  },
  {
   "cell_type": "code",
   "execution_count": 86,
   "metadata": {
    "pycharm": {
     "name": "#%%\n"
    }
   },
   "outputs": [],
   "source": [
    "features_downsampled, target_downsampled = downsample(features_train, target_train, 0.20)"
   ]
  },
  {
   "cell_type": "code",
   "execution_count": 87,
   "metadata": {
    "pycharm": {
     "name": "#%%\n"
    }
   },
   "outputs": [
    {
     "name": "stdout",
     "output_type": "stream",
     "text": [
      "<class 'pandas.core.frame.DataFrame'>\n",
      "Int64Index: 2157 entries, 5471 to 9099\n",
      "Data columns (total 11 columns):\n",
      "credit_score         2157 non-null float64\n",
      "age                  2157 non-null float64\n",
      "tenure               2157 non-null float64\n",
      "balance              2157 non-null float64\n",
      "num_of_products      2157 non-null float64\n",
      "has_cr_card          2157 non-null float64\n",
      "is_active_member     2157 non-null float64\n",
      "estimated_salary     2157 non-null float64\n",
      "geography_Germany    2157 non-null uint8\n",
      "geography_Spain      2157 non-null uint8\n",
      "gender_Male          2157 non-null uint8\n",
      "dtypes: float64(8), uint8(3)\n",
      "memory usage: 158.0 KB\n"
     ]
    }
   ],
   "source": [
    "features_downsampled.info()"
   ]
  },
  {
   "cell_type": "code",
   "execution_count": 88,
   "metadata": {
    "pycharm": {
     "name": "#%%\n"
    }
   },
   "outputs": [
    {
     "data": {
      "text/plain": [
       "5471    1\n",
       "1280    0\n",
       "4345    1\n",
       "2350    1\n",
       "551     1\n",
       "       ..\n",
       "4198    1\n",
       "8215    1\n",
       "1892    0\n",
       "1718    0\n",
       "9099    0\n",
       "Name: exited, Length: 2157, dtype: int64"
      ]
     },
     "execution_count": 88,
     "metadata": {},
     "output_type": "execute_result"
    }
   ],
   "source": [
    "target_downsampled"
   ]
  },
  {
   "cell_type": "markdown",
   "metadata": {
    "pycharm": {
     "name": "#%% md\n"
    }
   },
   "source": [
    "***СЛ:***"
   ]
  },
  {
   "cell_type": "code",
   "execution_count": 89,
   "metadata": {
    "pycharm": {
     "name": "#%%\n"
    }
   },
   "outputs": [],
   "source": [
    "features_ordinal_train_downsampled, target_ordinal_train_downsampled = downsample(features_ordinal_train, \n",
    "                                                                      target_ordinal_train, 0.20)"
   ]
  },
  {
   "cell_type": "code",
   "execution_count": 90,
   "metadata": {},
   "outputs": [
    {
     "name": "stdout",
     "output_type": "stream",
     "text": [
      "<class 'pandas.core.frame.DataFrame'>\n",
      "Int64Index: 2157 entries, 5471 to 9099\n",
      "Data columns (total 10 columns):\n",
      "credit_score        2157 non-null float64\n",
      "geography           2157 non-null float64\n",
      "gender              2157 non-null float64\n",
      "age                 2157 non-null float64\n",
      "tenure              2157 non-null float64\n",
      "balance             2157 non-null float64\n",
      "num_of_products     2157 non-null float64\n",
      "has_cr_card         2157 non-null float64\n",
      "is_active_member    2157 non-null float64\n",
      "estimated_salary    2157 non-null float64\n",
      "dtypes: float64(10)\n",
      "memory usage: 185.4 KB\n"
     ]
    }
   ],
   "source": [
    "features_ordinal_train_downsampled.info()"
   ]
  },
  {
   "cell_type": "code",
   "execution_count": 91,
   "metadata": {},
   "outputs": [
    {
     "data": {
      "text/plain": [
       "5471    1\n",
       "1280    0\n",
       "4345    1\n",
       "2350    1\n",
       "551     1\n",
       "       ..\n",
       "4198    1\n",
       "8215    1\n",
       "1892    0\n",
       "1718    0\n",
       "9099    0\n",
       "Name: exited, Length: 2157, dtype: int64"
      ]
     },
     "execution_count": 91,
     "metadata": {},
     "output_type": "execute_result"
    }
   ],
   "source": [
    "target_ordinal_train_downsampled"
   ]
  },
  {
   "cell_type": "markdown",
   "metadata": {
    "pycharm": {
     "name": "#%% md\n"
    }
   },
   "source": [
    "Обучающие выборки уменьшили и перемешали. Получилось по 2157 строк. Обучим теперь логистическую регрессию и дерево решений."
   ]
  },
  {
   "cell_type": "markdown",
   "metadata": {},
   "source": [
    "***ЛР:***"
   ]
  },
  {
   "cell_type": "code",
   "execution_count": 92,
   "metadata": {},
   "outputs": [
    {
     "name": "stdout",
     "output_type": "stream",
     "text": [
      "F1: 0.478395061728395\n"
     ]
    }
   ],
   "source": [
    "model_logistic_regression_downsampled = LogisticRegression(solver='liblinear')\n",
    "model_logistic_regression_downsampled.fit(features_downsampled, target_downsampled)\n",
    "\n",
    "predicted_valid = model_logistic_regression_downsampled.predict(features_valid)\n",
    "\n",
    "print(\"F1:\", f1_score(target_valid, predicted_valid))"
   ]
  },
  {
   "cell_type": "code",
   "execution_count": 93,
   "metadata": {},
   "outputs": [
    {
     "data": {
      "text/plain": [
       "0.7628766203521676"
      ]
     },
     "execution_count": 93,
     "metadata": {},
     "output_type": "execute_result"
    }
   ],
   "source": [
    "probabilities_valid = model_logistic_regression_downsampled.predict_proba(features_valid)\n",
    "probabilities_one_valid_downsampled = probabilities_valid[:, 1]\n",
    "auc_roc_ord = roc_auc_score(target_valid, probabilities_one_valid_downsampled)\n",
    "auc_roc_ord"
   ]
  },
  {
   "cell_type": "markdown",
   "metadata": {
    "pycharm": {
     "name": "#%% md\n"
    }
   },
   "source": [
    "Показатели ниже, чем при увеличении выборки, тем не менее, и тут попробуем сдвинуть порог:"
   ]
  },
  {
   "cell_type": "code",
   "execution_count": 94,
   "metadata": {
    "pycharm": {
     "name": "#%%\n"
    }
   },
   "outputs": [
    {
     "data": {
      "text/plain": [
       "array([0.44649358, 0.43423888, 0.52631506, 0.41190027, 0.5135944 ,\n",
       "       0.27806719, 0.2736595 , 0.28541215])"
      ]
     },
     "execution_count": 94,
     "metadata": {},
     "output_type": "execute_result"
    }
   ],
   "source": [
    "probabilities_one_valid_downsampled[:8]"
   ]
  },
  {
   "cell_type": "markdown",
   "metadata": {},
   "source": [
    "Вот тут уже показатели лучше. В первой восьмерке есть даже 0,52. Сделаем цикл, чтобы найти оптимальный порог классификации:"
   ]
  },
  {
   "cell_type": "code",
   "execution_count": 95,
   "metadata": {},
   "outputs": [
    {
     "name": "stdout",
     "output_type": "stream",
     "text": [
      "Порог = 0.00 | Точность = 0.209, Полнота = 1.000\n",
      "F1: 0.3457402812241522\n",
      "AUC-ROC: 0.5\n",
      "\n",
      "Порог = 0.05 | Точность = 0.209, Полнота = 1.000\n",
      "F1: 0.34602649006622516\n",
      "AUC-ROC: 0.5006321112515804\n",
      "\n",
      "Порог = 0.10 | Точность = 0.213, Полнота = 1.000\n",
      "F1: 0.350524109014675\n",
      "AUC-ROC: 0.5104298356510746\n",
      "\n",
      "Порог = 0.15 | Точность = 0.221, Полнота = 0.995\n",
      "F1: 0.3614248479582971\n",
      "AUC-ROC: 0.5336379968424682\n",
      "\n",
      "Порог = 0.20 | Точность = 0.233, Полнота = 0.983\n",
      "F1: 0.3767186067827681\n",
      "AUC-ROC: 0.564003532564315\n",
      "\n",
      "Порог = 0.25 | Точность = 0.247, Полнота = 0.957\n",
      "F1: 0.392349190779794\n",
      "AUC-ROC: 0.5925649804317713\n",
      "\n",
      "Порог = 0.30 | Точность = 0.263, Полнота = 0.931\n",
      "F1: 0.4101212440695835\n",
      "AUC-ROC: 0.6208103726734374\n",
      "\n",
      "Порог = 0.35 | Точность = 0.282, Полнота = 0.907\n",
      "F1: 0.42970521541950113\n",
      "AUC-ROC: 0.6477234921575863\n",
      "\n",
      "Порог = 0.40 | Точность = 0.303, Полнота = 0.871\n",
      "F1: 0.4496602841260036\n",
      "AUC-ROC: 0.6708681397782469\n",
      "\n",
      "Порог = 0.45 | Точность = 0.332, Полнота = 0.823\n",
      "F1: 0.472852233676976\n",
      "AUC-ROC: 0.6924567049159502\n",
      "\n",
      "Порог = 0.50 | Точность = 0.353, Полнота = 0.742\n",
      "F1: 0.478395061728395\n",
      "AUC-ROC: 0.6912938016803876\n",
      "\n",
      "Порог = 0.55 | Точность = 0.378, Полнота = 0.679\n",
      "F1: 0.485885372112917\n",
      "AUC-ROC: 0.6921149414162922\n",
      "\n",
      "Порог = 0.60 | Точность = 0.413, Полнота = 0.629\n",
      "F1: 0.49857819905213263\n",
      "AUC-ROC: 0.6963884973898947\n",
      "\n",
      "Порог = 0.65 | Точность = 0.444, Полнота = 0.572\n",
      "F1: 0.5\n",
      "AUC-ROC: 0.6913845353528633\n",
      "\n",
      "Порог = 0.70 | Точность = 0.467, Полнота = 0.483\n",
      "F1: 0.4747356051703877\n",
      "AUC-ROC: 0.668617944700851\n",
      "\n",
      "Порог = 0.75 | Точность = 0.484, Полнота = 0.390\n",
      "F1: 0.43178807947019865\n",
      "AUC-ROC: 0.6399823976675397\n",
      "\n"
     ]
    }
   ],
   "source": [
    "for threshold in np.arange(0, 0.8, 0.05):\n",
    "    predicted_validation_downsampled = probabilities_one_valid_downsampled > threshold\n",
    "    precision_downsampled = precision_score(target_valid, predicted_validation_downsampled)\n",
    "    recall_downsampled = recall_score(target_valid, predicted_validation_downsampled)\n",
    "\n",
    "    print(\"Порог = {:.2f} | Точность = {:.3f}, Полнота = {:.3f}\".format(\n",
    "        threshold, precision_downsampled, recall_downsampled))\n",
    "    print(\"F1:\", f1_score(target_valid, predicted_validation_downsampled))\n",
    "    print(\"AUC-ROC:\", roc_auc_score(target_valid, predicted_validation_downsampled))\n",
    "    print()"
   ]
  },
  {
   "cell_type": "markdown",
   "metadata": {
    "pycharm": {
     "name": "#%% md\n"
    }
   },
   "source": [
    "Точность, полнота, F1 и AUC-ROC меняются. При пороге в 0,65 F1 достигает максимального значения - 0,5, однако AUC-ROC принимает наивысшее из возможных значение при пороге 0,6. Применим всё же именно этот порог:"
   ]
  },
  {
   "cell_type": "code",
   "execution_count": 96,
   "metadata": {
    "pycharm": {
     "name": "#%%\n"
    }
   },
   "outputs": [],
   "source": [
    "predicted_validation_downsampled_probably = probabilities_one_valid_downsampled > 0.60"
   ]
  },
  {
   "cell_type": "code",
   "execution_count": 97,
   "metadata": {},
   "outputs": [
    {
     "name": "stdout",
     "output_type": "stream",
     "text": [
      "F1: 0.49857819905213263\n",
      "полнота: 0.6291866028708134\n",
      "точность: 0.41287284144427\n"
     ]
    }
   ],
   "source": [
    "print(\"F1:\", f1_score(target_valid, predicted_validation_downsampled_probably))\n",
    "print(\"полнота:\", recall_score(target_valid, predicted_validation_downsampled_probably))\n",
    "print(\"точность:\", precision_score(target_valid, predicted_validation_downsampled_probably))"
   ]
  },
  {
   "cell_type": "code",
   "execution_count": 98,
   "metadata": {
    "pycharm": {
     "name": "#%%\n"
    }
   },
   "outputs": [
    {
     "data": {
      "text/plain": [
       "0.6963884973898947"
      ]
     },
     "execution_count": 98,
     "metadata": {},
     "output_type": "execute_result"
    }
   ],
   "source": [
    "auc_roc_ord = roc_auc_score(target_valid, predicted_validation_downsampled_probably)\n",
    "auc_roc_ord"
   ]
  },
  {
   "cell_type": "markdown",
   "metadata": {
    "pycharm": {
     "name": "#%% md\n"
    }
   },
   "source": [
    "Результат стал лучше, но всё еще далек от цели. Пойдем дальше."
   ]
  },
  {
   "cell_type": "markdown",
   "metadata": {},
   "source": [
    "***СЛ:***"
   ]
  },
  {
   "cell_type": "code",
   "execution_count": 99,
   "metadata": {},
   "outputs": [
    {
     "name": "stdout",
     "output_type": "stream",
     "text": [
      "F1: 0.482484076433121\n",
      "полнота: 0.7248803827751196\n",
      "точность: 0.3615751789976134\n"
     ]
    }
   ],
   "source": [
    "tree_downsampled = DecisionTreeClassifier(random_state=12345)\n",
    "tree_downsampled.fit(features_ordinal_train_downsampled, target_ordinal_train_downsampled)\n",
    "predicted_ordinal_valid_downsampled = tree_downsampled.predict(features_ordinal_valid)\n",
    "\n",
    "print(\"F1:\", f1_score(target_ordinal_valid, predicted_ordinal_valid_downsampled))\n",
    "print(\"полнота:\", recall_score(target_ordinal_valid, predicted_ordinal_valid_downsampled))\n",
    "print(\"точность:\", precision_score(target_ordinal_valid, predicted_ordinal_valid_downsampled))"
   ]
  },
  {
   "cell_type": "markdown",
   "metadata": {
    "pycharm": {
     "name": "#%% md\n"
    }
   },
   "source": [
    "Выше логистической регрессии взять не получилось, однако мы еще не сдвигали порог и не выставляли гиперпараметры. Поэтому для начала проверим: если сдвинем порог, получится ли поднять показатель?"
   ]
  },
  {
   "cell_type": "code",
   "execution_count": 100,
   "metadata": {},
   "outputs": [
    {
     "data": {
      "text/plain": [
       "array([1., 1., 1., 0., 0.])"
      ]
     },
     "execution_count": 100,
     "metadata": {},
     "output_type": "execute_result"
    }
   ],
   "source": [
    "probabilities_valid_ordinal_downsampled = tree_downsampled.predict_proba(features_ordinal_valid)\n",
    "probabilities_one_valid_ordinal_downsampled = probabilities_valid_ordinal_downsampled[:, 1]\n",
    "probabilities_one_valid_ordinal_downsampled[:5]"
   ]
  },
  {
   "cell_type": "code",
   "execution_count": 101,
   "metadata": {
    "pycharm": {
     "name": "#%%\n"
    }
   },
   "outputs": [
    {
     "data": {
      "text/plain": [
       "0.6933504315898353"
      ]
     },
     "execution_count": 101,
     "metadata": {},
     "output_type": "execute_result"
    }
   ],
   "source": [
    "auc_roc_ord = roc_auc_score(target_ordinal_valid, probabilities_one_valid_ordinal_downsampled)\n",
    "auc_roc_ord"
   ]
  },
  {
   "cell_type": "markdown",
   "metadata": {},
   "source": [
    "AUC-ROC выше, чем при upsampling. Показатель F1 также выше, чем при увеличении выборки."
   ]
  },
  {
   "cell_type": "code",
   "execution_count": 102,
   "metadata": {},
   "outputs": [
    {
     "name": "stdout",
     "output_type": "stream",
     "text": [
      "Порог = 0.00 | Точность = 0.362, Полнота = 0.725, AUC-ROC = 0.693\n",
      "F1: 0.482484076433121\n",
      "\n",
      "Порог = 0.05 | Точность = 0.362, Полнота = 0.725, AUC-ROC = 0.693\n",
      "F1: 0.482484076433121\n",
      "\n",
      "Порог = 0.10 | Точность = 0.362, Полнота = 0.725, AUC-ROC = 0.693\n",
      "F1: 0.482484076433121\n",
      "\n",
      "Порог = 0.15 | Точность = 0.362, Полнота = 0.725, AUC-ROC = 0.693\n",
      "F1: 0.482484076433121\n",
      "\n",
      "Порог = 0.20 | Точность = 0.362, Полнота = 0.725, AUC-ROC = 0.693\n",
      "F1: 0.482484076433121\n",
      "\n",
      "Порог = 0.25 | Точность = 0.362, Полнота = 0.725, AUC-ROC = 0.693\n",
      "F1: 0.482484076433121\n",
      "\n",
      "Порог = 0.30 | Точность = 0.362, Полнота = 0.725, AUC-ROC = 0.693\n",
      "F1: 0.482484076433121\n",
      "\n",
      "Порог = 0.35 | Точность = 0.362, Полнота = 0.725, AUC-ROC = 0.693\n",
      "F1: 0.482484076433121\n",
      "\n",
      "Порог = 0.40 | Точность = 0.362, Полнота = 0.725, AUC-ROC = 0.693\n",
      "F1: 0.482484076433121\n",
      "\n",
      "Порог = 0.45 | Точность = 0.362, Полнота = 0.725, AUC-ROC = 0.693\n",
      "F1: 0.482484076433121\n",
      "\n",
      "Порог = 0.50 | Точность = 0.362, Полнота = 0.725, AUC-ROC = 0.693\n",
      "F1: 0.482484076433121\n",
      "\n",
      "Порог = 0.55 | Точность = 0.362, Полнота = 0.725, AUC-ROC = 0.693\n",
      "F1: 0.482484076433121\n",
      "\n",
      "Порог = 0.60 | Точность = 0.362, Полнота = 0.725, AUC-ROC = 0.693\n",
      "F1: 0.482484076433121\n",
      "\n",
      "Порог = 0.65 | Точность = 0.362, Полнота = 0.725, AUC-ROC = 0.693\n",
      "F1: 0.482484076433121\n",
      "\n"
     ]
    }
   ],
   "source": [
    "for threshold in np.arange(0, 0.7, 0.05):\n",
    "    predicted_validation_ordinal_downsampled = probabilities_one_valid_ordinal_downsampled > threshold\n",
    "    precision_ordinal_downsampled = precision_score(target_ordinal_valid, predicted_validation_ordinal_downsampled)\n",
    "    recall_ordinal_downsampled = recall_score(target_ordinal_valid, predicted_validation_ordinal_downsampled)\n",
    "    auc_roc_ord = roc_auc_score(target_ordinal_valid, predicted_validation_ordinal_downsampled)\n",
    "    \n",
    "    print(\"Порог = {:.2f} | Точность = {:.3f}, Полнота = {:.3f}, AUC-ROC = {:.3f}\".format(\n",
    "        threshold, precision_ordinal_downsampled, recall_ordinal_downsampled, auc_roc_ord))\n",
    "    print(\"F1:\", f1_score(target_ordinal_valid, predicted_validation_ordinal_downsampled))\n",
    "    print()"
   ]
  },
  {
   "cell_type": "markdown",
   "metadata": {},
   "source": [
    "В данном случае прогнозируемость вероятности класса также не зависит от порога."
   ]
  },
  {
   "cell_type": "markdown",
   "metadata": {
    "pycharm": {
     "name": "#%% md\n"
    }
   },
   "source": [
    "Наши данные снова готовы к обучению. Баланс восстановлен несколькими способами. Посмотрим, какой способ окажется эффективнее."
   ]
  },
  {
   "cell_type": "markdown",
   "metadata": {
    "pycharm": {
     "name": "#%% md\n"
    }
   },
   "source": [
    "### Обучим разные модели и найдем лучшую. Кратко опишем выводы."
   ]
  },
  {
   "cell_type": "markdown",
   "metadata": {},
   "source": [
    "Поскольку результат при уменьшении выборки лучше, возьмем данные из него и попробуем обучить другие модели. Подберем гиперпараметры для дерева решений:"
   ]
  },
  {
   "cell_type": "markdown",
   "metadata": {
    "pycharm": {
     "name": "#%% md\n"
    }
   },
   "source": [
    "Начнем с глубины:"
   ]
  },
  {
   "cell_type": "code",
   "execution_count": 103,
   "metadata": {
    "pycharm": {
     "name": "#%%\n"
    }
   },
   "outputs": [
    {
     "name": "stdout",
     "output_type": "stream",
     "text": [
      "max_depth 1\n",
      "F1: 0.4760456273764258\n",
      "полнота: 0.7488038277511961\n",
      "точность: 0.34894091415830547\n",
      "\n",
      "max_depth 2\n",
      "F1: 0.4921700223713646\n",
      "полнота: 0.7894736842105263\n",
      "точность: 0.35752979414951247\n",
      "\n",
      "max_depth 3\n",
      "F1: 0.4921700223713646\n",
      "полнота: 0.7894736842105263\n",
      "точность: 0.35752979414951247\n",
      "\n",
      "max_depth 4\n",
      "F1: 0.5462478184991274\n",
      "полнота: 0.7488038277511961\n",
      "точность: 0.42994505494505497\n",
      "\n",
      "max_depth 5\n",
      "F1: 0.5283911671924291\n",
      "полнота: 0.8014354066985646\n",
      "точность: 0.3941176470588235\n",
      "\n",
      "max_depth 6\n",
      "F1: 0.49621785173978816\n",
      "полнота: 0.784688995215311\n",
      "точность: 0.36283185840707965\n",
      "\n",
      "max_depth 7\n",
      "F1: 0.5152487961476725\n",
      "полнота: 0.7679425837320574\n",
      "точность: 0.38768115942028986\n",
      "\n",
      "max_depth 8\n",
      "F1: 0.512987012987013\n",
      "полнота: 0.7559808612440191\n",
      "точность: 0.3882063882063882\n",
      "\n",
      "max_depth 9\n",
      "F1: 0.4974958263772955\n",
      "полнота: 0.7129186602870813\n",
      "точность: 0.382051282051282\n",
      "\n",
      "max_depth 10\n",
      "F1: 0.5094185094185094\n",
      "полнота: 0.7440191387559809\n",
      "точность: 0.38729763387297633\n",
      "\n"
     ]
    }
   ],
   "source": [
    "for depth in range(1, 11, 1):\n",
    "\n",
    "    tree_model_downsampled = DecisionTreeClassifier(max_depth=depth, random_state=12345)\n",
    "    tree_model_downsampled.fit(features_ordinal_train_downsampled, target_ordinal_train_downsampled)\n",
    "    predicted_ordinal_valid_downsampled = tree_model_downsampled.predict(features_ordinal_valid)\n",
    "    \n",
    "        \n",
    "    print(\"max_depth {}\".format(depth))\n",
    "    print(\"F1:\", f1_score(target_ordinal_valid, predicted_ordinal_valid_downsampled))\n",
    "    print(\"полнота:\", recall_score(target_ordinal_valid, predicted_ordinal_valid_downsampled))\n",
    "    print(\"точность:\", precision_score(target_ordinal_valid, predicted_ordinal_valid_downsampled))\n",
    "    print()"
   ]
  },
  {
   "cell_type": "markdown",
   "metadata": {},
   "source": [
    "Оптимальная глубина - 4. Посмотрим насчет листьев:"
   ]
  },
  {
   "cell_type": "code",
   "execution_count": 104,
   "metadata": {
    "pycharm": {
     "name": "#%%\n"
    }
   },
   "outputs": [
    {
     "name": "stdout",
     "output_type": "stream",
     "text": [
      "min_samples 2\n",
      "F1: 0.5462478184991274\n",
      "полнота: 0.7488038277511961\n",
      "точность: 0.42994505494505497\n",
      "\n",
      "min_samples 3\n",
      "F1: 0.5462478184991274\n",
      "полнота: 0.7488038277511961\n",
      "точность: 0.42994505494505497\n",
      "\n",
      "min_samples 4\n",
      "F1: 0.5462478184991274\n",
      "полнота: 0.7488038277511961\n",
      "точность: 0.42994505494505497\n",
      "\n",
      "min_samples 5\n",
      "F1: 0.5462478184991274\n",
      "полнота: 0.7488038277511961\n",
      "точность: 0.42994505494505497\n",
      "\n",
      "min_samples 6\n",
      "F1: 0.5462478184991274\n",
      "полнота: 0.7488038277511961\n",
      "точность: 0.42994505494505497\n",
      "\n",
      "min_samples 7\n",
      "F1: 0.5462478184991274\n",
      "полнота: 0.7488038277511961\n",
      "точность: 0.42994505494505497\n",
      "\n",
      "min_samples 8\n",
      "F1: 0.5462478184991274\n",
      "полнота: 0.7488038277511961\n",
      "точность: 0.42994505494505497\n",
      "\n",
      "min_samples 9\n",
      "F1: 0.5462478184991274\n",
      "полнота: 0.7488038277511961\n",
      "точность: 0.42994505494505497\n",
      "\n",
      "min_samples 10\n",
      "F1: 0.5462478184991274\n",
      "полнота: 0.7488038277511961\n",
      "точность: 0.42994505494505497\n",
      "\n"
     ]
    }
   ],
   "source": [
    "for samples in range(2, 11, 1):\n",
    "\n",
    "    tree_model_downsampled = DecisionTreeClassifier(max_depth=4, min_samples_split=samples, random_state=12345)\n",
    "    tree_model_downsampled.fit(features_ordinal_train_downsampled, target_ordinal_train_downsampled)\n",
    "    predicted_ordinal_valid_downsampled = tree_model_downsampled.predict(features_ordinal_valid)\n",
    "    \n",
    "    print(\"min_samples {}\".format(samples))\n",
    "    print(\"F1:\", f1_score(target_ordinal_valid, predicted_ordinal_valid_downsampled))\n",
    "    print(\"полнота:\", recall_score(target_ordinal_valid, predicted_ordinal_valid_downsampled))\n",
    "    print(\"точность:\", precision_score(target_ordinal_valid, predicted_ordinal_valid_downsampled))\n",
    "    print()"
   ]
  },
  {
   "cell_type": "markdown",
   "metadata": {},
   "source": [
    "Параметр min_samples_split не повлиял на показатель F1. Получается, 0.546 - это максимальный показатель F1 для данной модели. Посчитаем показатель AUC-ROC:"
   ]
  },
  {
   "cell_type": "code",
   "execution_count": 105,
   "metadata": {
    "pycharm": {
     "name": "#%%\n"
    }
   },
   "outputs": [
    {
     "data": {
      "text/plain": [
       "0.8139460679050806"
      ]
     },
     "execution_count": 105,
     "metadata": {},
     "output_type": "execute_result"
    }
   ],
   "source": [
    "probabilities_tree_valid = tree_model_downsampled.predict_proba(features_ordinal_valid)\n",
    "probabilities_one_tree_valid = probabilities_tree_valid[:, 1]\n",
    "auc_roc_ord = roc_auc_score(target_ordinal_valid, probabilities_one_tree_valid)\n",
    "auc_roc_ord"
   ]
  },
  {
   "cell_type": "markdown",
   "metadata": {
    "pycharm": {
     "name": "#%% md\n"
    }
   },
   "source": [
    "Это самый высокий показатель AUC-ROC на данный момент."
   ]
  },
  {
   "cell_type": "markdown",
   "metadata": {},
   "source": [
    "Посмотрим на модель **случайного леса**. Обучим ее на уменьшенной выборке (downsampling):"
   ]
  },
  {
   "cell_type": "code",
   "execution_count": 106,
   "metadata": {},
   "outputs": [
    {
     "name": "stdout",
     "output_type": "stream",
     "text": [
      "max_estim = 70 : F1: 0.5555555555555556\n",
      "полнота: 0.7655502392344498\n",
      "точность: 0.4359673024523161\n",
      "\n",
      "max_estim = 80 : F1: 0.5581395348837209\n",
      "полнота: 0.7751196172248804\n",
      "точность: 0.4360699865410498\n",
      "\n",
      "max_estim = 90 : F1: 0.5567010309278351\n",
      "полнота: 0.7751196172248804\n",
      "точность: 0.4343163538873995\n",
      "\n",
      "max_estim = 100 : F1: 0.5613126079447323\n",
      "полнота: 0.777511961722488\n",
      "точность: 0.4391891891891892\n",
      "\n",
      "max_estim = 110 : F1: 0.5593803786574871\n",
      "полнота: 0.777511961722488\n",
      "точность: 0.4368279569892473\n",
      "\n",
      "max_estim = 120 : F1: 0.5576592082616179\n",
      "полнота: 0.7751196172248804\n",
      "точность: 0.43548387096774194\n",
      "\n"
     ]
    }
   ],
   "source": [
    "for estim in range(70, 121, 10):\n",
    "    model_forest = RandomForestClassifier(n_estimators=estim, max_depth=10, random_state=12345)\n",
    "    model_forest.fit(features_ordinal_train_downsampled, target_ordinal_train_downsampled)\n",
    "    predicted_ordinal_valid_forest_downsampled = model_forest.predict(features_ordinal_valid)\n",
    "    \n",
    "    print(\"max_estim =\", estim, \": \", end='')\n",
    "    print(\"F1:\", f1_score(target_ordinal_valid, predicted_ordinal_valid_forest_downsampled))  \n",
    "    print(\"полнота:\", recall_score(target_ordinal_valid, predicted_ordinal_valid_forest_downsampled))\n",
    "    print(\"точность:\", precision_score(target_ordinal_valid, predicted_ordinal_valid_forest_downsampled))\n",
    "    print()"
   ]
  },
  {
   "cell_type": "markdown",
   "metadata": {},
   "source": [
    "Оптимальное количество деревьев - 100. Посмотрим на глубину."
   ]
  },
  {
   "cell_type": "code",
   "execution_count": 107,
   "metadata": {},
   "outputs": [
    {
     "name": "stdout",
     "output_type": "stream",
     "text": [
      "max_depth = 2 : F1: 0.5025792188651438\n",
      "полнота: 0.8157894736842105\n",
      "точность: 0.36315228966986157\n",
      "\n",
      "max_depth = 4 : F1: 0.5447154471544715\n",
      "полнота: 0.8014354066985646\n",
      "точность: 0.4125615763546798\n",
      "\n",
      "max_depth = 6 : F1: 0.566808510638298\n",
      "полнота: 0.7966507177033493\n",
      "точность: 0.43989431968295906\n",
      "\n",
      "max_depth = 8 : F1: 0.5635738831615121\n",
      "полнота: 0.784688995215311\n",
      "точность: 0.43967828418230565\n",
      "\n",
      "max_depth = 10 : F1: 0.5613126079447323\n",
      "полнота: 0.777511961722488\n",
      "точность: 0.4391891891891892\n",
      "\n",
      "max_depth = 12 : F1: 0.5523156089193825\n",
      "полнота: 0.7703349282296651\n",
      "точность: 0.4304812834224599\n",
      "\n",
      "max_depth = 14 : F1: 0.5616438356164384\n",
      "полнота: 0.784688995215311\n",
      "точность: 0.43733333333333335\n",
      "\n",
      "max_depth = 16 : F1: 0.5526537489469251\n",
      "полнота: 0.784688995215311\n",
      "точность: 0.4265279583875163\n",
      "\n",
      "max_depth = 18 : F1: 0.5638389031705227\n",
      "полнота: 0.7870813397129187\n",
      "точность: 0.4392523364485981\n",
      "\n",
      "max_depth = 20 : F1: 0.5623931623931624\n",
      "полнота: 0.7870813397129187\n",
      "точность: 0.4375\n",
      "\n"
     ]
    }
   ],
   "source": [
    "for depth in range(2, 21, 2):\n",
    "    model_forest = RandomForestClassifier(n_estimators=100, max_depth=depth, random_state=12345)\n",
    "    model_forest.fit(features_ordinal_train_downsampled, target_ordinal_train_downsampled)\n",
    "    predicted_ordinal_valid_forest_downsampled = model_forest.predict(features_ordinal_valid)\n",
    "    print(\"max_depth =\", depth, \": \", end='')\n",
    "    print(\"F1:\", f1_score(target_ordinal_valid, predicted_ordinal_valid_forest_downsampled))  \n",
    "    print(\"полнота:\", recall_score(target_ordinal_valid, predicted_ordinal_valid_forest_downsampled))\n",
    "    print(\"точность:\", precision_score(target_ordinal_valid, predicted_ordinal_valid_forest_downsampled))\n",
    "    print()"
   ]
  },
  {
   "cell_type": "markdown",
   "metadata": {},
   "source": [
    "Лучше всего глубина 6. Посмотрим на минимальное количество выборок, необходимое для разделения внутреннего узла:"
   ]
  },
  {
   "cell_type": "code",
   "execution_count": 108,
   "metadata": {
    "pycharm": {
     "name": "#%%\n"
    }
   },
   "outputs": [
    {
     "name": "stdout",
     "output_type": "stream",
     "text": [
      "min_samples = 5 : F1: 0.5709430756159729\n",
      "полнота: 0.8038277511961722\n",
      "точность: 0.4426877470355731\n",
      "\n",
      "min_samples = 6 : F1: 0.5663567202028741\n",
      "полнота: 0.8014354066985646\n",
      "точность: 0.43790849673202614\n",
      "\n",
      "min_samples = 7 : F1: 0.5656223539373412\n",
      "полнота: 0.7990430622009569\n",
      "точность: 0.43774574049803405\n",
      "\n",
      "min_samples = 8 : F1: 0.5658783783783784\n",
      "полнота: 0.8014354066985646\n",
      "точность: 0.43733681462140994\n",
      "\n",
      "min_samples = 9 : F1: 0.5731292517006803\n",
      "полнота: 0.80622009569378\n",
      "точность: 0.4445910290237467\n",
      "\n",
      "min_samples = 10 : F1: 0.5677966101694916\n",
      "полнота: 0.8014354066985646\n",
      "точность: 0.43963254593175854\n",
      "\n",
      "min_samples = 11 : F1: 0.5692567567567567\n",
      "полнота: 0.80622009569378\n",
      "точность: 0.43994778067885115\n",
      "\n",
      "min_samples = 12 : F1: 0.5731191885038038\n",
      "полнота: 0.8110047846889952\n",
      "точность: 0.44313725490196076\n",
      "\n"
     ]
    }
   ],
   "source": [
    "for samples in range(5, 13, 1):\n",
    "    model_forest = RandomForestClassifier(n_estimators=100, max_depth=6, min_samples_split=samples, random_state=12345)\n",
    "    model_forest.fit(features_ordinal_train_downsampled, target_ordinal_train_downsampled)\n",
    "    predicted_ordinal_valid_forest_downsampled = model_forest.predict(features_ordinal_valid)\n",
    "    print(\"min_samples =\", samples, \": \", end='')\n",
    "    print(\"F1:\", f1_score(target_ordinal_valid, predicted_ordinal_valid_forest_downsampled))  \n",
    "    print(\"полнота:\", recall_score(target_ordinal_valid, predicted_ordinal_valid_forest_downsampled))\n",
    "    print(\"точность:\", precision_score(target_ordinal_valid, predicted_ordinal_valid_forest_downsampled))\n",
    "    print()"
   ]
  },
  {
   "cell_type": "markdown",
   "metadata": {
    "pycharm": {
     "name": "#%% md\n"
    }
   },
   "source": [
    "Оптимальное значение min_samples_split для нас = 9."
   ]
  },
  {
   "cell_type": "markdown",
   "metadata": {},
   "source": [
    "Снова обучим модель и попрбуем увеличить порог классификации:"
   ]
  },
  {
   "cell_type": "code",
   "execution_count": 109,
   "metadata": {},
   "outputs": [
    {
     "name": "stdout",
     "output_type": "stream",
     "text": [
      "F1: 0.5731292517006803\n"
     ]
    }
   ],
   "source": [
    "model_forest = RandomForestClassifier(n_estimators=100, max_depth=6, min_samples_split=9, random_state=12345)\n",
    "model_forest.fit(features_ordinal_train_downsampled, target_ordinal_train_downsampled)\n",
    "predicted_ordinal_valid_forest_downsampled = model_forest.predict(features_ordinal_valid)\n",
    "print(\"F1:\", f1_score(target_ordinal_valid, predicted_ordinal_valid_forest_downsampled)) "
   ]
  },
  {
   "cell_type": "code",
   "execution_count": 110,
   "metadata": {
    "pycharm": {
     "name": "#%%\n"
    }
   },
   "outputs": [
    {
     "data": {
      "text/plain": [
       "array([0.16337074, 0.66250892, 0.4450456 , 0.44769925, 0.47187452])"
      ]
     },
     "execution_count": 110,
     "metadata": {},
     "output_type": "execute_result"
    }
   ],
   "source": [
    "probabilities_valid_downsampled_forest = model_forest.predict_proba(features_ordinal_valid)\n",
    "probabilities_one_valid_downsampled_forest = probabilities_valid_downsampled_forest[:, 1]\n",
    "probabilities_one_valid_downsampled_forest[:5]"
   ]
  },
  {
   "cell_type": "code",
   "execution_count": 111,
   "metadata": {},
   "outputs": [
    {
     "data": {
      "text/plain": [
       "0.8471515675754148"
      ]
     },
     "execution_count": 111,
     "metadata": {},
     "output_type": "execute_result"
    }
   ],
   "source": [
    "auc_roc_ord = roc_auc_score(target_ordinal_valid, probabilities_one_valid_downsampled_forest)\n",
    "auc_roc_ord"
   ]
  },
  {
   "cell_type": "code",
   "execution_count": 112,
   "metadata": {
    "pycharm": {
     "name": "#%%\n"
    }
   },
   "outputs": [
    {
     "name": "stdout",
     "output_type": "stream",
     "text": [
      "Порог = 0.55 | Точность = 0.490, Полнота = 0.756\n",
      "F1: 0.5945437441204139\n",
      "AUC-ROC: 0.7740081297370538\n",
      "\n",
      "Порог = 0.56 | Точность = 0.498, Полнота = 0.744\n",
      "F1: 0.5969289827255279\n",
      "AUC-ROC: 0.7730841585056769\n",
      "\n",
      "Порог = 0.57 | Точность = 0.519, Полнота = 0.732\n",
      "F1: 0.6071428571428573\n",
      "AUC-ROC: 0.7762689104095717\n",
      "\n",
      "Порог = 0.58 | Точность = 0.531, Полнота = 0.715\n",
      "F1: 0.6095820591233436\n",
      "AUC-ROC: 0.7742168171837477\n",
      "\n",
      "Порог = 0.59 | Точность = 0.541, Полнота = 0.694\n",
      "F1: 0.6079664570230607\n",
      "AUC-ROC: 0.7691402682087358\n",
      "\n",
      "Порог = 0.60 | Точность = 0.552, Полнота = 0.675\n",
      "F1: 0.6071044133476856\n",
      "AUC-ROC: 0.7649438358567378\n",
      "\n",
      "Порог = 0.61 | Точность = 0.568, Полнота = 0.660\n",
      "F1: 0.6106194690265487\n",
      "AUC-ROC: 0.7637718592539273\n",
      "\n",
      "Порог = 0.62 | Точность = 0.576, Полнота = 0.644\n",
      "F1: 0.607909604519774\n",
      "AUC-ROC: 0.7591913210217822\n",
      "\n",
      "Порог = 0.63 | Точность = 0.590, Полнота = 0.627\n",
      "F1: 0.6078886310904873\n",
      "AUC-ROC: 0.7558750052927976\n",
      "\n",
      "Порог = 0.64 | Точность = 0.606, Полнота = 0.615\n",
      "F1: 0.6104513064133018\n",
      "AUC-ROC: 0.7546349784356305\n",
      "\n",
      "Порог = 0.65 | Точность = 0.610, Полнота = 0.591\n",
      "F1: 0.6002430133657352\n",
      "AUC-ROC: 0.7455177565797034\n",
      "\n",
      "Порог = 0.66 | Точность = 0.616, Полнота = 0.577\n",
      "F1: 0.595797280593325\n",
      "AUC-ROC: 0.7408691680932016\n",
      "\n",
      "Порог = 0.67 | Точность = 0.628, Полнота = 0.562\n",
      "F1: 0.5934343434343433\n",
      "AUC-ROC: 0.7371687464840702\n",
      "\n",
      "Порог = 0.68 | Точность = 0.640, Полнота = 0.553\n",
      "F1: 0.5930680359435174\n",
      "AUC-ROC: 0.7352285581209662\n",
      "\n",
      "Порог = 0.69 | Точность = 0.652, Полнота = 0.538\n",
      "F1: 0.5897771952817824\n",
      "AUC-ROC: 0.7312120808860446\n",
      "\n",
      "Порог = 0.70 | Точность = 0.671, Полнота = 0.536\n",
      "F1: 0.5957446808510638\n",
      "AUC-ROC: 0.7331764648951422\n",
      "\n"
     ]
    }
   ],
   "source": [
    "for threshold in np.arange(0.55, 0.71, 0.01):\n",
    "    predicted_validation_downsampled_forest = probabilities_one_valid_downsampled_forest > threshold\n",
    "    precision_ordinal_downsampled_forest = precision_score(target_ordinal_valid, predicted_validation_downsampled_forest)\n",
    "    recall_ordinal_downsampled_forest = recall_score(target_ordinal_valid, predicted_validation_downsampled_forest)\n",
    "        \n",
    "    print(\"Порог = {:.2f} | Точность = {:.3f}, Полнота = {:.3f}\".format(\n",
    "        threshold, precision_ordinal_downsampled_forest, recall_ordinal_downsampled_forest))\n",
    "    print(\"F1:\", f1_score(target_ordinal_valid, predicted_validation_downsampled_forest))\n",
    "    print(\"AUC-ROC:\", roc_auc_score(target_ordinal_valid, predicted_validation_downsampled_forest))\n",
    "    print()"
   ]
  },
  {
   "cell_type": "markdown",
   "metadata": {},
   "source": [
    "Мы достигли цели в 0.59. При применении порога = 0.61 наше значение F1 на валидационной выборке составит чуть более 0.610. Применим порог:"
   ]
  },
  {
   "cell_type": "code",
   "execution_count": 113,
   "metadata": {},
   "outputs": [
    {
     "name": "stdout",
     "output_type": "stream",
     "text": [
      "Порог = 0.70 | Точность = 0.568, Полнота = 0.660\n",
      "F1: 0.6106194690265487\n",
      "AUC-ROC: 0.7637718592539273\n"
     ]
    }
   ],
   "source": [
    "model_forest = RandomForestClassifier(n_estimators=100, max_depth=6, min_samples_split=9, random_state=12345)\n",
    "\n",
    "model_forest.fit(features_ordinal_train_downsampled, target_ordinal_train_downsampled)\n",
    "predicted_validation_downsampled_forest = probabilities_one_valid_downsampled_forest > 0.61\n",
    "precision_ordinal_downsampled_forest = precision_score(target_ordinal_valid, predicted_validation_downsampled_forest)\n",
    "recall_ordinal_downsampled_forest = recall_score(target_ordinal_valid, predicted_validation_downsampled_forest)\n",
    "\n",
    "print(\"Порог = {:.2f} | Точность = {:.3f}, Полнота = {:.3f}\".format(\n",
    "    threshold, precision_ordinal_downsampled_forest, recall_ordinal_downsampled_forest))\n",
    "print(\"F1:\", f1_score(target_ordinal_valid, predicted_validation_downsampled_forest)) \n",
    "print(\"AUC-ROC:\", roc_auc_score(target_ordinal_valid, predicted_validation_downsampled_forest))"
   ]
  },
  {
   "cell_type": "markdown",
   "metadata": {
    "pycharm": {
     "name": "#%% md\n"
    }
   },
   "source": [
    "Наша модель готова. Теперь остается только посмотреть, насколько сильно наша модель отличается от случайной. Для этого проведем кривую ROC, а чтобы облачить наш график в число, тем самы сделав его нагляднее, посчитаем площадь под ROC-кривой — AUC-ROC: "
   ]
  },
  {
   "cell_type": "code",
   "execution_count": 114,
   "metadata": {},
   "outputs": [
    {
     "data": {
      "image/png": "[encoded data removed]",
      "text/plain": [
       "<Figure size 432x288 with 1 Axes>"
      ]
     },
     "metadata": {
      "needs_background": "light"
     },
     "output_type": "display_data"
    }
   ],
   "source": [
    "fpr, tpr, thresholds = roc_curve(target_ordinal_valid, predicted_validation_downsampled_forest)\n",
    "plt.figure()\n",
    "\n",
    "plt.plot(fpr, tpr, label = 'Модель RandomForestClassifier')\n",
    "\n",
    "plt.plot([0, 1], [0, 1], linestyle='--', label = 'Случайная модель')\n",
    "\n",
    "plt.xlim([0.0, 1.0])\n",
    "plt.ylim([0.0, 1.0])\n",
    "\n",
    "plt.xlabel('False Positive Rate')\n",
    "plt.ylabel('True Positive Rate')\n",
    "\n",
    "plt.title('ROC-кривая')\n",
    "\n",
    "plt.legend()\n",
    "\n",
    "plt.show()"
   ]
  },
  {
   "cell_type": "markdown",
   "metadata": {
    "pycharm": {
     "name": "#%% md\n"
    }
   },
   "source": [
    "На нашем графике отчетливо видно, что модель RandomForestClassifier располагается выше случайной и имеет бОльшую площадь под своей кривой. Чем график выше, тем больше значение TPR и лучше качество модели, а чтобы выявить, как сильно наша модель отличается от случайной, посчитаем площадь под ROC-кривой — AUC-ROC. Показатель AUC-ROC случайной модели равен 0.5, показатель же нашей модели:"
   ]
  },
  {
   "cell_type": "code",
   "execution_count": 115,
   "metadata": {
    "pycharm": {
     "name": "#%%\n"
    }
   },
   "outputs": [
    {
     "data": {
      "text/plain": [
       "0.7637718592539273"
      ]
     },
     "execution_count": 115,
     "metadata": {},
     "output_type": "execute_result"
    }
   ],
   "source": [
    "auc_roc = roc_auc_score(target_ordinal_valid, predicted_validation_downsampled_forest)\n",
    "auc_roc"
   ]
  },
  {
   "cell_type": "markdown",
   "metadata": {
    "pycharm": {
     "name": "#%% md\n"
    }
   },
   "source": [
    "В идеале показатель auc_roc должен быть равен 1, однако даже значение 0,763 уже неплохой результат. Особенно в сравнении с показателем случайной модели."
   ]
  },
  {
   "cell_type": "markdown",
   "metadata": {},
   "source": [
    "Случайный лес, обученный на увеличенной выборке (upsampling):"
   ]
  },
  {
   "cell_type": "code",
   "execution_count": 116,
   "metadata": {},
   "outputs": [
    {
     "name": "stdout",
     "output_type": "stream",
     "text": [
      "max_estim = 70 : F1: 0.5981308411214954\n",
      "полнота: 0.5358851674641149\n",
      "точность: 0.676737160120846\n",
      "\n",
      "max_estim = 80 : F1: 0.5954606141522029\n",
      "полнота: 0.5334928229665071\n",
      "точность: 0.6737160120845922\n",
      "\n",
      "max_estim = 90 : F1: 0.6050870147255689\n",
      "полнота: 0.5406698564593302\n",
      "точность: 0.6869300911854104\n",
      "\n",
      "max_estim = 100 : F1: 0.6040268456375839\n",
      "полнота: 0.5382775119617225\n",
      "точность: 0.6880733944954128\n",
      "\n",
      "max_estim = 110 : F1: 0.6005361930294907\n",
      "полнота: 0.5358851674641149\n",
      "точность: 0.6829268292682927\n",
      "\n",
      "max_estim = 120 : F1: 0.6083445491251683\n",
      "полнота: 0.5406698564593302\n",
      "точность: 0.6953846153846154\n",
      "\n"
     ]
    }
   ],
   "source": [
    "for estim in range(70, 121, 10):\n",
    "    model_forest_upsampling = RandomForestClassifier(n_estimators=estim, random_state=12345)\n",
    "    model_forest_upsampling.fit(features_ordinal_train_upsampled, target_ordinal_train_upsampled)\n",
    "    predicted_ordinal_valid_forest_upsampled = model_forest_upsampling.predict(features_ordinal_valid)\n",
    "    \n",
    "    print(\"max_estim =\", estim, \": \", end='')\n",
    "    print(\"F1:\", f1_score(target_ordinal_valid, predicted_ordinal_valid_forest_upsampled))  \n",
    "    print(\"полнота:\", recall_score(target_ordinal_valid, predicted_ordinal_valid_forest_upsampled))\n",
    "    print(\"точность:\", precision_score(target_ordinal_valid, predicted_ordinal_valid_forest_upsampled))\n",
    "    print()"
   ]
  },
  {
   "cell_type": "markdown",
   "metadata": {},
   "source": [
    "Возьмем 110 деревьев. Дальше посмотрим глубину:"
   ]
  },
  {
   "cell_type": "code",
   "execution_count": 117,
   "metadata": {},
   "outputs": [
    {
     "name": "stdout",
     "output_type": "stream",
     "text": [
      "max_depth = 2 : F1: 0.5670498084291188\n",
      "полнота: 0.7081339712918661\n",
      "точность: 0.4728434504792332\n",
      "\n",
      "max_depth = 4 : F1: 0.5978578383641676\n",
      "полнота: 0.7344497607655502\n",
      "точность: 0.5041050903119869\n",
      "\n",
      "max_depth = 6 : F1: 0.6213197969543147\n",
      "полнота: 0.7320574162679426\n",
      "точность: 0.5396825396825397\n",
      "\n",
      "max_depth = 8 : F1: 0.6214807090719499\n",
      "полнота: 0.7129186602870813\n",
      "точность: 0.5508317929759704\n",
      "\n",
      "max_depth = 10 : F1: 0.6136865342163356\n",
      "полнота: 0.6650717703349283\n",
      "точность: 0.569672131147541\n",
      "\n",
      "max_depth = 12 : F1: 0.606714628297362\n",
      "полнота: 0.6052631578947368\n",
      "точность: 0.6081730769230769\n",
      "\n",
      "max_depth = 14 : F1: 0.6113207547169811\n",
      "полнота: 0.5813397129186603\n",
      "точность: 0.6445623342175066\n",
      "\n",
      "max_depth = 16 : F1: 0.6036745406824147\n",
      "полнота: 0.5502392344497608\n",
      "точность: 0.6686046511627907\n",
      "\n",
      "max_depth = 18 : F1: 0.6044678055190538\n",
      "полнота: 0.5502392344497608\n",
      "точность: 0.6705539358600583\n",
      "\n",
      "max_depth = 20 : F1: 0.6055776892430279\n",
      "полнота: 0.5454545454545454\n",
      "точность: 0.6805970149253732\n",
      "\n"
     ]
    }
   ],
   "source": [
    "for depth in range(2, 21, 2):\n",
    "    model_forest_upsampling = RandomForestClassifier(n_estimators=110, max_depth=depth, random_state=12345)\n",
    "    model_forest_upsampling.fit(features_ordinal_train_upsampled, target_ordinal_train_upsampled)\n",
    "    predicted_ordinal_valid_forest_upsampled = model_forest_upsampling.predict(features_ordinal_valid)\n",
    "    \n",
    "    print(\"max_depth =\", depth, \": \", end='')\n",
    "    print(\"F1:\", f1_score(target_ordinal_valid, predicted_ordinal_valid_forest_upsampled))  \n",
    "    print(\"полнота:\", recall_score(target_ordinal_valid, predicted_ordinal_valid_forest_upsampled))\n",
    "    print(\"точность:\", precision_score(target_ordinal_valid, predicted_ordinal_valid_forest_upsampled))\n",
    "    print()"
   ]
  },
  {
   "cell_type": "markdown",
   "metadata": {},
   "source": [
    "Зададим глубину = 8. Количество листьев?"
   ]
  },
  {
   "cell_type": "code",
   "execution_count": 118,
   "metadata": {
    "pycharm": {
     "name": "#%%\n"
    }
   },
   "outputs": [
    {
     "name": "stdout",
     "output_type": "stream",
     "text": [
      "max_samples = 2 : F1: 0.6214807090719499\n",
      "полнота: 0.7129186602870813\n",
      "точность: 0.5508317929759704\n",
      "\n",
      "max_samples = 4 : F1: 0.6197478991596639\n",
      "полнота: 0.7057416267942583\n",
      "точность: 0.552434456928839\n",
      "\n",
      "max_samples = 6 : F1: 0.6141078838174273\n",
      "полнота: 0.7081339712918661\n",
      "точность: 0.5421245421245421\n",
      "\n",
      "max_samples = 8 : F1: 0.6086065573770492\n",
      "полнота: 0.7105263157894737\n",
      "точность: 0.532258064516129\n",
      "\n",
      "max_samples = 10 : F1: 0.6080661840744571\n",
      "полнота: 0.7033492822966507\n",
      "точность: 0.5355191256830601\n",
      "\n"
     ]
    }
   ],
   "source": [
    "for samples in range(2, 11, 2):\n",
    "    model_forest_upsampling = RandomForestClassifier(n_estimators=110, max_depth=8, min_samples_split=samples, random_state=12345)\n",
    "    model_forest_upsampling.fit(features_ordinal_train_upsampled, target_ordinal_train_upsampled)\n",
    "    predicted_ordinal_valid_forest_upsampled = model_forest_upsampling.predict(features_ordinal_valid)\n",
    "    \n",
    "    print(\"max_samples =\", samples, \": \", end='')\n",
    "    print(\"F1:\", f1_score(target_ordinal_valid, predicted_ordinal_valid_forest_upsampled))  \n",
    "    print(\"полнота:\", recall_score(target_ordinal_valid, predicted_ordinal_valid_forest_upsampled))\n",
    "    print(\"точность:\", precision_score(target_ordinal_valid, predicted_ordinal_valid_forest_upsampled))\n",
    "    print()"
   ]
  },
  {
   "cell_type": "markdown",
   "metadata": {
    "pycharm": {
     "name": "#%% md\n"
    }
   },
   "source": [
    "Оптимальное значение min_samples_split=2. Мы уже достигли цели в 0.59. Обучим модель и посмотрим, что можно сделать с порогом:"
   ]
  },
  {
   "cell_type": "code",
   "execution_count": 119,
   "metadata": {
    "pycharm": {
     "name": "#%%\n"
    }
   },
   "outputs": [
    {
     "name": "stdout",
     "output_type": "stream",
     "text": [
      "F1: 0.6214807090719499\n",
      "полнота: 0.7129186602870813\n",
      "точность: 0.5508317929759704\n",
      "\n"
     ]
    }
   ],
   "source": [
    "model_forest_upsampling = RandomForestClassifier(n_estimators=110, max_depth=8, random_state=12345)\n",
    "model_forest_upsampling.fit(features_ordinal_train_upsampled, target_ordinal_train_upsampled)\n",
    "predicted_ordinal_valid_forest_upsampled = model_forest_upsampling.predict(features_ordinal_valid)\n",
    "\n",
    "print(\"F1:\", f1_score(target_ordinal_valid, predicted_ordinal_valid_forest_upsampled))  \n",
    "print(\"полнота:\", recall_score(target_ordinal_valid, predicted_ordinal_valid_forest_upsampled))\n",
    "print(\"точность:\", precision_score(target_ordinal_valid, predicted_ordinal_valid_forest_upsampled))\n",
    "print()"
   ]
  },
  {
   "cell_type": "code",
   "execution_count": 120,
   "metadata": {},
   "outputs": [
    {
     "data": {
      "text/plain": [
       "array([0.11123225, 0.66357891, 0.4303839 , 0.27092169, 0.15986377])"
      ]
     },
     "execution_count": 120,
     "metadata": {},
     "output_type": "execute_result"
    }
   ],
   "source": [
    "probabilities_valid_upsampled_forest = model_forest_upsampling.predict_proba(features_ordinal_valid)\n",
    "probabilities_one_valid_upsampled_forest = probabilities_valid_upsampled_forest[:, 1]\n",
    "probabilities_one_valid_upsampled_forest[:5]"
   ]
  },
  {
   "cell_type": "code",
   "execution_count": 121,
   "metadata": {
    "pycharm": {
     "name": "#%%\n"
    }
   },
   "outputs": [
    {
     "data": {
      "text/plain": [
       "0.8507007663970868"
      ]
     },
     "execution_count": 121,
     "metadata": {},
     "output_type": "execute_result"
    }
   ],
   "source": [
    "auc_roc_ord = roc_auc_score(target_ordinal_valid, probabilities_one_valid_upsampled_forest)\n",
    "auc_roc_ord"
   ]
  },
  {
   "cell_type": "markdown",
   "metadata": {
    "pycharm": {
     "name": "#%% md\n"
    }
   },
   "source": [
    "Здесь показатель выше, чем при обучении модели на выборке downsampling."
   ]
  },
  {
   "cell_type": "code",
   "execution_count": 122,
   "metadata": {
    "pycharm": {
     "name": "#%%\n"
    }
   },
   "outputs": [
    {
     "name": "stdout",
     "output_type": "stream",
     "text": [
      "Порог = 0.55 | Точность = 0.602, Полнота = 0.658\n",
      "F1: 0.6285714285714286\n",
      "AUC-ROC: 0.7714252445272474\n",
      "\n",
      "Порог = 0.56 | Точность = 0.614, Полнота = 0.651\n",
      "F1: 0.6318234610917537\n",
      "AUC-ROC: 0.7713133396645273\n",
      "\n",
      "Порог = 0.57 | Точность = 0.628, Полнота = 0.627\n",
      "F1: 0.6275449101796406\n",
      "AUC-ROC: 0.7644085071891313\n",
      "\n",
      "Порог = 0.58 | Точность = 0.639, Полнота = 0.615\n",
      "F1: 0.626829268292683\n",
      "AUC-ROC: 0.7615882022030137\n",
      "\n",
      "Порог = 0.59 | Точность = 0.646, Полнота = 0.598\n",
      "F1: 0.6211180124223602\n",
      "AUC-ROC: 0.755743441467708\n",
      "\n",
      "Порог = 0.60 | Точность = 0.650, Полнота = 0.577\n",
      "F1: 0.6108998732572878\n",
      "AUC-ROC: 0.7471902806090044\n",
      "\n",
      "Порог = 0.61 | Точность = 0.652, Полнота = 0.560\n",
      "F1: 0.6023166023166023\n",
      "AUC-ROC: 0.7403973529963281\n",
      "\n",
      "Порог = 0.62 | Точность = 0.665, Полнота = 0.550\n",
      "F1: 0.6020942408376964\n",
      "AUC-ROC: 0.7384571646332243\n",
      "\n",
      "Порог = 0.63 | Точность = 0.674, Полнота = 0.538\n",
      "F1: 0.5984042553191489\n",
      "AUC-ROC: 0.734688692769736\n",
      "\n",
      "Порог = 0.64 | Точность = 0.687, Полнота = 0.531\n",
      "F1: 0.5991902834008097\n",
      "AUC-ROC: 0.7336286210296457\n",
      "\n",
      "Порог = 0.65 | Точность = 0.701, Полнота = 0.522\n",
      "F1: 0.598079561042524\n",
      "AUC-ROC: 0.7313723770407514\n",
      "\n",
      "Порог = 0.66 | Точность = 0.720, Полнота = 0.505\n",
      "F1: 0.5935302390998595\n",
      "AUC-ROC: 0.7264757831828164\n",
      "\n",
      "Порог = 0.67 | Точность = 0.725, Полнота = 0.493\n",
      "F1: 0.586894586894587\n",
      "AUC-ROC: 0.7217591444419577\n",
      "\n",
      "Порог = 0.68 | Точность = 0.736, Полнота = 0.474\n",
      "F1: 0.576419213973799\n",
      "AUC-ROC: 0.714402155832058\n",
      "\n",
      "Порог = 0.69 | Точность = 0.747, Полнота = 0.452\n",
      "F1: 0.563338301043219\n",
      "AUC-ROC: 0.7058489949733545\n",
      "\n",
      "Порог = 0.70 | Точность = 0.758, Полнота = 0.435\n",
      "F1: 0.5531914893617021\n",
      "AUC-ROC: 0.6993721229864686\n",
      "\n"
     ]
    }
   ],
   "source": [
    "for threshold in np.arange(0.55, 0.71, 0.01):\n",
    "    predicted_validation_upsampled_forest = probabilities_one_valid_upsampled_forest > threshold\n",
    "    precision_ordinal_upsampled_forest = precision_score(target_ordinal_valid, predicted_validation_upsampled_forest)\n",
    "    recall_ordinal_upsampled_forest = recall_score(target_ordinal_valid, predicted_validation_upsampled_forest)\n",
    "        \n",
    "    print(\"Порог = {:.2f} | Точность = {:.3f}, Полнота = {:.3f}\".format(\n",
    "        threshold, precision_ordinal_upsampled_forest, recall_ordinal_upsampled_forest))\n",
    "    print(\"F1:\", f1_score(target_ordinal_valid, predicted_validation_upsampled_forest))\n",
    "    print(\"AUC-ROC:\", roc_auc_score(target_ordinal_valid, predicted_validation_upsampled_forest))\n",
    "    print()"
   ]
  },
  {
   "cell_type": "markdown",
   "metadata": {
    "pycharm": {
     "name": "#%% md\n"
    }
   },
   "source": [
    "При применении порога = 0.56 наше значение F1 на валидационной выборке составит порядка 0.632. Применим порог:"
   ]
  },
  {
   "cell_type": "code",
   "execution_count": 123,
   "metadata": {},
   "outputs": [
    {
     "name": "stdout",
     "output_type": "stream",
     "text": [
      "Порог = 0.56 | Точность = 0.614, Полнота = 0.651\n",
      "F1: 0.6318234610917537\n",
      "AUC-ROC: 0.7713133396645273\n",
      "\n"
     ]
    }
   ],
   "source": [
    "model_forest_upsampling = RandomForestClassifier(n_estimators=110, max_depth=8, random_state=12345)\n",
    "model_forest_upsampling.fit(features_ordinal_train_upsampled, target_ordinal_train_upsampled)\n",
    "predicted_ordinal_valid_forest_upsampled = probabilities_one_valid_upsampled_forest > 0.56\n",
    "\n",
    "precision_ordinal_upsampled_forest = precision_score(target_ordinal_valid, predicted_ordinal_valid_forest_upsampled)\n",
    "recall_ordinal_upsampled_forest = recall_score(target_ordinal_valid, predicted_ordinal_valid_forest_upsampled)\n",
    "\n",
    "print(\"Порог = 0.56 | Точность = {:.3f}, Полнота = {:.3f}\".format(\n",
    "    precision_ordinal_upsampled_forest, recall_ordinal_upsampled_forest))\n",
    "print(\"F1:\", f1_score(target_ordinal_valid, predicted_ordinal_valid_forest_upsampled))\n",
    "print(\"AUC-ROC:\", roc_auc_score(target_ordinal_valid, predicted_ordinal_valid_forest_upsampled))\n",
    "print()"
   ]
  },
  {
   "cell_type": "markdown",
   "metadata": {
    "pycharm": {
     "name": "#%% md\n"
    }
   },
   "source": [
    "И AUC-ROC выше, чем в предыдущей модели, и F1. Нарисуем ROC-кривую:"
   ]
  },
  {
   "cell_type": "code",
   "execution_count": 124,
   "metadata": {
    "pycharm": {
     "name": "#%%\n"
    }
   },
   "outputs": [
    {
     "data": {
      "image/png": "[encoded data removed]",
      "text/plain": [
       "<Figure size 432x288 with 1 Axes>"
      ]
     },
     "metadata": {
      "needs_background": "light"
     },
     "output_type": "display_data"
    }
   ],
   "source": [
    "fpr, tpr, thresholds = roc_curve(target_ordinal_valid, predicted_ordinal_valid_forest_upsampled)\n",
    "plt.figure()\n",
    "\n",
    "plt.plot(fpr, tpr, label = 'Модель RandomForestClassifier, upsampling')\n",
    "\n",
    "plt.plot([0, 1], [0, 1], linestyle='--', label = 'Случайная модель')\n",
    "\n",
    "plt.xlim([0.0, 1.0])\n",
    "plt.ylim([0.0, 1.0])\n",
    "\n",
    "plt.xlabel('False Positive Rate')\n",
    "plt.ylabel('True Positive Rate')\n",
    "\n",
    "plt.title('ROC-кривая')\n",
    "\n",
    "plt.legend()\n",
    "\n",
    "plt.show()"
   ]
  },
  {
   "cell_type": "markdown",
   "metadata": {
    "pycharm": {
     "name": "#%% md\n"
    }
   },
   "source": [
    "Можем тестировать нашу модель."
   ]
  },
  {
   "cell_type": "markdown",
   "metadata": {},
   "source": [
    "# 4. Тестирование модели"
   ]
  },
  {
   "cell_type": "code",
   "execution_count": 125,
   "metadata": {},
   "outputs": [
    {
     "name": "stdout",
     "output_type": "stream",
     "text": [
      "F1: 0.5957011258955988\n"
     ]
    }
   ],
   "source": [
    "predicted_test = model_forest_upsampling.predict(features_ordinal_test)\n",
    "print(\"F1:\", f1_score(target_ordinal_test, predicted_test))"
   ]
  },
  {
   "cell_type": "code",
   "execution_count": 126,
   "metadata": {
    "pycharm": {
     "name": "#%%\n"
    }
   },
   "outputs": [
    {
     "name": "stdout",
     "output_type": "stream",
     "text": [
      "0.6879432624113475\n"
     ]
    }
   ],
   "source": [
    "print(recall_score(target_ordinal_test, predicted_test))"
   ]
  },
  {
   "cell_type": "code",
   "execution_count": 127,
   "metadata": {},
   "outputs": [
    {
     "name": "stdout",
     "output_type": "stream",
     "text": [
      "0.5252707581227437\n"
     ]
    }
   ],
   "source": [
    "print(precision_score(target_ordinal_test, predicted_test))"
   ]
  },
  {
   "cell_type": "markdown",
   "metadata": {
    "pycharm": {
     "name": "#%% md\n"
    }
   },
   "source": [
    "При максимальном значении F1 = 0.631, достигнутом нами при обучении модели, значение на тестовой выборке составило F1 = 0.595. Модель на тестовой выборке с заданием справилась."
   ]
  }
 ],
 "metadata": {
  "kernelspec": {
   "display_name": "Python 3",
   "language": "python",
   "name": "python3"
  },
  "language_info": {
   "codemirror_mode": {
    "name": "ipython",
    "version": 3
   },
   "file_extension": ".py",
   "mimetype": "text/x-python",
   "name": "python",
   "nbconvert_exporter": "python",
   "pygments_lexer": "ipython3",
   "version": "3.7.3"
  }
 },
 "nbformat": 4,
 "nbformat_minor": 2
}